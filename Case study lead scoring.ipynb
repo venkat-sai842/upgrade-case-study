{
 "cells": [
  {
   "cell_type": "code",
   "execution_count": 2,
   "metadata": {},
   "outputs": [],
   "source": [
    "# Supress Warnings\n",
    "import warnings\n",
    "warnings.filterwarnings('ignore')"
   ]
  },
  {
   "cell_type": "code",
   "execution_count": 3,
   "metadata": {},
   "outputs": [],
   "source": [
    "import pandas as pd\n",
    "import numpy as np \n",
    "import seaborn as sns\n",
    "import matplotlib.pyplot as plt\n",
    "from sklearn.model_selection import train_test_split\n",
    "from sklearn.preprocessing import StandardScaler\n",
    "from sklearn.linear_model import LogisticRegression\n",
    "from sklearn.model_selection import train_test_split\n",
    "\n",
    "from sklearn.feature_selection import RFE\n",
    "from statsmodels.stats.outliers_influence import variance_inflation_factor\n",
    "import statsmodels.api as sm\n",
    "from sklearn import metrics\n",
    "from sklearn.metrics import precision_score, recall_score\n",
    "from sklearn.metrics import precision_recall_curve\n",
    "pd.set_option('display.max_columns',False)"
   ]
  },
  {
   "cell_type": "markdown",
   "metadata": {},
   "source": [
    "## Step 1 : Reading and Understanding the Data"
   ]
  },
  {
   "cell_type": "code",
   "execution_count": 4,
   "metadata": {},
   "outputs": [
    {
     "data": {
      "text/html": [
       "<div>\n",
       "<style scoped>\n",
       "    .dataframe tbody tr th:only-of-type {\n",
       "        vertical-align: middle;\n",
       "    }\n",
       "\n",
       "    .dataframe tbody tr th {\n",
       "        vertical-align: top;\n",
       "    }\n",
       "\n",
       "    .dataframe thead th {\n",
       "        text-align: right;\n",
       "    }\n",
       "</style>\n",
       "<table border=\"1\" class=\"dataframe\">\n",
       "  <thead>\n",
       "    <tr style=\"text-align: right;\">\n",
       "      <th></th>\n",
       "      <th>Prospect ID</th>\n",
       "      <th>Lead Number</th>\n",
       "      <th>Lead Origin</th>\n",
       "      <th>Lead Source</th>\n",
       "      <th>Do Not Email</th>\n",
       "      <th>Do Not Call</th>\n",
       "      <th>Converted</th>\n",
       "      <th>TotalVisits</th>\n",
       "      <th>Total Time Spent on Website</th>\n",
       "      <th>Page Views Per Visit</th>\n",
       "      <th>Last Activity</th>\n",
       "      <th>Country</th>\n",
       "      <th>Specialization</th>\n",
       "      <th>How did you hear about X Education</th>\n",
       "      <th>What is your current occupation</th>\n",
       "      <th>What matters most to you in choosing a course</th>\n",
       "      <th>Search</th>\n",
       "      <th>Magazine</th>\n",
       "      <th>Newspaper Article</th>\n",
       "      <th>X Education Forums</th>\n",
       "      <th>Newspaper</th>\n",
       "      <th>Digital Advertisement</th>\n",
       "      <th>Through Recommendations</th>\n",
       "      <th>Receive More Updates About Our Courses</th>\n",
       "      <th>Tags</th>\n",
       "      <th>Lead Quality</th>\n",
       "      <th>Update me on Supply Chain Content</th>\n",
       "      <th>Get updates on DM Content</th>\n",
       "      <th>Lead Profile</th>\n",
       "      <th>City</th>\n",
       "      <th>Asymmetrique Activity Index</th>\n",
       "      <th>Asymmetrique Profile Index</th>\n",
       "      <th>Asymmetrique Activity Score</th>\n",
       "      <th>Asymmetrique Profile Score</th>\n",
       "      <th>I agree to pay the amount through cheque</th>\n",
       "      <th>A free copy of Mastering The Interview</th>\n",
       "      <th>Last Notable Activity</th>\n",
       "    </tr>\n",
       "  </thead>\n",
       "  <tbody>\n",
       "    <tr>\n",
       "      <th>0</th>\n",
       "      <td>7927b2df-8bba-4d29-b9a2-b6e0beafe620</td>\n",
       "      <td>660737</td>\n",
       "      <td>API</td>\n",
       "      <td>Olark Chat</td>\n",
       "      <td>No</td>\n",
       "      <td>No</td>\n",
       "      <td>0</td>\n",
       "      <td>0.0</td>\n",
       "      <td>0</td>\n",
       "      <td>0.0</td>\n",
       "      <td>Page Visited on Website</td>\n",
       "      <td>NaN</td>\n",
       "      <td>Select</td>\n",
       "      <td>Select</td>\n",
       "      <td>Unemployed</td>\n",
       "      <td>Better Career Prospects</td>\n",
       "      <td>No</td>\n",
       "      <td>No</td>\n",
       "      <td>No</td>\n",
       "      <td>No</td>\n",
       "      <td>No</td>\n",
       "      <td>No</td>\n",
       "      <td>No</td>\n",
       "      <td>No</td>\n",
       "      <td>Interested in other courses</td>\n",
       "      <td>Low in Relevance</td>\n",
       "      <td>No</td>\n",
       "      <td>No</td>\n",
       "      <td>Select</td>\n",
       "      <td>Select</td>\n",
       "      <td>02.Medium</td>\n",
       "      <td>02.Medium</td>\n",
       "      <td>15.0</td>\n",
       "      <td>15.0</td>\n",
       "      <td>No</td>\n",
       "      <td>No</td>\n",
       "      <td>Modified</td>\n",
       "    </tr>\n",
       "    <tr>\n",
       "      <th>1</th>\n",
       "      <td>2a272436-5132-4136-86fa-dcc88c88f482</td>\n",
       "      <td>660728</td>\n",
       "      <td>API</td>\n",
       "      <td>Organic Search</td>\n",
       "      <td>No</td>\n",
       "      <td>No</td>\n",
       "      <td>0</td>\n",
       "      <td>5.0</td>\n",
       "      <td>674</td>\n",
       "      <td>2.5</td>\n",
       "      <td>Email Opened</td>\n",
       "      <td>India</td>\n",
       "      <td>Select</td>\n",
       "      <td>Select</td>\n",
       "      <td>Unemployed</td>\n",
       "      <td>Better Career Prospects</td>\n",
       "      <td>No</td>\n",
       "      <td>No</td>\n",
       "      <td>No</td>\n",
       "      <td>No</td>\n",
       "      <td>No</td>\n",
       "      <td>No</td>\n",
       "      <td>No</td>\n",
       "      <td>No</td>\n",
       "      <td>Ringing</td>\n",
       "      <td>NaN</td>\n",
       "      <td>No</td>\n",
       "      <td>No</td>\n",
       "      <td>Select</td>\n",
       "      <td>Select</td>\n",
       "      <td>02.Medium</td>\n",
       "      <td>02.Medium</td>\n",
       "      <td>15.0</td>\n",
       "      <td>15.0</td>\n",
       "      <td>No</td>\n",
       "      <td>No</td>\n",
       "      <td>Email Opened</td>\n",
       "    </tr>\n",
       "    <tr>\n",
       "      <th>2</th>\n",
       "      <td>8cc8c611-a219-4f35-ad23-fdfd2656bd8a</td>\n",
       "      <td>660727</td>\n",
       "      <td>Landing Page Submission</td>\n",
       "      <td>Direct Traffic</td>\n",
       "      <td>No</td>\n",
       "      <td>No</td>\n",
       "      <td>1</td>\n",
       "      <td>2.0</td>\n",
       "      <td>1532</td>\n",
       "      <td>2.0</td>\n",
       "      <td>Email Opened</td>\n",
       "      <td>India</td>\n",
       "      <td>Business Administration</td>\n",
       "      <td>Select</td>\n",
       "      <td>Student</td>\n",
       "      <td>Better Career Prospects</td>\n",
       "      <td>No</td>\n",
       "      <td>No</td>\n",
       "      <td>No</td>\n",
       "      <td>No</td>\n",
       "      <td>No</td>\n",
       "      <td>No</td>\n",
       "      <td>No</td>\n",
       "      <td>No</td>\n",
       "      <td>Will revert after reading the email</td>\n",
       "      <td>Might be</td>\n",
       "      <td>No</td>\n",
       "      <td>No</td>\n",
       "      <td>Potential Lead</td>\n",
       "      <td>Mumbai</td>\n",
       "      <td>02.Medium</td>\n",
       "      <td>01.High</td>\n",
       "      <td>14.0</td>\n",
       "      <td>20.0</td>\n",
       "      <td>No</td>\n",
       "      <td>Yes</td>\n",
       "      <td>Email Opened</td>\n",
       "    </tr>\n",
       "    <tr>\n",
       "      <th>3</th>\n",
       "      <td>0cc2df48-7cf4-4e39-9de9-19797f9b38cc</td>\n",
       "      <td>660719</td>\n",
       "      <td>Landing Page Submission</td>\n",
       "      <td>Direct Traffic</td>\n",
       "      <td>No</td>\n",
       "      <td>No</td>\n",
       "      <td>0</td>\n",
       "      <td>1.0</td>\n",
       "      <td>305</td>\n",
       "      <td>1.0</td>\n",
       "      <td>Unreachable</td>\n",
       "      <td>India</td>\n",
       "      <td>Media and Advertising</td>\n",
       "      <td>Word Of Mouth</td>\n",
       "      <td>Unemployed</td>\n",
       "      <td>Better Career Prospects</td>\n",
       "      <td>No</td>\n",
       "      <td>No</td>\n",
       "      <td>No</td>\n",
       "      <td>No</td>\n",
       "      <td>No</td>\n",
       "      <td>No</td>\n",
       "      <td>No</td>\n",
       "      <td>No</td>\n",
       "      <td>Ringing</td>\n",
       "      <td>Not Sure</td>\n",
       "      <td>No</td>\n",
       "      <td>No</td>\n",
       "      <td>Select</td>\n",
       "      <td>Mumbai</td>\n",
       "      <td>02.Medium</td>\n",
       "      <td>01.High</td>\n",
       "      <td>13.0</td>\n",
       "      <td>17.0</td>\n",
       "      <td>No</td>\n",
       "      <td>No</td>\n",
       "      <td>Modified</td>\n",
       "    </tr>\n",
       "    <tr>\n",
       "      <th>4</th>\n",
       "      <td>3256f628-e534-4826-9d63-4a8b88782852</td>\n",
       "      <td>660681</td>\n",
       "      <td>Landing Page Submission</td>\n",
       "      <td>Google</td>\n",
       "      <td>No</td>\n",
       "      <td>No</td>\n",
       "      <td>1</td>\n",
       "      <td>2.0</td>\n",
       "      <td>1428</td>\n",
       "      <td>1.0</td>\n",
       "      <td>Converted to Lead</td>\n",
       "      <td>India</td>\n",
       "      <td>Select</td>\n",
       "      <td>Other</td>\n",
       "      <td>Unemployed</td>\n",
       "      <td>Better Career Prospects</td>\n",
       "      <td>No</td>\n",
       "      <td>No</td>\n",
       "      <td>No</td>\n",
       "      <td>No</td>\n",
       "      <td>No</td>\n",
       "      <td>No</td>\n",
       "      <td>No</td>\n",
       "      <td>No</td>\n",
       "      <td>Will revert after reading the email</td>\n",
       "      <td>Might be</td>\n",
       "      <td>No</td>\n",
       "      <td>No</td>\n",
       "      <td>Select</td>\n",
       "      <td>Mumbai</td>\n",
       "      <td>02.Medium</td>\n",
       "      <td>01.High</td>\n",
       "      <td>15.0</td>\n",
       "      <td>18.0</td>\n",
       "      <td>No</td>\n",
       "      <td>No</td>\n",
       "      <td>Modified</td>\n",
       "    </tr>\n",
       "  </tbody>\n",
       "</table>\n",
       "</div>"
      ],
      "text/plain": [
       "                            Prospect ID  ...  Last Notable Activity\n",
       "0  7927b2df-8bba-4d29-b9a2-b6e0beafe620  ...               Modified\n",
       "1  2a272436-5132-4136-86fa-dcc88c88f482  ...           Email Opened\n",
       "2  8cc8c611-a219-4f35-ad23-fdfd2656bd8a  ...           Email Opened\n",
       "3  0cc2df48-7cf4-4e39-9de9-19797f9b38cc  ...               Modified\n",
       "4  3256f628-e534-4826-9d63-4a8b88782852  ...               Modified\n",
       "\n",
       "[5 rows x 37 columns]"
      ]
     },
     "execution_count": 4,
     "metadata": {},
     "output_type": "execute_result"
    }
   ],
   "source": [
    "lead_df=pd.read_csv('Leads.csv') # Reading leads dataframe as lead_df\n",
    "lead_df.head()"
   ]
  },
  {
   "cell_type": "markdown",
   "metadata": {},
   "source": [
    "Inspect the various aspects of the data dataframe"
   ]
  },
  {
   "cell_type": "code",
   "execution_count": 5,
   "metadata": {},
   "outputs": [
    {
     "name": "stdout",
     "output_type": "stream",
     "text": [
      "<class 'pandas.core.frame.DataFrame'>\n",
      "RangeIndex: 9240 entries, 0 to 9239\n",
      "Data columns (total 37 columns):\n",
      " #   Column                                         Non-Null Count  Dtype  \n",
      "---  ------                                         --------------  -----  \n",
      " 0   Prospect ID                                    9240 non-null   object \n",
      " 1   Lead Number                                    9240 non-null   int64  \n",
      " 2   Lead Origin                                    9240 non-null   object \n",
      " 3   Lead Source                                    9204 non-null   object \n",
      " 4   Do Not Email                                   9240 non-null   object \n",
      " 5   Do Not Call                                    9240 non-null   object \n",
      " 6   Converted                                      9240 non-null   int64  \n",
      " 7   TotalVisits                                    9103 non-null   float64\n",
      " 8   Total Time Spent on Website                    9240 non-null   int64  \n",
      " 9   Page Views Per Visit                           9103 non-null   float64\n",
      " 10  Last Activity                                  9137 non-null   object \n",
      " 11  Country                                        6779 non-null   object \n",
      " 12  Specialization                                 7802 non-null   object \n",
      " 13  How did you hear about X Education             7033 non-null   object \n",
      " 14  What is your current occupation                6550 non-null   object \n",
      " 15  What matters most to you in choosing a course  6531 non-null   object \n",
      " 16  Search                                         9240 non-null   object \n",
      " 17  Magazine                                       9240 non-null   object \n",
      " 18  Newspaper Article                              9240 non-null   object \n",
      " 19  X Education Forums                             9240 non-null   object \n",
      " 20  Newspaper                                      9240 non-null   object \n",
      " 21  Digital Advertisement                          9240 non-null   object \n",
      " 22  Through Recommendations                        9240 non-null   object \n",
      " 23  Receive More Updates About Our Courses         9240 non-null   object \n",
      " 24  Tags                                           5887 non-null   object \n",
      " 25  Lead Quality                                   4473 non-null   object \n",
      " 26  Update me on Supply Chain Content              9240 non-null   object \n",
      " 27  Get updates on DM Content                      9240 non-null   object \n",
      " 28  Lead Profile                                   6531 non-null   object \n",
      " 29  City                                           7820 non-null   object \n",
      " 30  Asymmetrique Activity Index                    5022 non-null   object \n",
      " 31  Asymmetrique Profile Index                     5022 non-null   object \n",
      " 32  Asymmetrique Activity Score                    5022 non-null   float64\n",
      " 33  Asymmetrique Profile Score                     5022 non-null   float64\n",
      " 34  I agree to pay the amount through cheque       9240 non-null   object \n",
      " 35  A free copy of Mastering The Interview         9240 non-null   object \n",
      " 36  Last Notable Activity                          9240 non-null   object \n",
      "dtypes: float64(4), int64(3), object(30)\n",
      "memory usage: 2.6+ MB\n"
     ]
    }
   ],
   "source": [
    "lead_df.info()"
   ]
  },
  {
   "cell_type": "code",
   "execution_count": 6,
   "metadata": {},
   "outputs": [
    {
     "data": {
      "text/html": [
       "<div>\n",
       "<style scoped>\n",
       "    .dataframe tbody tr th:only-of-type {\n",
       "        vertical-align: middle;\n",
       "    }\n",
       "\n",
       "    .dataframe tbody tr th {\n",
       "        vertical-align: top;\n",
       "    }\n",
       "\n",
       "    .dataframe thead th {\n",
       "        text-align: right;\n",
       "    }\n",
       "</style>\n",
       "<table border=\"1\" class=\"dataframe\">\n",
       "  <thead>\n",
       "    <tr style=\"text-align: right;\">\n",
       "      <th></th>\n",
       "      <th>Lead Number</th>\n",
       "      <th>Converted</th>\n",
       "      <th>TotalVisits</th>\n",
       "      <th>Total Time Spent on Website</th>\n",
       "      <th>Page Views Per Visit</th>\n",
       "      <th>Asymmetrique Activity Score</th>\n",
       "      <th>Asymmetrique Profile Score</th>\n",
       "    </tr>\n",
       "  </thead>\n",
       "  <tbody>\n",
       "    <tr>\n",
       "      <th>count</th>\n",
       "      <td>9240.000000</td>\n",
       "      <td>9240.000000</td>\n",
       "      <td>9103.000000</td>\n",
       "      <td>9240.000000</td>\n",
       "      <td>9103.000000</td>\n",
       "      <td>5022.000000</td>\n",
       "      <td>5022.000000</td>\n",
       "    </tr>\n",
       "    <tr>\n",
       "      <th>mean</th>\n",
       "      <td>617188.435606</td>\n",
       "      <td>0.385390</td>\n",
       "      <td>3.445238</td>\n",
       "      <td>487.698268</td>\n",
       "      <td>2.362820</td>\n",
       "      <td>14.306252</td>\n",
       "      <td>16.344883</td>\n",
       "    </tr>\n",
       "    <tr>\n",
       "      <th>std</th>\n",
       "      <td>23405.995698</td>\n",
       "      <td>0.486714</td>\n",
       "      <td>4.854853</td>\n",
       "      <td>548.021466</td>\n",
       "      <td>2.161418</td>\n",
       "      <td>1.386694</td>\n",
       "      <td>1.811395</td>\n",
       "    </tr>\n",
       "    <tr>\n",
       "      <th>min</th>\n",
       "      <td>579533.000000</td>\n",
       "      <td>0.000000</td>\n",
       "      <td>0.000000</td>\n",
       "      <td>0.000000</td>\n",
       "      <td>0.000000</td>\n",
       "      <td>7.000000</td>\n",
       "      <td>11.000000</td>\n",
       "    </tr>\n",
       "    <tr>\n",
       "      <th>25%</th>\n",
       "      <td>596484.500000</td>\n",
       "      <td>0.000000</td>\n",
       "      <td>1.000000</td>\n",
       "      <td>12.000000</td>\n",
       "      <td>1.000000</td>\n",
       "      <td>14.000000</td>\n",
       "      <td>15.000000</td>\n",
       "    </tr>\n",
       "    <tr>\n",
       "      <th>50%</th>\n",
       "      <td>615479.000000</td>\n",
       "      <td>0.000000</td>\n",
       "      <td>3.000000</td>\n",
       "      <td>248.000000</td>\n",
       "      <td>2.000000</td>\n",
       "      <td>14.000000</td>\n",
       "      <td>16.000000</td>\n",
       "    </tr>\n",
       "    <tr>\n",
       "      <th>75%</th>\n",
       "      <td>637387.250000</td>\n",
       "      <td>1.000000</td>\n",
       "      <td>5.000000</td>\n",
       "      <td>936.000000</td>\n",
       "      <td>3.000000</td>\n",
       "      <td>15.000000</td>\n",
       "      <td>18.000000</td>\n",
       "    </tr>\n",
       "    <tr>\n",
       "      <th>max</th>\n",
       "      <td>660737.000000</td>\n",
       "      <td>1.000000</td>\n",
       "      <td>251.000000</td>\n",
       "      <td>2272.000000</td>\n",
       "      <td>55.000000</td>\n",
       "      <td>18.000000</td>\n",
       "      <td>20.000000</td>\n",
       "    </tr>\n",
       "  </tbody>\n",
       "</table>\n",
       "</div>"
      ],
      "text/plain": [
       "         Lead Number  ...  Asymmetrique Profile Score\n",
       "count    9240.000000  ...                 5022.000000\n",
       "mean   617188.435606  ...                   16.344883\n",
       "std     23405.995698  ...                    1.811395\n",
       "min    579533.000000  ...                   11.000000\n",
       "25%    596484.500000  ...                   15.000000\n",
       "50%    615479.000000  ...                   16.000000\n",
       "75%    637387.250000  ...                   18.000000\n",
       "max    660737.000000  ...                   20.000000\n",
       "\n",
       "[8 rows x 7 columns]"
      ]
     },
     "execution_count": 6,
     "metadata": {},
     "output_type": "execute_result"
    }
   ],
   "source": [
    "# Get the summary of the dataframe using 'describe()'\n",
    "lead_df.describe()"
   ]
  },
  {
   "cell_type": "code",
   "execution_count": 7,
   "metadata": {},
   "outputs": [
    {
     "data": {
      "text/plain": [
       "(9240, 37)"
      ]
     },
     "execution_count": 7,
     "metadata": {},
     "output_type": "execute_result"
    }
   ],
   "source": [
    "# Get the shape of the dataset\n",
    "lead_df.shape"
   ]
  },
  {
   "cell_type": "markdown",
   "metadata": {},
   "source": [
    "## Step : 2 Data Cleaning"
   ]
  },
  {
   "cell_type": "markdown",
   "metadata": {},
   "source": [
    "As We have noted the dataframe contains some ```Select``` values it means these are the Missing values"
   ]
  },
  {
   "cell_type": "code",
   "execution_count": 8,
   "metadata": {},
   "outputs": [],
   "source": [
    "# Replacing Select values with nan values\n",
    "lead_df = lead_df.replace('Select', np.nan)"
   ]
  },
  {
   "cell_type": "code",
   "execution_count": 9,
   "metadata": {},
   "outputs": [
    {
     "data": {
      "text/plain": [
       "How did you hear about X Education               78.46\n",
       "Lead Profile                                     74.19\n",
       "Lead Quality                                     51.59\n",
       "Asymmetrique Profile Score                       45.65\n",
       "Asymmetrique Activity Score                      45.65\n",
       "Asymmetrique Activity Index                      45.65\n",
       "Asymmetrique Profile Index                       45.65\n",
       "City                                             39.71\n",
       "Specialization                                   36.58\n",
       "Tags                                             36.29\n",
       "What matters most to you in choosing a course    29.32\n",
       "What is your current occupation                  29.11\n",
       "Country                                          26.63\n",
       "Page Views Per Visit                              1.48\n",
       "TotalVisits                                       1.48\n",
       "Last Activity                                     1.11\n",
       "Lead Source                                       0.39\n",
       "Receive More Updates About Our Courses            0.00\n",
       "I agree to pay the amount through cheque          0.00\n",
       "Get updates on DM Content                         0.00\n",
       "Update me on Supply Chain Content                 0.00\n",
       "A free copy of Mastering The Interview            0.00\n",
       "Prospect ID                                       0.00\n",
       "Newspaper Article                                 0.00\n",
       "Through Recommendations                           0.00\n",
       "Digital Advertisement                             0.00\n",
       "Newspaper                                         0.00\n",
       "X Education Forums                                0.00\n",
       "Lead Number                                       0.00\n",
       "Magazine                                          0.00\n",
       "Search                                            0.00\n",
       "Total Time Spent on Website                       0.00\n",
       "Converted                                         0.00\n",
       "Do Not Call                                       0.00\n",
       "Do Not Email                                      0.00\n",
       "Lead Origin                                       0.00\n",
       "Last Notable Activity                             0.00\n",
       "dtype: float64"
      ]
     },
     "execution_count": 9,
     "metadata": {},
     "output_type": "execute_result"
    }
   ],
   "source": [
    "# Checking whether if there is any missing value.\n",
    "round(100*(lead_df.isnull().sum()/len(lead_df.index)),2).sort_values(ascending = False)"
   ]
  },
  {
   "cell_type": "markdown",
   "metadata": {},
   "source": [
    "Here we found that lots of ```Missing values``` are there it should be treated well"
   ]
  },
  {
   "cell_type": "code",
   "execution_count": 10,
   "metadata": {},
   "outputs": [
    {
     "data": {
      "text/html": [
       "<div>\n",
       "<style scoped>\n",
       "    .dataframe tbody tr th:only-of-type {\n",
       "        vertical-align: middle;\n",
       "    }\n",
       "\n",
       "    .dataframe tbody tr th {\n",
       "        vertical-align: top;\n",
       "    }\n",
       "\n",
       "    .dataframe thead th {\n",
       "        text-align: right;\n",
       "    }\n",
       "</style>\n",
       "<table border=\"1\" class=\"dataframe\">\n",
       "  <thead>\n",
       "    <tr style=\"text-align: right;\">\n",
       "      <th></th>\n",
       "      <th>Prospect ID</th>\n",
       "      <th>Lead Number</th>\n",
       "      <th>Lead Origin</th>\n",
       "      <th>Lead Source</th>\n",
       "      <th>Do Not Email</th>\n",
       "      <th>Do Not Call</th>\n",
       "      <th>Converted</th>\n",
       "      <th>TotalVisits</th>\n",
       "      <th>Total Time Spent on Website</th>\n",
       "      <th>Page Views Per Visit</th>\n",
       "      <th>Last Activity</th>\n",
       "      <th>Country</th>\n",
       "      <th>Specialization</th>\n",
       "      <th>How did you hear about X Education</th>\n",
       "      <th>What is your current occupation</th>\n",
       "      <th>What matters most to you in choosing a course</th>\n",
       "      <th>Search</th>\n",
       "      <th>Magazine</th>\n",
       "      <th>Newspaper Article</th>\n",
       "      <th>X Education Forums</th>\n",
       "      <th>Newspaper</th>\n",
       "      <th>Digital Advertisement</th>\n",
       "      <th>Through Recommendations</th>\n",
       "      <th>Receive More Updates About Our Courses</th>\n",
       "      <th>Tags</th>\n",
       "      <th>Lead Quality</th>\n",
       "      <th>Update me on Supply Chain Content</th>\n",
       "      <th>Get updates on DM Content</th>\n",
       "      <th>Lead Profile</th>\n",
       "      <th>City</th>\n",
       "      <th>Asymmetrique Activity Index</th>\n",
       "      <th>Asymmetrique Profile Index</th>\n",
       "      <th>Asymmetrique Activity Score</th>\n",
       "      <th>Asymmetrique Profile Score</th>\n",
       "      <th>I agree to pay the amount through cheque</th>\n",
       "      <th>A free copy of Mastering The Interview</th>\n",
       "      <th>Last Notable Activity</th>\n",
       "    </tr>\n",
       "  </thead>\n",
       "  <tbody>\n",
       "  </tbody>\n",
       "</table>\n",
       "</div>"
      ],
      "text/plain": [
       "Empty DataFrame\n",
       "Columns: [Prospect ID, Lead Number, Lead Origin, Lead Source, Do Not Email, Do Not Call, Converted, TotalVisits, Total Time Spent on Website, Page Views Per Visit, Last Activity, Country, Specialization, How did you hear about X Education, What is your current occupation, What matters most to you in choosing a course, Search, Magazine, Newspaper Article, X Education Forums, Newspaper, Digital Advertisement, Through Recommendations, Receive More Updates About Our Courses, Tags, Lead Quality, Update me on Supply Chain Content, Get updates on DM Content, Lead Profile, City, Asymmetrique Activity Index, Asymmetrique Profile Index, Asymmetrique Activity Score, Asymmetrique Profile Score, I agree to pay the amount through cheque, A free copy of Mastering The Interview, Last Notable Activity]\n",
       "Index: []"
      ]
     },
     "execution_count": 10,
     "metadata": {},
     "output_type": "execute_result"
    }
   ],
   "source": [
    "# Checking for duplicates values\n",
    "lead_df.loc[lead_df.duplicated()]"
   ]
  },
  {
   "cell_type": "markdown",
   "metadata": {},
   "source": [
    "Droping the Columns for large number of ```Missing Values```"
   ]
  },
  {
   "cell_type": "code",
   "execution_count": 11,
   "metadata": {},
   "outputs": [],
   "source": [
    "# Removing columns whch column containd more than 40% of Missing Values\n",
    "cols=lead_df.columns[round((lead_df.isnull().sum()/len(lead_df))*100)>=40]\n",
    "lead_df=lead_df.drop(cols,axis=1)"
   ]
  },
  {
   "cell_type": "code",
   "execution_count": 12,
   "metadata": {},
   "outputs": [],
   "source": [
    "# dropping 'Tags' as these features is derived by sales team\n",
    "lead_df.drop('Tags',axis=1,inplace=True)"
   ]
  },
  {
   "cell_type": "code",
   "execution_count": 13,
   "metadata": {},
   "outputs": [
    {
     "data": {
      "text/plain": [
       "Country\n",
       "India                   6492\n",
       "United States             69\n",
       "United Arab Emirates      53\n",
       "Singapore                 24\n",
       "Saudi Arabia              21\n",
       "United Kingdom            15\n",
       "Australia                 13\n",
       "Qatar                     10\n",
       "Hong Kong                  7\n",
       "Bahrain                    7\n",
       "Oman                       6\n",
       "France                     6\n",
       "unknown                    5\n",
       "South Africa               4\n",
       "Nigeria                    4\n",
       "Germany                    4\n",
       "Kuwait                     4\n",
       "Canada                     4\n",
       "Sweden                     3\n",
       "China                      2\n",
       "Asia/Pacific Region        2\n",
       "Uganda                     2\n",
       "Bangladesh                 2\n",
       "Italy                      2\n",
       "Belgium                    2\n",
       "Netherlands                2\n",
       "Ghana                      2\n",
       "Philippines                2\n",
       "Russia                     1\n",
       "Switzerland                1\n",
       "Vietnam                    1\n",
       "Denmark                    1\n",
       "Tanzania                   1\n",
       "Liberia                    1\n",
       "Malaysia                   1\n",
       "Kenya                      1\n",
       "Sri Lanka                  1\n",
       "Indonesia                  1\n",
       "Name: count, dtype: int64"
      ]
     },
     "execution_count": 13,
     "metadata": {},
     "output_type": "execute_result"
    }
   ],
   "source": [
    "# Finding the Labels contains in the Country Variable\n",
    "lead_df['Country'].value_counts()"
   ]
  },
  {
   "cell_type": "code",
   "execution_count": 14,
   "metadata": {},
   "outputs": [],
   "source": [
    "# imputing  \"India\" as its common occurance in Country Column\n",
    "lead_df['Country']=lead_df['Country'].replace(np.nan,'India')"
   ]
  },
  {
   "cell_type": "code",
   "execution_count": 15,
   "metadata": {},
   "outputs": [
    {
     "data": {
      "text/plain": [
       "Specialization\n",
       "Finance Management                   976\n",
       "Human Resource Management            848\n",
       "Marketing Management                 838\n",
       "Operations Management                503\n",
       "Business Administration              403\n",
       "IT Projects Management               366\n",
       "Supply Chain Management              349\n",
       "Banking, Investment And Insurance    338\n",
       "Travel and Tourism                   203\n",
       "Media and Advertising                203\n",
       "International Business               178\n",
       "Healthcare Management                159\n",
       "Hospitality Management               114\n",
       "E-COMMERCE                           112\n",
       "Retail Management                    100\n",
       "Rural and Agribusiness                73\n",
       "E-Business                            57\n",
       "Services Excellence                   40\n",
       "Name: count, dtype: int64"
      ]
     },
     "execution_count": 15,
     "metadata": {},
     "output_type": "execute_result"
    }
   ],
   "source": [
    "# Finding the Labels contains in the Specialization Variable\n",
    "lead_df['Specialization'].value_counts()"
   ]
  },
  {
   "cell_type": "code",
   "execution_count": 16,
   "metadata": {},
   "outputs": [],
   "source": [
    "# Imputing  \"Finance Management\" as its common occurance in Specialization Column\n",
    "lead_df['Specialization']=lead_df['Specialization'].replace(np.nan,'Finance Management')"
   ]
  },
  {
   "cell_type": "code",
   "execution_count": 17,
   "metadata": {},
   "outputs": [
    {
     "data": {
      "text/plain": [
       "What is your current occupation\n",
       "Unemployed              5600\n",
       "Working Professional     706\n",
       "Student                  210\n",
       "Other                     16\n",
       "Housewife                 10\n",
       "Businessman                8\n",
       "Name: count, dtype: int64"
      ]
     },
     "execution_count": 17,
     "metadata": {},
     "output_type": "execute_result"
    }
   ],
   "source": [
    "# Finding the Labels contains in the \"What is your current occupation\" Variable\n",
    "lead_df['What is your current occupation'].value_counts()"
   ]
  },
  {
   "cell_type": "code",
   "execution_count": 18,
   "metadata": {},
   "outputs": [],
   "source": [
    "# Imputing  \"Unemployed\" as its common occurance in What is your current occupation Column\n",
    "lead_df['What is your current occupation']=lead_df['What is your current occupation'].replace(np.nan,'Unemployed')"
   ]
  },
  {
   "cell_type": "code",
   "execution_count": 19,
   "metadata": {},
   "outputs": [
    {
     "data": {
      "text/plain": [
       "What matters most to you in choosing a course\n",
       "Better Career Prospects      6528\n",
       "Flexibility & Convenience       2\n",
       "Other                           1\n",
       "Name: count, dtype: int64"
      ]
     },
     "execution_count": 19,
     "metadata": {},
     "output_type": "execute_result"
    }
   ],
   "source": [
    "# Finding the Labels contains in the \"What matters most to you in choosing a course\" Variable\n",
    "lead_df['What matters most to you in choosing a course'].value_counts()"
   ]
  },
  {
   "cell_type": "code",
   "execution_count": 20,
   "metadata": {},
   "outputs": [],
   "source": [
    "# Dropping \"What matters most to you in choosing a course\" as we have almost same value for colums\n",
    "lead_df.drop('What matters most to you in choosing a course',axis=1,inplace=True)"
   ]
  },
  {
   "cell_type": "code",
   "execution_count": 21,
   "metadata": {},
   "outputs": [
    {
     "data": {
      "text/plain": [
       "Last Activity\n",
       "Email Opened                    3437\n",
       "SMS Sent                        2745\n",
       "Olark Chat Conversation          973\n",
       "Page Visited on Website          640\n",
       "Converted to Lead                428\n",
       "Email Bounced                    326\n",
       "Email Link Clicked               267\n",
       "Form Submitted on Website        116\n",
       "Unreachable                       93\n",
       "Unsubscribed                      61\n",
       "Had a Phone Conversation          30\n",
       "Approached upfront                 9\n",
       "View in browser link Clicked       6\n",
       "Email Received                     2\n",
       "Email Marked Spam                  2\n",
       "Visited Booth in Tradeshow         1\n",
       "Resubscribed to emails             1\n",
       "Name: count, dtype: int64"
      ]
     },
     "execution_count": 21,
     "metadata": {},
     "output_type": "execute_result"
    }
   ],
   "source": [
    "# Finding the Labels contains in the \"Last Activity Variable\n",
    "lead_df['Last Activity'].value_counts()"
   ]
  },
  {
   "cell_type": "code",
   "execution_count": 22,
   "metadata": {},
   "outputs": [],
   "source": [
    "# Imputing \"Email Opened\" as its common occurance in Last Activity Column\n",
    "lead_df['Last Activity']=lead_df['Last Activity'].fillna('Email Opened')"
   ]
  },
  {
   "cell_type": "code",
   "execution_count": 23,
   "metadata": {},
   "outputs": [
    {
     "data": {
      "text/plain": [
       "Lead Source\n",
       "Google               2868\n",
       "Direct Traffic       2543\n",
       "Olark Chat           1755\n",
       "Organic Search       1154\n",
       "Reference             534\n",
       "Welingak Website      142\n",
       "Referral Sites        125\n",
       "Facebook               55\n",
       "bing                    6\n",
       "google                  5\n",
       "Click2call              4\n",
       "Press_Release           2\n",
       "Social Media            2\n",
       "Live Chat               2\n",
       "youtubechannel          1\n",
       "testone                 1\n",
       "Pay per Click Ads       1\n",
       "welearnblog_Home        1\n",
       "WeLearn                 1\n",
       "blog                    1\n",
       "NC_EDM                  1\n",
       "Name: count, dtype: int64"
      ]
     },
     "execution_count": 23,
     "metadata": {},
     "output_type": "execute_result"
    }
   ],
   "source": [
    "# Finding the Labels contains in the \"Last Activity Variable\n",
    "lead_df['Lead Source'].value_counts()"
   ]
  },
  {
   "cell_type": "code",
   "execution_count": 24,
   "metadata": {},
   "outputs": [],
   "source": [
    "# imputing  \"Google\" as its common occurance in Lead Source Column\n",
    "lead_df['Lead Source']=lead_df['Lead Source'].replace(np.nan,'Google')"
   ]
  },
  {
   "cell_type": "code",
   "execution_count": 25,
   "metadata": {},
   "outputs": [],
   "source": [
    "# here we have found that google and Google is same just a typo hence we replaced it google to Google.\n",
    "lead_df['Lead Source']=lead_df['Lead Source'].replace('google','Google')"
   ]
  },
  {
   "cell_type": "code",
   "execution_count": 26,
   "metadata": {},
   "outputs": [
    {
     "data": {
      "text/plain": [
       "count    9240.000000\n",
       "mean      487.698268\n",
       "std       548.021466\n",
       "min         0.000000\n",
       "25%        12.000000\n",
       "50%       248.000000\n",
       "75%       936.000000\n",
       "max      2272.000000\n",
       "Name: Total Time Spent on Website, dtype: float64"
      ]
     },
     "execution_count": 26,
     "metadata": {},
     "output_type": "execute_result"
    }
   ],
   "source": [
    "lead_df['Total Time Spent on Website'].describe()"
   ]
  },
  {
   "cell_type": "markdown",
   "metadata": {},
   "source": [
    "### Outlier Detection"
   ]
  },
  {
   "cell_type": "code",
   "execution_count": 27,
   "metadata": {
    "scrolled": true
   },
   "outputs": [],
   "source": [
    "# # Finding the outliers\n",
    "# plt.figure(figsize = (15,10))\n",
    "# plt.subplot(2,3,1)\n",
    "# sns.boxplot(lead_df['TotalVisits'])\n",
    "# plt.subplot(2,3,2)\n",
    "# sns.boxplot(lead_df['Page Views Per Visit'])\n",
    "# plt.subplot(2,3,3)\n",
    "# sns.boxplot(lead_df['Total Time Spent on Website'])\n",
    "# plt.xlabel('Total Time Spent on Website')\n",
    "# plt.show()"
   ]
  },
  {
   "cell_type": "markdown",
   "metadata": {},
   "source": [
    "Outliers are Present in both the Variables ```TotalVisits``` and ```Page Views Per Visit``` it should be treated and the value spreaded above median highly in ```Total Time Spent on Website```\n"
   ]
  },
  {
   "cell_type": "markdown",
   "metadata": {},
   "source": [
    "Imputing ```Median``` to the Misssing values"
   ]
  },
  {
   "cell_type": "code",
   "execution_count": 28,
   "metadata": {},
   "outputs": [],
   "source": [
    "# Imputing Median as it is a Continueous type\n",
    "lead_df['TotalVisits']=lead_df['TotalVisits'].fillna(lead_df['TotalVisits'].median())\n",
    "lead_df['Page Views Per Visit']=lead_df['Page Views Per Visit'].fillna(lead_df['Page Views Per Visit'].median())"
   ]
  },
  {
   "cell_type": "code",
   "execution_count": 29,
   "metadata": {
    "scrolled": true
   },
   "outputs": [
    {
     "data": {
      "text/html": [
       "<div>\n",
       "<style scoped>\n",
       "    .dataframe tbody tr th:only-of-type {\n",
       "        vertical-align: middle;\n",
       "    }\n",
       "\n",
       "    .dataframe tbody tr th {\n",
       "        vertical-align: top;\n",
       "    }\n",
       "\n",
       "    .dataframe thead th {\n",
       "        text-align: right;\n",
       "    }\n",
       "</style>\n",
       "<table border=\"1\" class=\"dataframe\">\n",
       "  <thead>\n",
       "    <tr style=\"text-align: right;\">\n",
       "      <th></th>\n",
       "      <th>Prospect ID</th>\n",
       "      <th>Lead Number</th>\n",
       "      <th>Lead Origin</th>\n",
       "      <th>Lead Source</th>\n",
       "      <th>Do Not Email</th>\n",
       "      <th>Do Not Call</th>\n",
       "      <th>Converted</th>\n",
       "      <th>TotalVisits</th>\n",
       "      <th>Total Time Spent on Website</th>\n",
       "      <th>Page Views Per Visit</th>\n",
       "      <th>Last Activity</th>\n",
       "      <th>Country</th>\n",
       "      <th>Specialization</th>\n",
       "      <th>What is your current occupation</th>\n",
       "      <th>Search</th>\n",
       "      <th>Magazine</th>\n",
       "      <th>Newspaper Article</th>\n",
       "      <th>X Education Forums</th>\n",
       "      <th>Newspaper</th>\n",
       "      <th>Digital Advertisement</th>\n",
       "      <th>Through Recommendations</th>\n",
       "      <th>Receive More Updates About Our Courses</th>\n",
       "      <th>Update me on Supply Chain Content</th>\n",
       "      <th>Get updates on DM Content</th>\n",
       "      <th>I agree to pay the amount through cheque</th>\n",
       "      <th>A free copy of Mastering The Interview</th>\n",
       "      <th>Last Notable Activity</th>\n",
       "    </tr>\n",
       "  </thead>\n",
       "  <tbody>\n",
       "  </tbody>\n",
       "</table>\n",
       "</div>"
      ],
      "text/plain": [
       "Empty DataFrame\n",
       "Columns: [Prospect ID, Lead Number, Lead Origin, Lead Source, Do Not Email, Do Not Call, Converted, TotalVisits, Total Time Spent on Website, Page Views Per Visit, Last Activity, Country, Specialization, What is your current occupation, Search, Magazine, Newspaper Article, X Education Forums, Newspaper, Digital Advertisement, Through Recommendations, Receive More Updates About Our Courses, Update me on Supply Chain Content, Get updates on DM Content, I agree to pay the amount through cheque, A free copy of Mastering The Interview, Last Notable Activity]\n",
       "Index: []"
      ]
     },
     "execution_count": 29,
     "metadata": {},
     "output_type": "execute_result"
    }
   ],
   "source": [
    "lead_df[pd.isnull(lead_df).any(axis=1)==True]"
   ]
  },
  {
   "cell_type": "code",
   "execution_count": 30,
   "metadata": {},
   "outputs": [
    {
     "data": {
      "text/plain": [
       "Prospect ID                                 0.0\n",
       "Lead Number                                 0.0\n",
       "Lead Origin                                 0.0\n",
       "Lead Source                                 0.0\n",
       "Do Not Email                                0.0\n",
       "Do Not Call                                 0.0\n",
       "Converted                                   0.0\n",
       "TotalVisits                                 0.0\n",
       "Total Time Spent on Website                 0.0\n",
       "Page Views Per Visit                        0.0\n",
       "Last Activity                               0.0\n",
       "Country                                     0.0\n",
       "Specialization                              0.0\n",
       "What is your current occupation             0.0\n",
       "Search                                      0.0\n",
       "Magazine                                    0.0\n",
       "Newspaper Article                           0.0\n",
       "X Education Forums                          0.0\n",
       "Newspaper                                   0.0\n",
       "Digital Advertisement                       0.0\n",
       "Through Recommendations                     0.0\n",
       "Receive More Updates About Our Courses      0.0\n",
       "Update me on Supply Chain Content           0.0\n",
       "Get updates on DM Content                   0.0\n",
       "I agree to pay the amount through cheque    0.0\n",
       "A free copy of Mastering The Interview      0.0\n",
       "Last Notable Activity                       0.0\n",
       "dtype: float64"
      ]
     },
     "execution_count": 30,
     "metadata": {},
     "output_type": "execute_result"
    }
   ],
   "source": [
    "round(100*(lead_df.isnull().sum()/len(lead_df)),2)"
   ]
  },
  {
   "cell_type": "markdown",
   "metadata": {},
   "source": [
    "No Null Values are remaining in the dataset"
   ]
  },
  {
   "cell_type": "markdown",
   "metadata": {},
   "source": [
    "\n"
   ]
  },
  {
   "cell_type": "code",
   "execution_count": 31,
   "metadata": {},
   "outputs": [],
   "source": [
    "# # plotting countplot for object dtype and histogram for number to get data distribution\n",
    "# col_obj=lead_df.loc[:, lead_df.dtypes == object].columns\n",
    "\n",
    "# plt.figure(figsize=(25,40))\n",
    "# sns.set()\n",
    "# plt.subplots_adjust(wspace=.2,hspace=1 )\n",
    "# for i in enumerate(col_obj):\n",
    "#     plt.subplot(8,3,i[0]+1)\n",
    "#     sns.countplot(x=i[1],data=lead_df) \n",
    "#     plt.xticks(rotation=90)\n",
    "# plt.show()"
   ]
  },
  {
   "cell_type": "markdown",
   "metadata": {},
   "source": [
    "#### Insights \n",
    "- We can see that there are many colums which are highly skewed or only one values i.e 'Magazine'... we Can remove these colums as this will not help in model building.\n",
    " \n",
    "- There are cloumns which have many categories(>5), here we can impute  new value 'Other' for which are occured less."
   ]
  },
  {
   "cell_type": "markdown",
   "metadata": {},
   "source": [
    "Removing Highly Skewed variables and if Column contains Single Labels"
   ]
  },
  {
   "cell_type": "code",
   "execution_count": 32,
   "metadata": {},
   "outputs": [],
   "source": [
    "# Taking care of highly skewed columns  and one value only\n",
    "lead_df.drop(['What is your current occupation','Do Not Call','Do Not Email','Country','Search',\\\n",
    "                      'X Education Forums','Newspaper','Newspaper Article','Through Recommendations','Digital Advertisement'],axis=1,inplace=True)"
   ]
  },
  {
   "cell_type": "code",
   "execution_count": 33,
   "metadata": {},
   "outputs": [],
   "source": [
    "# Droping those variables which contains two labels but one is very High and another is very less number of labels.\n",
    "lead_df.drop(['Magazine','Receive More Updates About Our Courses','Update me on Supply Chain Content',\n",
    "                      'Get updates on DM Content','I agree to pay the amount through cheque'],axis=1, inplace=True)\n"
   ]
  },
  {
   "cell_type": "code",
   "execution_count": null,
   "metadata": {},
   "outputs": [],
   "source": []
  },
  {
   "cell_type": "markdown",
   "metadata": {},
   "source": [
    "Maintaing the labels which Column contains lots of labels"
   ]
  },
  {
   "cell_type": "code",
   "execution_count": 34,
   "metadata": {},
   "outputs": [],
   "source": [
    "# changing categories which are occured less than 1000\n",
    "col_dict_ls=dict(lead_df['Lead Source'].value_counts()<1000)\n",
    "\n",
    "# labels which are occured less like Reference,Reffereal site we can impute to 'Other'\n",
    "for i in col_dict_ls.keys():\n",
    "    if col_dict_ls[i]==True:\n",
    "        lead_df['Lead Source']=lead_df['Lead Source'].replace(i,'Other')"
   ]
  },
  {
   "cell_type": "code",
   "execution_count": 35,
   "metadata": {},
   "outputs": [],
   "source": [
    "# Changing categories which are occured less than 300\n",
    "col_dict_la=dict(lead_df['Last Activity'].value_counts()<300)\n",
    "# labels which are occured less like Resubscribed to emails ,Visited Booth in Tradeshow...those are impute to 'Other'\n",
    "\n",
    "for i in col_dict_la.keys():\n",
    "    if col_dict_la[i]==True:\n",
    "        lead_df['Last Activity']=lead_df['Last Activity'].replace(i,'Other')"
   ]
  },
  {
   "cell_type": "code",
   "execution_count": 36,
   "metadata": {},
   "outputs": [],
   "source": [
    "# Changing categories which are occured less than 500\n",
    "col_dict_lna=dict(lead_df['Last Notable Activity'].value_counts()<500)\n",
    "# labels which are occured less like Reference,Reffereal site we can impute to 'Other'\n",
    "\n",
    "for i in col_dict_lna.keys():\n",
    "    if col_dict_lna[i]==True:\n",
    "        lead_df['Last Notable Activity']=lead_df['Last Notable Activity'].replace(i,'Other')"
   ]
  },
  {
   "cell_type": "code",
   "execution_count": 37,
   "metadata": {},
   "outputs": [],
   "source": [
    "# Changing categories which are occured less than 350\n",
    "col_dict_spec=dict(lead_df['Specialization'].value_counts()<350)\n",
    "# labels which are occured less like E-Business,Retail Management we can impute to 'Other'\n",
    "\n",
    "for i in col_dict_spec.keys():\n",
    "    if col_dict_spec[i]==True:\n",
    "        lead_df['Specialization']=lead_df['Specialization'].replace(i,'Other')"
   ]
  },
  {
   "cell_type": "markdown",
   "metadata": {},
   "source": [
    "## Step : 3 Exploratory Data Analysis"
   ]
  },
  {
   "cell_type": "markdown",
   "metadata": {},
   "source": [
    "#### Univariate Analysis (Categorical)"
   ]
  },
  {
   "cell_type": "code",
   "execution_count": 38,
   "metadata": {},
   "outputs": [
    {
     "data": {
      "text/plain": [
       "Index(['Prospect ID', 'Lead Origin', 'Lead Source', 'Last Activity',\n",
       "       'Specialization', 'A free copy of Mastering The Interview',\n",
       "       'Last Notable Activity'],\n",
       "      dtype='object')"
      ]
     },
     "execution_count": 38,
     "metadata": {},
     "output_type": "execute_result"
    }
   ],
   "source": [
    "# creating cols which contains only Categorical variable\n",
    "cols=lead_df.loc[:, lead_df.dtypes == object].columns\n",
    "cols"
   ]
  },
  {
   "cell_type": "code",
   "execution_count": 39,
   "metadata": {},
   "outputs": [
    {
     "name": "stdout",
     "output_type": "stream",
     "text": [
      "Index(['Prospect ID', 'Lead Number', 'Lead Origin', 'Lead Source', 'Converted',\n",
      "       'TotalVisits', 'Total Time Spent on Website', 'Page Views Per Visit',\n",
      "       'Last Activity', 'Specialization',\n",
      "       'A free copy of Mastering The Interview', 'Last Notable Activity'],\n",
      "      dtype='object')\n"
     ]
    }
   ],
   "source": [
    "print(lead_df.columns)"
   ]
  },
  {
   "cell_type": "code",
   "execution_count": 40,
   "metadata": {},
   "outputs": [
    {
     "data": {
      "text/plain": [
       "Index(['Prospect ID', 'Lead Number', 'Lead Origin', 'Lead Source', 'Converted',\n",
       "       'TotalVisits', 'Total Time Spent on Website', 'Page Views Per Visit',\n",
       "       'Last Activity', 'Specialization',\n",
       "       'A free copy of Mastering The Interview', 'Last Notable Activity'],\n",
       "      dtype='object')"
      ]
     },
     "execution_count": 40,
     "metadata": {},
     "output_type": "execute_result"
    }
   ],
   "source": [
    "lead_df.columns"
   ]
  },
  {
   "cell_type": "code",
   "execution_count": 41,
   "metadata": {},
   "outputs": [],
   "source": [
    "# col_obj=lead_df.loc[:, lead_df.dtypes == object].columns\n",
    "\n",
    "# plt.figure(figsize=(15,20))\n",
    "# sns.set()\n",
    "# plt.subplots_adjust(wspace=.2,hspace=1.2 )\n",
    "# for i in enumerate(col_obj):\n",
    "#     plt.subplot(4,2,i[0]+1)\n",
    "#     sns.countplot(x=i[1],data=lead_df)\n",
    "#     plt.xticks(rotation=90)\n",
    "# plt.show()"
   ]
  },
  {
   "cell_type": "markdown",
   "metadata": {},
   "source": [
    "#### Insights :-\n",
    "    - In Lead Source Direct Traffic and Google are the two main source for Leads\n",
    "    - The Number of values is High in Email Opened and SMS Sent in Last Activity\n",
    "    - Most of the people chooses Finance Management Specialization rather than other Specialization\n",
    "    - The IT Project management have very lees so that most of the People not prefered this Specialization"
   ]
  },
  {
   "cell_type": "markdown",
   "metadata": {},
   "source": [
    "#### Univariate Analysis(Contenious)"
   ]
  },
  {
   "cell_type": "code",
   "execution_count": 42,
   "metadata": {},
   "outputs": [
    {
     "data": {
      "text/plain": [
       "Prospect ID                                object\n",
       "Lead Number                                 int64\n",
       "Lead Origin                                object\n",
       "Lead Source                                object\n",
       "Converted                                   int64\n",
       "TotalVisits                               float64\n",
       "Total Time Spent on Website                 int64\n",
       "Page Views Per Visit                      float64\n",
       "Last Activity                              object\n",
       "Specialization                             object\n",
       "A free copy of Mastering The Interview     object\n",
       "Last Notable Activity                      object\n",
       "dtype: object"
      ]
     },
     "execution_count": 42,
     "metadata": {},
     "output_type": "execute_result"
    }
   ],
   "source": [
    "lead_df.dtypes"
   ]
  },
  {
   "cell_type": "code",
   "execution_count": 43,
   "metadata": {},
   "outputs": [],
   "source": [
    "# col_num = ['Total Time Spent on Website', 'TotalVisits', 'Page Views Per Visit']\n",
    "\n",
    "# plt.figure(figsize=(15,15))\n",
    "# plt.subplots_adjust(bottom=.01)\n",
    "# for i in enumerate(col_num):\n",
    "    \n",
    "#     plt.subplot(2,2,i[0]+1)\n",
    "#     sns.distplot(lead_df[i[1]])\n",
    "    \n",
    "#     plt.xticks(rotation=90)\n",
    "# # plt.savefig('coniouus_univar.png',dpi=300,transparent=True)\n",
    "# plt.show()"
   ]
  },
  {
   "cell_type": "markdown",
   "metadata": {},
   "source": [
    "### Bivariate Analysis"
   ]
  },
  {
   "cell_type": "markdown",
   "metadata": {},
   "source": [
    "Bivariate Analysis With respect to Target Column ```Converted```"
   ]
  },
  {
   "cell_type": "code",
   "execution_count": 44,
   "metadata": {},
   "outputs": [],
   "source": [
    "# col_obj=lead_df.loc[:, lead_df.dtypes == object].columns\n",
    "\n",
    "# plt.figure(figsize=(15,20))\n",
    "# plt.subplots_adjust(wspace=.2,hspace=1.2 )\n",
    "# for i in enumerate(col_obj):\n",
    "#     plt.subplot(4,2,i[0]+1)\n",
    "#     sns.countplot(x = i[1],hue = 'Converted', data = lead_df)\n",
    "#     plt.xticks(rotation=90)\n",
    "# # plt.savefig('cate bivar.png',dpi=300,transparent=True)\n",
    "# plt.show()"
   ]
  },
  {
   "cell_type": "markdown",
   "metadata": {},
   "source": [
    "## Step : 4 Data Preparation and Features Selection"
   ]
  },
  {
   "cell_type": "code",
   "execution_count": 45,
   "metadata": {},
   "outputs": [
    {
     "data": {
      "text/html": [
       "<div>\n",
       "<style scoped>\n",
       "    .dataframe tbody tr th:only-of-type {\n",
       "        vertical-align: middle;\n",
       "    }\n",
       "\n",
       "    .dataframe tbody tr th {\n",
       "        vertical-align: top;\n",
       "    }\n",
       "\n",
       "    .dataframe thead th {\n",
       "        text-align: right;\n",
       "    }\n",
       "</style>\n",
       "<table border=\"1\" class=\"dataframe\">\n",
       "  <thead>\n",
       "    <tr style=\"text-align: right;\">\n",
       "      <th></th>\n",
       "      <th>Prospect ID</th>\n",
       "      <th>Lead Number</th>\n",
       "      <th>Lead Origin</th>\n",
       "      <th>Lead Source</th>\n",
       "      <th>Converted</th>\n",
       "      <th>TotalVisits</th>\n",
       "      <th>Total Time Spent on Website</th>\n",
       "      <th>Page Views Per Visit</th>\n",
       "      <th>Last Activity</th>\n",
       "      <th>Specialization</th>\n",
       "      <th>A free copy of Mastering The Interview</th>\n",
       "      <th>Last Notable Activity</th>\n",
       "    </tr>\n",
       "  </thead>\n",
       "  <tbody>\n",
       "    <tr>\n",
       "      <th>0</th>\n",
       "      <td>7927b2df-8bba-4d29-b9a2-b6e0beafe620</td>\n",
       "      <td>660737</td>\n",
       "      <td>API</td>\n",
       "      <td>Olark Chat</td>\n",
       "      <td>0</td>\n",
       "      <td>0.0</td>\n",
       "      <td>0</td>\n",
       "      <td>0.0</td>\n",
       "      <td>Page Visited on Website</td>\n",
       "      <td>Finance Management</td>\n",
       "      <td>No</td>\n",
       "      <td>Modified</td>\n",
       "    </tr>\n",
       "    <tr>\n",
       "      <th>1</th>\n",
       "      <td>2a272436-5132-4136-86fa-dcc88c88f482</td>\n",
       "      <td>660728</td>\n",
       "      <td>API</td>\n",
       "      <td>Organic Search</td>\n",
       "      <td>0</td>\n",
       "      <td>5.0</td>\n",
       "      <td>674</td>\n",
       "      <td>2.5</td>\n",
       "      <td>Email Opened</td>\n",
       "      <td>Finance Management</td>\n",
       "      <td>No</td>\n",
       "      <td>Email Opened</td>\n",
       "    </tr>\n",
       "    <tr>\n",
       "      <th>2</th>\n",
       "      <td>8cc8c611-a219-4f35-ad23-fdfd2656bd8a</td>\n",
       "      <td>660727</td>\n",
       "      <td>Landing Page Submission</td>\n",
       "      <td>Direct Traffic</td>\n",
       "      <td>1</td>\n",
       "      <td>2.0</td>\n",
       "      <td>1532</td>\n",
       "      <td>2.0</td>\n",
       "      <td>Email Opened</td>\n",
       "      <td>Business Administration</td>\n",
       "      <td>Yes</td>\n",
       "      <td>Email Opened</td>\n",
       "    </tr>\n",
       "    <tr>\n",
       "      <th>3</th>\n",
       "      <td>0cc2df48-7cf4-4e39-9de9-19797f9b38cc</td>\n",
       "      <td>660719</td>\n",
       "      <td>Landing Page Submission</td>\n",
       "      <td>Direct Traffic</td>\n",
       "      <td>0</td>\n",
       "      <td>1.0</td>\n",
       "      <td>305</td>\n",
       "      <td>1.0</td>\n",
       "      <td>Other</td>\n",
       "      <td>Other</td>\n",
       "      <td>No</td>\n",
       "      <td>Modified</td>\n",
       "    </tr>\n",
       "    <tr>\n",
       "      <th>4</th>\n",
       "      <td>3256f628-e534-4826-9d63-4a8b88782852</td>\n",
       "      <td>660681</td>\n",
       "      <td>Landing Page Submission</td>\n",
       "      <td>Google</td>\n",
       "      <td>1</td>\n",
       "      <td>2.0</td>\n",
       "      <td>1428</td>\n",
       "      <td>1.0</td>\n",
       "      <td>Converted to Lead</td>\n",
       "      <td>Finance Management</td>\n",
       "      <td>No</td>\n",
       "      <td>Modified</td>\n",
       "    </tr>\n",
       "  </tbody>\n",
       "</table>\n",
       "</div>"
      ],
      "text/plain": [
       "                            Prospect ID  ...  Last Notable Activity\n",
       "0  7927b2df-8bba-4d29-b9a2-b6e0beafe620  ...               Modified\n",
       "1  2a272436-5132-4136-86fa-dcc88c88f482  ...           Email Opened\n",
       "2  8cc8c611-a219-4f35-ad23-fdfd2656bd8a  ...           Email Opened\n",
       "3  0cc2df48-7cf4-4e39-9de9-19797f9b38cc  ...               Modified\n",
       "4  3256f628-e534-4826-9d63-4a8b88782852  ...               Modified\n",
       "\n",
       "[5 rows x 12 columns]"
      ]
     },
     "execution_count": 45,
     "metadata": {},
     "output_type": "execute_result"
    }
   ],
   "source": [
    "lead_df.head()"
   ]
  },
  {
   "cell_type": "code",
   "execution_count": 46,
   "metadata": {},
   "outputs": [],
   "source": [
    "# mapping of columns\n",
    "\n",
    "lead_df['A free copy of Mastering The Interview']=lead_df['A free copy of Mastering The Interview'].apply(lambda x: 1 if x=='Yes' else 0)"
   ]
  },
  {
   "cell_type": "code",
   "execution_count": 47,
   "metadata": {},
   "outputs": [],
   "source": [
    "# Dropping the Last Notable Activity as it is mostly same Last Activity\n",
    "lead_df.drop('Last Notable Activity',axis=1,inplace=True)"
   ]
  },
  {
   "cell_type": "code",
   "execution_count": 61,
   "metadata": {},
   "outputs": [
    {
     "data": {
      "text/plain": [
       "Index(['Prospect ID', 'Lead Number', 'Lead Origin', 'Lead Source', 'Converted',\n",
       "       'TotalVisits', 'Total Time Spent on Website', 'Page Views Per Visit',\n",
       "       'Last Activity', 'Specialization',\n",
       "       'A free copy of Mastering The Interview'],\n",
       "      dtype='object')"
      ]
     },
     "execution_count": 61,
     "metadata": {},
     "output_type": "execute_result"
    }
   ],
   "source": [
    "lead_df.columns"
   ]
  },
  {
   "cell_type": "code",
   "execution_count": 62,
   "metadata": {},
   "outputs": [],
   "source": [
    "lead_df.drop(['Prospect ID', 'Lead Number'], axis=1, inplace=True)"
   ]
  },
  {
   "cell_type": "markdown",
   "metadata": {},
   "source": [
    "Creating dummies of Categorical Variables"
   ]
  },
  {
   "cell_type": "code",
   "execution_count": 63,
   "metadata": {},
   "outputs": [
    {
     "data": {
      "text/html": [
       "<div>\n",
       "<style scoped>\n",
       "    .dataframe tbody tr th:only-of-type {\n",
       "        vertical-align: middle;\n",
       "    }\n",
       "\n",
       "    .dataframe tbody tr th {\n",
       "        vertical-align: top;\n",
       "    }\n",
       "\n",
       "    .dataframe thead th {\n",
       "        text-align: right;\n",
       "    }\n",
       "</style>\n",
       "<table border=\"1\" class=\"dataframe\">\n",
       "  <thead>\n",
       "    <tr style=\"text-align: right;\">\n",
       "      <th></th>\n",
       "      <th>Converted</th>\n",
       "      <th>TotalVisits</th>\n",
       "      <th>Total Time Spent on Website</th>\n",
       "      <th>Page Views Per Visit</th>\n",
       "      <th>A free copy of Mastering The Interview</th>\n",
       "      <th>Lead Origin_API</th>\n",
       "      <th>Lead Origin_Landing Page Submission</th>\n",
       "      <th>Lead Origin_Lead Add Form</th>\n",
       "      <th>Lead Origin_Lead Import</th>\n",
       "      <th>Lead Origin_Quick Add Form</th>\n",
       "      <th>Lead Source_Direct Traffic</th>\n",
       "      <th>Lead Source_Google</th>\n",
       "      <th>Lead Source_Olark Chat</th>\n",
       "      <th>Lead Source_Organic Search</th>\n",
       "      <th>Lead Source_Other</th>\n",
       "      <th>Last Activity_Converted to Lead</th>\n",
       "      <th>Last Activity_Email Bounced</th>\n",
       "      <th>Last Activity_Email Opened</th>\n",
       "      <th>Last Activity_Olark Chat Conversation</th>\n",
       "      <th>Last Activity_Other</th>\n",
       "      <th>Last Activity_Page Visited on Website</th>\n",
       "      <th>Last Activity_SMS Sent</th>\n",
       "      <th>Specialization_Business Administration</th>\n",
       "      <th>Specialization_Finance Management</th>\n",
       "      <th>Specialization_Human Resource Management</th>\n",
       "      <th>Specialization_IT Projects Management</th>\n",
       "      <th>Specialization_Marketing Management</th>\n",
       "      <th>Specialization_Operations Management</th>\n",
       "      <th>Specialization_Other</th>\n",
       "    </tr>\n",
       "  </thead>\n",
       "  <tbody>\n",
       "    <tr>\n",
       "      <th>0</th>\n",
       "      <td>0</td>\n",
       "      <td>0.0</td>\n",
       "      <td>0</td>\n",
       "      <td>0.0</td>\n",
       "      <td>0</td>\n",
       "      <td>True</td>\n",
       "      <td>False</td>\n",
       "      <td>False</td>\n",
       "      <td>False</td>\n",
       "      <td>False</td>\n",
       "      <td>False</td>\n",
       "      <td>False</td>\n",
       "      <td>True</td>\n",
       "      <td>False</td>\n",
       "      <td>False</td>\n",
       "      <td>False</td>\n",
       "      <td>False</td>\n",
       "      <td>False</td>\n",
       "      <td>False</td>\n",
       "      <td>False</td>\n",
       "      <td>True</td>\n",
       "      <td>False</td>\n",
       "      <td>False</td>\n",
       "      <td>True</td>\n",
       "      <td>False</td>\n",
       "      <td>False</td>\n",
       "      <td>False</td>\n",
       "      <td>False</td>\n",
       "      <td>False</td>\n",
       "    </tr>\n",
       "    <tr>\n",
       "      <th>1</th>\n",
       "      <td>0</td>\n",
       "      <td>5.0</td>\n",
       "      <td>674</td>\n",
       "      <td>2.5</td>\n",
       "      <td>0</td>\n",
       "      <td>True</td>\n",
       "      <td>False</td>\n",
       "      <td>False</td>\n",
       "      <td>False</td>\n",
       "      <td>False</td>\n",
       "      <td>False</td>\n",
       "      <td>False</td>\n",
       "      <td>False</td>\n",
       "      <td>True</td>\n",
       "      <td>False</td>\n",
       "      <td>False</td>\n",
       "      <td>False</td>\n",
       "      <td>True</td>\n",
       "      <td>False</td>\n",
       "      <td>False</td>\n",
       "      <td>False</td>\n",
       "      <td>False</td>\n",
       "      <td>False</td>\n",
       "      <td>True</td>\n",
       "      <td>False</td>\n",
       "      <td>False</td>\n",
       "      <td>False</td>\n",
       "      <td>False</td>\n",
       "      <td>False</td>\n",
       "    </tr>\n",
       "    <tr>\n",
       "      <th>2</th>\n",
       "      <td>1</td>\n",
       "      <td>2.0</td>\n",
       "      <td>1532</td>\n",
       "      <td>2.0</td>\n",
       "      <td>1</td>\n",
       "      <td>False</td>\n",
       "      <td>True</td>\n",
       "      <td>False</td>\n",
       "      <td>False</td>\n",
       "      <td>False</td>\n",
       "      <td>True</td>\n",
       "      <td>False</td>\n",
       "      <td>False</td>\n",
       "      <td>False</td>\n",
       "      <td>False</td>\n",
       "      <td>False</td>\n",
       "      <td>False</td>\n",
       "      <td>True</td>\n",
       "      <td>False</td>\n",
       "      <td>False</td>\n",
       "      <td>False</td>\n",
       "      <td>False</td>\n",
       "      <td>True</td>\n",
       "      <td>False</td>\n",
       "      <td>False</td>\n",
       "      <td>False</td>\n",
       "      <td>False</td>\n",
       "      <td>False</td>\n",
       "      <td>False</td>\n",
       "    </tr>\n",
       "    <tr>\n",
       "      <th>3</th>\n",
       "      <td>0</td>\n",
       "      <td>1.0</td>\n",
       "      <td>305</td>\n",
       "      <td>1.0</td>\n",
       "      <td>0</td>\n",
       "      <td>False</td>\n",
       "      <td>True</td>\n",
       "      <td>False</td>\n",
       "      <td>False</td>\n",
       "      <td>False</td>\n",
       "      <td>True</td>\n",
       "      <td>False</td>\n",
       "      <td>False</td>\n",
       "      <td>False</td>\n",
       "      <td>False</td>\n",
       "      <td>False</td>\n",
       "      <td>False</td>\n",
       "      <td>False</td>\n",
       "      <td>False</td>\n",
       "      <td>True</td>\n",
       "      <td>False</td>\n",
       "      <td>False</td>\n",
       "      <td>False</td>\n",
       "      <td>False</td>\n",
       "      <td>False</td>\n",
       "      <td>False</td>\n",
       "      <td>False</td>\n",
       "      <td>False</td>\n",
       "      <td>True</td>\n",
       "    </tr>\n",
       "    <tr>\n",
       "      <th>4</th>\n",
       "      <td>1</td>\n",
       "      <td>2.0</td>\n",
       "      <td>1428</td>\n",
       "      <td>1.0</td>\n",
       "      <td>0</td>\n",
       "      <td>False</td>\n",
       "      <td>True</td>\n",
       "      <td>False</td>\n",
       "      <td>False</td>\n",
       "      <td>False</td>\n",
       "      <td>False</td>\n",
       "      <td>True</td>\n",
       "      <td>False</td>\n",
       "      <td>False</td>\n",
       "      <td>False</td>\n",
       "      <td>True</td>\n",
       "      <td>False</td>\n",
       "      <td>False</td>\n",
       "      <td>False</td>\n",
       "      <td>False</td>\n",
       "      <td>False</td>\n",
       "      <td>False</td>\n",
       "      <td>False</td>\n",
       "      <td>True</td>\n",
       "      <td>False</td>\n",
       "      <td>False</td>\n",
       "      <td>False</td>\n",
       "      <td>False</td>\n",
       "      <td>False</td>\n",
       "    </tr>\n",
       "  </tbody>\n",
       "</table>\n",
       "</div>"
      ],
      "text/plain": [
       "   Converted  ...  Specialization_Other\n",
       "0          0  ...                 False\n",
       "1          0  ...                 False\n",
       "2          1  ...                 False\n",
       "3          0  ...                  True\n",
       "4          1  ...                 False\n",
       "\n",
       "[5 rows x 29 columns]"
      ]
     },
     "execution_count": 63,
     "metadata": {},
     "output_type": "execute_result"
    }
   ],
   "source": [
    "dummies_df=pd.get_dummies(lead_df)\n",
    "dummies_df.head()"
   ]
  },
  {
   "cell_type": "code",
   "execution_count": 64,
   "metadata": {},
   "outputs": [
    {
     "data": {
      "text/plain": [
       "Index(['Converted', 'TotalVisits', 'Total Time Spent on Website',\n",
       "       'Page Views Per Visit', 'A free copy of Mastering The Interview',\n",
       "       'Lead Origin_API', 'Lead Origin_Landing Page Submission',\n",
       "       'Lead Origin_Lead Add Form', 'Lead Origin_Lead Import',\n",
       "       'Lead Origin_Quick Add Form', 'Lead Source_Direct Traffic',\n",
       "       'Lead Source_Google', 'Lead Source_Olark Chat',\n",
       "       'Lead Source_Organic Search', 'Lead Source_Other',\n",
       "       'Last Activity_Converted to Lead', 'Last Activity_Email Bounced',\n",
       "       'Last Activity_Email Opened', 'Last Activity_Olark Chat Conversation',\n",
       "       'Last Activity_Other', 'Last Activity_Page Visited on Website',\n",
       "       'Last Activity_SMS Sent', 'Specialization_Business Administration',\n",
       "       'Specialization_Finance Management',\n",
       "       'Specialization_Human Resource Management',\n",
       "       'Specialization_IT Projects Management',\n",
       "       'Specialization_Marketing Management',\n",
       "       'Specialization_Operations Management', 'Specialization_Other'],\n",
       "      dtype='object')"
      ]
     },
     "execution_count": 64,
     "metadata": {},
     "output_type": "execute_result"
    }
   ],
   "source": [
    "dummies_df.columns"
   ]
  },
  {
   "cell_type": "code",
   "execution_count": 65,
   "metadata": {},
   "outputs": [],
   "source": [
    "# dropping columns on basis of anal\n",
    "\n",
    "dummies_df=dummies_df.drop(['A free copy of Mastering The Interview','Lead Origin_Lead Add Form','Lead Source_Organic Search','Last Activity_Email Opened','Specialization_Operations Management'],axis=1)"
   ]
  },
  {
   "cell_type": "markdown",
   "metadata": {},
   "source": [
    "##  Splitting the Data into Training and Testing Sets"
   ]
  },
  {
   "cell_type": "code",
   "execution_count": 66,
   "metadata": {},
   "outputs": [],
   "source": [
    "X=dummies_df.iloc[:,1:]\n",
    "y=dummies_df[['Converted']]"
   ]
  },
  {
   "cell_type": "code",
   "execution_count": 213,
   "metadata": {},
   "outputs": [],
   "source": [
    "X_train, X_test, y_train, y_test=train_test_split(X,y,train_size=.7,test_size=.3,random_state=50)"
   ]
  },
  {
   "cell_type": "markdown",
   "metadata": {},
   "source": [
    "### scaling the Features \n"
   ]
  },
  {
   "cell_type": "code",
   "execution_count": 214,
   "metadata": {
    "scrolled": true
   },
   "outputs": [],
   "source": [
    "scaler=StandardScaler()\n",
    "X_train[['Total Time Spent on Website','Page Views Per Visit','TotalVisits']]=\\\n",
    "scaler.fit_transform(X_train[['Total Time Spent on Website','Page Views Per Visit','TotalVisits']])"
   ]
  },
  {
   "cell_type": "markdown",
   "metadata": {},
   "source": [
    "### Correlation "
   ]
  },
  {
   "cell_type": "code",
   "execution_count": 53,
   "metadata": {},
   "outputs": [],
   "source": [
    "# # Finding the Correlation using HeatMap\n",
    "# plt.figure(figsize = (20, 10))\n",
    "# mask = np.zeros(X_train.corr().shape, dtype=bool)\n",
    "# mask[np.triu_indices(len(mask))] = True\n",
    "# sns.heatmap(X_train.corr(), annot = True, vmin=-1,cmap='coolwarm',mask=mask)\n",
    "# plt.show()"
   ]
  },
  {
   "cell_type": "markdown",
   "metadata": {},
   "source": [
    "- We can see some columns are highly correlated\n",
    "- we will let RFE to decide to drop which columns"
   ]
  },
  {
   "cell_type": "code",
   "execution_count": 215,
   "metadata": {},
   "outputs": [],
   "source": [
    "# Using rfe for features selection\n",
    "logreg=LogisticRegression()"
   ]
  },
  {
   "cell_type": "code",
   "execution_count": 216,
   "metadata": {},
   "outputs": [],
   "source": [
    "# Running RFE with the output number of the variable equal to 20\n",
    "rfe=RFE(estimator=logreg,n_features_to_select=20)    # running RFE\n",
    "rfe=rfe.fit(X_train,y_train)"
   ]
  },
  {
   "cell_type": "code",
   "execution_count": 217,
   "metadata": {},
   "outputs": [
    {
     "data": {
      "text/plain": [
       "array([ True,  True,  True,  True,  True,  True, False,  True, False,\n",
       "        True,  True,  True,  True,  True,  True,  True,  True,  True,\n",
       "        True,  True,  True, False,  True])"
      ]
     },
     "execution_count": 217,
     "metadata": {},
     "output_type": "execute_result"
    }
   ],
   "source": [
    "rfe.support_"
   ]
  },
  {
   "cell_type": "code",
   "execution_count": 218,
   "metadata": {},
   "outputs": [
    {
     "data": {
      "text/plain": [
       "[('TotalVisits', True, 1),\n",
       " ('Total Time Spent on Website', True, 1),\n",
       " ('Page Views Per Visit', True, 1),\n",
       " ('Lead Origin_API', True, 1),\n",
       " ('Lead Origin_Landing Page Submission', True, 1),\n",
       " ('Lead Origin_Lead Import', True, 1),\n",
       " ('Lead Origin_Quick Add Form', False, 4),\n",
       " ('Lead Source_Direct Traffic', True, 1),\n",
       " ('Lead Source_Google', False, 2),\n",
       " ('Lead Source_Olark Chat', True, 1),\n",
       " ('Lead Source_Other', True, 1),\n",
       " ('Last Activity_Converted to Lead', True, 1),\n",
       " ('Last Activity_Email Bounced', True, 1),\n",
       " ('Last Activity_Olark Chat Conversation', True, 1),\n",
       " ('Last Activity_Other', True, 1),\n",
       " ('Last Activity_Page Visited on Website', True, 1),\n",
       " ('Last Activity_SMS Sent', True, 1),\n",
       " ('Specialization_Business Administration', True, 1),\n",
       " ('Specialization_Finance Management', True, 1),\n",
       " ('Specialization_Human Resource Management', True, 1),\n",
       " ('Specialization_IT Projects Management', True, 1),\n",
       " ('Specialization_Marketing Management', False, 3),\n",
       " ('Specialization_Other', True, 1)]"
      ]
     },
     "execution_count": 218,
     "metadata": {},
     "output_type": "execute_result"
    }
   ],
   "source": [
    "list(zip(X_train.columns, rfe.support_, rfe.ranking_))"
   ]
  },
  {
   "cell_type": "code",
   "execution_count": 219,
   "metadata": {},
   "outputs": [
    {
     "data": {
      "text/plain": [
       "Index(['TotalVisits', 'Total Time Spent on Website', 'Page Views Per Visit',\n",
       "       'Lead Origin_API', 'Lead Origin_Landing Page Submission',\n",
       "       'Lead Origin_Lead Import', 'Lead Source_Direct Traffic',\n",
       "       'Lead Source_Olark Chat', 'Lead Source_Other',\n",
       "       'Last Activity_Converted to Lead', 'Last Activity_Email Bounced',\n",
       "       'Last Activity_Olark Chat Conversation', 'Last Activity_Other',\n",
       "       'Last Activity_Page Visited on Website', 'Last Activity_SMS Sent',\n",
       "       'Specialization_Business Administration',\n",
       "       'Specialization_Finance Management',\n",
       "       'Specialization_Human Resource Management',\n",
       "       'Specialization_IT Projects Management', 'Specialization_Other'],\n",
       "      dtype='object')"
      ]
     },
     "execution_count": 219,
     "metadata": {},
     "output_type": "execute_result"
    }
   ],
   "source": [
    "# After used RFE here RFE selected these variables should be used for modeling\n",
    "col = X_train.columns[rfe.support_]\n",
    "col"
   ]
  },
  {
   "cell_type": "code",
   "execution_count": 220,
   "metadata": {},
   "outputs": [
    {
     "data": {
      "text/plain": [
       "Index(['Lead Origin_Quick Add Form', 'Lead Source_Google',\n",
       "       'Specialization_Marketing Management'],\n",
       "      dtype='object')"
      ]
     },
     "execution_count": 220,
     "metadata": {},
     "output_type": "execute_result"
    }
   ],
   "source": [
    "# After used RFE here RFE selected these variables should not be used for modeling\n",
    "X_train.columns[~rfe.support_]"
   ]
  },
  {
   "cell_type": "code",
   "execution_count": 221,
   "metadata": {},
   "outputs": [
    {
     "data": {
      "text/html": [
       "<div>\n",
       "<style scoped>\n",
       "    .dataframe tbody tr th:only-of-type {\n",
       "        vertical-align: middle;\n",
       "    }\n",
       "\n",
       "    .dataframe tbody tr th {\n",
       "        vertical-align: top;\n",
       "    }\n",
       "\n",
       "    .dataframe thead th {\n",
       "        text-align: right;\n",
       "    }\n",
       "</style>\n",
       "<table border=\"1\" class=\"dataframe\">\n",
       "  <thead>\n",
       "    <tr style=\"text-align: right;\">\n",
       "      <th></th>\n",
       "      <th>TotalVisits</th>\n",
       "      <th>Total Time Spent on Website</th>\n",
       "      <th>Page Views Per Visit</th>\n",
       "      <th>Lead Origin_API</th>\n",
       "      <th>Lead Origin_Landing Page Submission</th>\n",
       "      <th>Lead Origin_Lead Import</th>\n",
       "      <th>Lead Origin_Quick Add Form</th>\n",
       "      <th>Lead Source_Direct Traffic</th>\n",
       "      <th>Lead Source_Google</th>\n",
       "      <th>Lead Source_Olark Chat</th>\n",
       "      <th>Lead Source_Other</th>\n",
       "      <th>Last Activity_Converted to Lead</th>\n",
       "      <th>Last Activity_Email Bounced</th>\n",
       "      <th>Last Activity_Olark Chat Conversation</th>\n",
       "      <th>Last Activity_Other</th>\n",
       "      <th>Last Activity_Page Visited on Website</th>\n",
       "      <th>Last Activity_SMS Sent</th>\n",
       "      <th>Specialization_Business Administration</th>\n",
       "      <th>Specialization_Finance Management</th>\n",
       "      <th>Specialization_Human Resource Management</th>\n",
       "      <th>Specialization_IT Projects Management</th>\n",
       "      <th>Specialization_Marketing Management</th>\n",
       "      <th>Specialization_Other</th>\n",
       "    </tr>\n",
       "  </thead>\n",
       "  <tbody>\n",
       "    <tr>\n",
       "      <th>3241</th>\n",
       "      <td>0.150297</td>\n",
       "      <td>0.871654</td>\n",
       "      <td>-0.476187</td>\n",
       "      <td>False</td>\n",
       "      <td>True</td>\n",
       "      <td>False</td>\n",
       "      <td>False</td>\n",
       "      <td>True</td>\n",
       "      <td>False</td>\n",
       "      <td>False</td>\n",
       "      <td>False</td>\n",
       "      <td>False</td>\n",
       "      <td>False</td>\n",
       "      <td>False</td>\n",
       "      <td>False</td>\n",
       "      <td>False</td>\n",
       "      <td>True</td>\n",
       "      <td>True</td>\n",
       "      <td>False</td>\n",
       "      <td>False</td>\n",
       "      <td>False</td>\n",
       "      <td>False</td>\n",
       "      <td>False</td>\n",
       "    </tr>\n",
       "    <tr>\n",
       "      <th>5315</th>\n",
       "      <td>-0.356544</td>\n",
       "      <td>-0.386353</td>\n",
       "      <td>-0.164545</td>\n",
       "      <td>False</td>\n",
       "      <td>True</td>\n",
       "      <td>False</td>\n",
       "      <td>False</td>\n",
       "      <td>True</td>\n",
       "      <td>False</td>\n",
       "      <td>False</td>\n",
       "      <td>False</td>\n",
       "      <td>False</td>\n",
       "      <td>False</td>\n",
       "      <td>False</td>\n",
       "      <td>False</td>\n",
       "      <td>False</td>\n",
       "      <td>True</td>\n",
       "      <td>False</td>\n",
       "      <td>True</td>\n",
       "      <td>False</td>\n",
       "      <td>False</td>\n",
       "      <td>False</td>\n",
       "      <td>False</td>\n",
       "    </tr>\n",
       "    <tr>\n",
       "      <th>4039</th>\n",
       "      <td>-0.863386</td>\n",
       "      <td>-0.894639</td>\n",
       "      <td>-1.094822</td>\n",
       "      <td>True</td>\n",
       "      <td>False</td>\n",
       "      <td>False</td>\n",
       "      <td>False</td>\n",
       "      <td>False</td>\n",
       "      <td>False</td>\n",
       "      <td>True</td>\n",
       "      <td>False</td>\n",
       "      <td>False</td>\n",
       "      <td>False</td>\n",
       "      <td>False</td>\n",
       "      <td>False</td>\n",
       "      <td>False</td>\n",
       "      <td>False</td>\n",
       "      <td>False</td>\n",
       "      <td>True</td>\n",
       "      <td>False</td>\n",
       "      <td>False</td>\n",
       "      <td>False</td>\n",
       "      <td>False</td>\n",
       "    </tr>\n",
       "    <tr>\n",
       "      <th>7079</th>\n",
       "      <td>-0.356544</td>\n",
       "      <td>-0.362754</td>\n",
       "      <td>-0.164545</td>\n",
       "      <td>False</td>\n",
       "      <td>True</td>\n",
       "      <td>False</td>\n",
       "      <td>False</td>\n",
       "      <td>True</td>\n",
       "      <td>False</td>\n",
       "      <td>False</td>\n",
       "      <td>False</td>\n",
       "      <td>False</td>\n",
       "      <td>False</td>\n",
       "      <td>False</td>\n",
       "      <td>False</td>\n",
       "      <td>False</td>\n",
       "      <td>False</td>\n",
       "      <td>False</td>\n",
       "      <td>False</td>\n",
       "      <td>False</td>\n",
       "      <td>True</td>\n",
       "      <td>False</td>\n",
       "      <td>False</td>\n",
       "    </tr>\n",
       "    <tr>\n",
       "      <th>5655</th>\n",
       "      <td>-0.609965</td>\n",
       "      <td>0.005753</td>\n",
       "      <td>-0.629683</td>\n",
       "      <td>False</td>\n",
       "      <td>True</td>\n",
       "      <td>False</td>\n",
       "      <td>False</td>\n",
       "      <td>True</td>\n",
       "      <td>False</td>\n",
       "      <td>False</td>\n",
       "      <td>False</td>\n",
       "      <td>True</td>\n",
       "      <td>False</td>\n",
       "      <td>False</td>\n",
       "      <td>False</td>\n",
       "      <td>False</td>\n",
       "      <td>False</td>\n",
       "      <td>False</td>\n",
       "      <td>False</td>\n",
       "      <td>False</td>\n",
       "      <td>True</td>\n",
       "      <td>False</td>\n",
       "      <td>False</td>\n",
       "    </tr>\n",
       "  </tbody>\n",
       "</table>\n",
       "</div>"
      ],
      "text/plain": [
       "      TotalVisits  ...  Specialization_Other\n",
       "3241     0.150297  ...                 False\n",
       "5315    -0.356544  ...                 False\n",
       "4039    -0.863386  ...                 False\n",
       "7079    -0.356544  ...                 False\n",
       "5655    -0.609965  ...                 False\n",
       "\n",
       "[5 rows x 23 columns]"
      ]
     },
     "execution_count": 221,
     "metadata": {},
     "output_type": "execute_result"
    }
   ],
   "source": [
    "X_train.head()"
   ]
  },
  {
   "cell_type": "code",
   "execution_count": 222,
   "metadata": {},
   "outputs": [],
   "source": [
    "X_train = X_train.replace({True: 1, False: 0})"
   ]
  },
  {
   "cell_type": "code",
   "execution_count": 223,
   "metadata": {},
   "outputs": [
    {
     "data": {
      "text/html": [
       "<div>\n",
       "<style scoped>\n",
       "    .dataframe tbody tr th:only-of-type {\n",
       "        vertical-align: middle;\n",
       "    }\n",
       "\n",
       "    .dataframe tbody tr th {\n",
       "        vertical-align: top;\n",
       "    }\n",
       "\n",
       "    .dataframe thead th {\n",
       "        text-align: right;\n",
       "    }\n",
       "</style>\n",
       "<table border=\"1\" class=\"dataframe\">\n",
       "  <thead>\n",
       "    <tr style=\"text-align: right;\">\n",
       "      <th></th>\n",
       "      <th>TotalVisits</th>\n",
       "      <th>Total Time Spent on Website</th>\n",
       "      <th>Page Views Per Visit</th>\n",
       "      <th>Lead Origin_API</th>\n",
       "      <th>Lead Origin_Landing Page Submission</th>\n",
       "      <th>Lead Origin_Lead Import</th>\n",
       "      <th>Lead Origin_Quick Add Form</th>\n",
       "      <th>Lead Source_Direct Traffic</th>\n",
       "      <th>Lead Source_Google</th>\n",
       "      <th>Lead Source_Olark Chat</th>\n",
       "      <th>Lead Source_Other</th>\n",
       "      <th>Last Activity_Converted to Lead</th>\n",
       "      <th>Last Activity_Email Bounced</th>\n",
       "      <th>Last Activity_Olark Chat Conversation</th>\n",
       "      <th>Last Activity_Other</th>\n",
       "      <th>Last Activity_Page Visited on Website</th>\n",
       "      <th>Last Activity_SMS Sent</th>\n",
       "      <th>Specialization_Business Administration</th>\n",
       "      <th>Specialization_Finance Management</th>\n",
       "      <th>Specialization_Human Resource Management</th>\n",
       "      <th>Specialization_IT Projects Management</th>\n",
       "      <th>Specialization_Marketing Management</th>\n",
       "      <th>Specialization_Other</th>\n",
       "    </tr>\n",
       "  </thead>\n",
       "  <tbody>\n",
       "    <tr>\n",
       "      <th>3241</th>\n",
       "      <td>0.150297</td>\n",
       "      <td>0.871654</td>\n",
       "      <td>-0.476187</td>\n",
       "      <td>0</td>\n",
       "      <td>1</td>\n",
       "      <td>0</td>\n",
       "      <td>0</td>\n",
       "      <td>1</td>\n",
       "      <td>0</td>\n",
       "      <td>0</td>\n",
       "      <td>0</td>\n",
       "      <td>0</td>\n",
       "      <td>0</td>\n",
       "      <td>0</td>\n",
       "      <td>0</td>\n",
       "      <td>0</td>\n",
       "      <td>1</td>\n",
       "      <td>1</td>\n",
       "      <td>0</td>\n",
       "      <td>0</td>\n",
       "      <td>0</td>\n",
       "      <td>0</td>\n",
       "      <td>0</td>\n",
       "    </tr>\n",
       "    <tr>\n",
       "      <th>5315</th>\n",
       "      <td>-0.356544</td>\n",
       "      <td>-0.386353</td>\n",
       "      <td>-0.164545</td>\n",
       "      <td>0</td>\n",
       "      <td>1</td>\n",
       "      <td>0</td>\n",
       "      <td>0</td>\n",
       "      <td>1</td>\n",
       "      <td>0</td>\n",
       "      <td>0</td>\n",
       "      <td>0</td>\n",
       "      <td>0</td>\n",
       "      <td>0</td>\n",
       "      <td>0</td>\n",
       "      <td>0</td>\n",
       "      <td>0</td>\n",
       "      <td>1</td>\n",
       "      <td>0</td>\n",
       "      <td>1</td>\n",
       "      <td>0</td>\n",
       "      <td>0</td>\n",
       "      <td>0</td>\n",
       "      <td>0</td>\n",
       "    </tr>\n",
       "    <tr>\n",
       "      <th>4039</th>\n",
       "      <td>-0.863386</td>\n",
       "      <td>-0.894639</td>\n",
       "      <td>-1.094822</td>\n",
       "      <td>1</td>\n",
       "      <td>0</td>\n",
       "      <td>0</td>\n",
       "      <td>0</td>\n",
       "      <td>0</td>\n",
       "      <td>0</td>\n",
       "      <td>1</td>\n",
       "      <td>0</td>\n",
       "      <td>0</td>\n",
       "      <td>0</td>\n",
       "      <td>0</td>\n",
       "      <td>0</td>\n",
       "      <td>0</td>\n",
       "      <td>0</td>\n",
       "      <td>0</td>\n",
       "      <td>1</td>\n",
       "      <td>0</td>\n",
       "      <td>0</td>\n",
       "      <td>0</td>\n",
       "      <td>0</td>\n",
       "    </tr>\n",
       "    <tr>\n",
       "      <th>7079</th>\n",
       "      <td>-0.356544</td>\n",
       "      <td>-0.362754</td>\n",
       "      <td>-0.164545</td>\n",
       "      <td>0</td>\n",
       "      <td>1</td>\n",
       "      <td>0</td>\n",
       "      <td>0</td>\n",
       "      <td>1</td>\n",
       "      <td>0</td>\n",
       "      <td>0</td>\n",
       "      <td>0</td>\n",
       "      <td>0</td>\n",
       "      <td>0</td>\n",
       "      <td>0</td>\n",
       "      <td>0</td>\n",
       "      <td>0</td>\n",
       "      <td>0</td>\n",
       "      <td>0</td>\n",
       "      <td>0</td>\n",
       "      <td>0</td>\n",
       "      <td>1</td>\n",
       "      <td>0</td>\n",
       "      <td>0</td>\n",
       "    </tr>\n",
       "    <tr>\n",
       "      <th>5655</th>\n",
       "      <td>-0.609965</td>\n",
       "      <td>0.005753</td>\n",
       "      <td>-0.629683</td>\n",
       "      <td>0</td>\n",
       "      <td>1</td>\n",
       "      <td>0</td>\n",
       "      <td>0</td>\n",
       "      <td>1</td>\n",
       "      <td>0</td>\n",
       "      <td>0</td>\n",
       "      <td>0</td>\n",
       "      <td>1</td>\n",
       "      <td>0</td>\n",
       "      <td>0</td>\n",
       "      <td>0</td>\n",
       "      <td>0</td>\n",
       "      <td>0</td>\n",
       "      <td>0</td>\n",
       "      <td>0</td>\n",
       "      <td>0</td>\n",
       "      <td>1</td>\n",
       "      <td>0</td>\n",
       "      <td>0</td>\n",
       "    </tr>\n",
       "  </tbody>\n",
       "</table>\n",
       "</div>"
      ],
      "text/plain": [
       "      TotalVisits  ...  Specialization_Other\n",
       "3241     0.150297  ...                     0\n",
       "5315    -0.356544  ...                     0\n",
       "4039    -0.863386  ...                     0\n",
       "7079    -0.356544  ...                     0\n",
       "5655    -0.609965  ...                     0\n",
       "\n",
       "[5 rows x 23 columns]"
      ]
     },
     "execution_count": 223,
     "metadata": {},
     "output_type": "execute_result"
    }
   ],
   "source": [
    "X_train.head()"
   ]
  },
  {
   "cell_type": "code",
   "execution_count": 224,
   "metadata": {},
   "outputs": [
    {
     "data": {
      "text/html": [
       "<div>\n",
       "<style scoped>\n",
       "    .dataframe tbody tr th:only-of-type {\n",
       "        vertical-align: middle;\n",
       "    }\n",
       "\n",
       "    .dataframe tbody tr th {\n",
       "        vertical-align: top;\n",
       "    }\n",
       "\n",
       "    .dataframe thead th {\n",
       "        text-align: right;\n",
       "    }\n",
       "</style>\n",
       "<table border=\"1\" class=\"dataframe\">\n",
       "  <thead>\n",
       "    <tr style=\"text-align: right;\">\n",
       "      <th></th>\n",
       "      <th>Converted</th>\n",
       "    </tr>\n",
       "  </thead>\n",
       "  <tbody>\n",
       "    <tr>\n",
       "      <th>3241</th>\n",
       "      <td>1</td>\n",
       "    </tr>\n",
       "    <tr>\n",
       "      <th>5315</th>\n",
       "      <td>1</td>\n",
       "    </tr>\n",
       "    <tr>\n",
       "      <th>4039</th>\n",
       "      <td>0</td>\n",
       "    </tr>\n",
       "    <tr>\n",
       "      <th>7079</th>\n",
       "      <td>0</td>\n",
       "    </tr>\n",
       "    <tr>\n",
       "      <th>5655</th>\n",
       "      <td>1</td>\n",
       "    </tr>\n",
       "  </tbody>\n",
       "</table>\n",
       "</div>"
      ],
      "text/plain": [
       "      Converted\n",
       "3241          1\n",
       "5315          1\n",
       "4039          0\n",
       "7079          0\n",
       "5655          1"
      ]
     },
     "execution_count": 224,
     "metadata": {},
     "output_type": "execute_result"
    }
   ],
   "source": [
    "y_train.head()"
   ]
  },
  {
   "cell_type": "markdown",
   "metadata": {},
   "source": [
    "## Step 5: Building a Logistic Regression using statsmodel, for the detailed statistics"
   ]
  },
  {
   "cell_type": "markdown",
   "metadata": {},
   "source": [
    "#### Model 1"
   ]
  },
  {
   "cell_type": "code",
   "execution_count": 225,
   "metadata": {},
   "outputs": [
    {
     "data": {
      "text/html": [
       "<table class=\"simpletable\">\n",
       "<caption>Generalized Linear Model Regression Results</caption>\n",
       "<tr>\n",
       "  <th>Dep. Variable:</th>       <td>Converted</td>    <th>  No. Observations:  </th>  <td>  6468</td> \n",
       "</tr>\n",
       "<tr>\n",
       "  <th>Model:</th>                  <td>GLM</td>       <th>  Df Residuals:      </th>  <td>  6447</td> \n",
       "</tr>\n",
       "<tr>\n",
       "  <th>Model Family:</th>        <td>Binomial</td>     <th>  Df Model:          </th>  <td>    20</td> \n",
       "</tr>\n",
       "<tr>\n",
       "  <th>Link Function:</th>         <td>Logit</td>      <th>  Scale:             </th> <td>  1.0000</td>\n",
       "</tr>\n",
       "<tr>\n",
       "  <th>Method:</th>                <td>IRLS</td>       <th>  Log-Likelihood:    </th> <td> -2919.0</td>\n",
       "</tr>\n",
       "<tr>\n",
       "  <th>Date:</th>            <td>Wed, 18 Dec 2024</td> <th>  Deviance:          </th> <td>  5838.0</td>\n",
       "</tr>\n",
       "<tr>\n",
       "  <th>Time:</th>                <td>00:27:50</td>     <th>  Pearson chi2:      </th> <td>6.78e+03</td>\n",
       "</tr>\n",
       "<tr>\n",
       "  <th>No. Iterations:</th>          <td>6</td>        <th>  Pseudo R-squ. (CS):</th>  <td>0.3520</td> \n",
       "</tr>\n",
       "<tr>\n",
       "  <th>Covariance Type:</th>     <td>nonrobust</td>    <th>                     </th>     <td> </td>   \n",
       "</tr>\n",
       "</table>\n",
       "<table class=\"simpletable\">\n",
       "<tr>\n",
       "                      <td></td>                        <th>coef</th>     <th>std err</th>      <th>z</th>      <th>P>|z|</th>  <th>[0.025</th>    <th>0.975]</th>  \n",
       "</tr>\n",
       "<tr>\n",
       "  <th>const</th>                                    <td>    3.3445</td> <td>    0.312</td> <td>   10.728</td> <td> 0.000</td> <td>    2.733</td> <td>    3.956</td>\n",
       "</tr>\n",
       "<tr>\n",
       "  <th>TotalVisits</th>                              <td>    0.1462</td> <td>    0.042</td> <td>    3.472</td> <td> 0.001</td> <td>    0.064</td> <td>    0.229</td>\n",
       "</tr>\n",
       "<tr>\n",
       "  <th>Total Time Spent on Website</th>              <td>    1.1176</td> <td>    0.039</td> <td>   28.917</td> <td> 0.000</td> <td>    1.042</td> <td>    1.193</td>\n",
       "</tr>\n",
       "<tr>\n",
       "  <th>Page Views Per Visit</th>                     <td>   -0.1531</td> <td>    0.050</td> <td>   -3.063</td> <td> 0.002</td> <td>   -0.251</td> <td>   -0.055</td>\n",
       "</tr>\n",
       "<tr>\n",
       "  <th>Lead Origin_API</th>                          <td>   -3.6002</td> <td>    0.299</td> <td>  -12.051</td> <td> 0.000</td> <td>   -4.186</td> <td>   -3.015</td>\n",
       "</tr>\n",
       "<tr>\n",
       "  <th>Lead Origin_Landing Page Submission</th>      <td>   -3.9864</td> <td>    0.310</td> <td>  -12.864</td> <td> 0.000</td> <td>   -4.594</td> <td>   -3.379</td>\n",
       "</tr>\n",
       "<tr>\n",
       "  <th>Lead Origin_Lead Import</th>                  <td>   -3.6110</td> <td>    0.428</td> <td>   -8.432</td> <td> 0.000</td> <td>   -4.450</td> <td>   -2.772</td>\n",
       "</tr>\n",
       "<tr>\n",
       "  <th>Lead Source_Direct Traffic</th>               <td>   -0.3741</td> <td>    0.086</td> <td>   -4.366</td> <td> 0.000</td> <td>   -0.542</td> <td>   -0.206</td>\n",
       "</tr>\n",
       "<tr>\n",
       "  <th>Lead Source_Olark Chat</th>                   <td>    0.9671</td> <td>    0.129</td> <td>    7.477</td> <td> 0.000</td> <td>    0.714</td> <td>    1.221</td>\n",
       "</tr>\n",
       "<tr>\n",
       "  <th>Lead Source_Other</th>                        <td>    0.1436</td> <td>    0.244</td> <td>    0.589</td> <td> 0.556</td> <td>   -0.334</td> <td>    0.622</td>\n",
       "</tr>\n",
       "<tr>\n",
       "  <th>Last Activity_Converted to Lead</th>          <td>   -1.1086</td> <td>    0.202</td> <td>   -5.497</td> <td> 0.000</td> <td>   -1.504</td> <td>   -0.713</td>\n",
       "</tr>\n",
       "<tr>\n",
       "  <th>Last Activity_Email Bounced</th>              <td>   -2.0727</td> <td>    0.303</td> <td>   -6.845</td> <td> 0.000</td> <td>   -2.666</td> <td>   -1.479</td>\n",
       "</tr>\n",
       "<tr>\n",
       "  <th>Last Activity_Olark Chat Conversation</th>    <td>   -1.4805</td> <td>    0.154</td> <td>   -9.634</td> <td> 0.000</td> <td>   -1.782</td> <td>   -1.179</td>\n",
       "</tr>\n",
       "<tr>\n",
       "  <th>Last Activity_Other</th>                      <td>   -0.3876</td> <td>    0.140</td> <td>   -2.775</td> <td> 0.006</td> <td>   -0.661</td> <td>   -0.114</td>\n",
       "</tr>\n",
       "<tr>\n",
       "  <th>Last Activity_Page Visited on Website</th>    <td>   -0.7316</td> <td>    0.145</td> <td>   -5.043</td> <td> 0.000</td> <td>   -1.016</td> <td>   -0.447</td>\n",
       "</tr>\n",
       "<tr>\n",
       "  <th>Last Activity_SMS Sent</th>                   <td>    1.1243</td> <td>    0.075</td> <td>   14.992</td> <td> 0.000</td> <td>    0.977</td> <td>    1.271</td>\n",
       "</tr>\n",
       "<tr>\n",
       "  <th>Specialization_Business Administration</th>   <td>   -0.1755</td> <td>    0.170</td> <td>   -1.034</td> <td> 0.301</td> <td>   -0.508</td> <td>    0.157</td>\n",
       "</tr>\n",
       "<tr>\n",
       "  <th>Specialization_Finance Management</th>        <td>   -0.8340</td> <td>    0.109</td> <td>   -7.654</td> <td> 0.000</td> <td>   -1.048</td> <td>   -0.620</td>\n",
       "</tr>\n",
       "<tr>\n",
       "  <th>Specialization_Human Resource Management</th> <td>   -0.2070</td> <td>    0.133</td> <td>   -1.556</td> <td> 0.120</td> <td>   -0.468</td> <td>    0.054</td>\n",
       "</tr>\n",
       "<tr>\n",
       "  <th>Specialization_IT Projects Management</th>    <td>   -0.1497</td> <td>    0.186</td> <td>   -0.805</td> <td> 0.421</td> <td>   -0.514</td> <td>    0.215</td>\n",
       "</tr>\n",
       "<tr>\n",
       "  <th>Specialization_Other</th>                     <td>   -0.3117</td> <td>    0.108</td> <td>   -2.899</td> <td> 0.004</td> <td>   -0.522</td> <td>   -0.101</td>\n",
       "</tr>\n",
       "</table>"
      ],
      "text/latex": [
       "\\begin{center}\n",
       "\\begin{tabular}{lclc}\n",
       "\\toprule\n",
       "\\textbf{Dep. Variable:}                            &    Converted     & \\textbf{  No. Observations:  } &     6468    \\\\\n",
       "\\textbf{Model:}                                    &       GLM        & \\textbf{  Df Residuals:      } &     6447    \\\\\n",
       "\\textbf{Model Family:}                             &     Binomial     & \\textbf{  Df Model:          } &       20    \\\\\n",
       "\\textbf{Link Function:}                            &      Logit       & \\textbf{  Scale:             } &    1.0000   \\\\\n",
       "\\textbf{Method:}                                   &       IRLS       & \\textbf{  Log-Likelihood:    } &   -2919.0   \\\\\n",
       "\\textbf{Date:}                                     & Wed, 18 Dec 2024 & \\textbf{  Deviance:          } &    5838.0   \\\\\n",
       "\\textbf{Time:}                                     &     00:27:50     & \\textbf{  Pearson chi2:      } &  6.78e+03   \\\\\n",
       "\\textbf{No. Iterations:}                           &        6         & \\textbf{  Pseudo R-squ. (CS):} &   0.3520    \\\\\n",
       "\\textbf{Covariance Type:}                          &    nonrobust     & \\textbf{                     } &             \\\\\n",
       "\\bottomrule\n",
       "\\end{tabular}\n",
       "\\begin{tabular}{lcccccc}\n",
       "                                                   & \\textbf{coef} & \\textbf{std err} & \\textbf{z} & \\textbf{P$> |$z$|$} & \\textbf{[0.025} & \\textbf{0.975]}  \\\\\n",
       "\\midrule\n",
       "\\textbf{const}                                     &       3.3445  &        0.312     &    10.728  &         0.000        &        2.733    &        3.956     \\\\\n",
       "\\textbf{TotalVisits}                               &       0.1462  &        0.042     &     3.472  &         0.001        &        0.064    &        0.229     \\\\\n",
       "\\textbf{Total Time Spent on Website}               &       1.1176  &        0.039     &    28.917  &         0.000        &        1.042    &        1.193     \\\\\n",
       "\\textbf{Page Views Per Visit}                      &      -0.1531  &        0.050     &    -3.063  &         0.002        &       -0.251    &       -0.055     \\\\\n",
       "\\textbf{Lead Origin\\_API}                          &      -3.6002  &        0.299     &   -12.051  &         0.000        &       -4.186    &       -3.015     \\\\\n",
       "\\textbf{Lead Origin\\_Landing Page Submission}      &      -3.9864  &        0.310     &   -12.864  &         0.000        &       -4.594    &       -3.379     \\\\\n",
       "\\textbf{Lead Origin\\_Lead Import}                  &      -3.6110  &        0.428     &    -8.432  &         0.000        &       -4.450    &       -2.772     \\\\\n",
       "\\textbf{Lead Source\\_Direct Traffic}               &      -0.3741  &        0.086     &    -4.366  &         0.000        &       -0.542    &       -0.206     \\\\\n",
       "\\textbf{Lead Source\\_Olark Chat}                   &       0.9671  &        0.129     &     7.477  &         0.000        &        0.714    &        1.221     \\\\\n",
       "\\textbf{Lead Source\\_Other}                        &       0.1436  &        0.244     &     0.589  &         0.556        &       -0.334    &        0.622     \\\\\n",
       "\\textbf{Last Activity\\_Converted to Lead}          &      -1.1086  &        0.202     &    -5.497  &         0.000        &       -1.504    &       -0.713     \\\\\n",
       "\\textbf{Last Activity\\_Email Bounced}              &      -2.0727  &        0.303     &    -6.845  &         0.000        &       -2.666    &       -1.479     \\\\\n",
       "\\textbf{Last Activity\\_Olark Chat Conversation}    &      -1.4805  &        0.154     &    -9.634  &         0.000        &       -1.782    &       -1.179     \\\\\n",
       "\\textbf{Last Activity\\_Other}                      &      -0.3876  &        0.140     &    -2.775  &         0.006        &       -0.661    &       -0.114     \\\\\n",
       "\\textbf{Last Activity\\_Page Visited on Website}    &      -0.7316  &        0.145     &    -5.043  &         0.000        &       -1.016    &       -0.447     \\\\\n",
       "\\textbf{Last Activity\\_SMS Sent}                   &       1.1243  &        0.075     &    14.992  &         0.000        &        0.977    &        1.271     \\\\\n",
       "\\textbf{Specialization\\_Business Administration}   &      -0.1755  &        0.170     &    -1.034  &         0.301        &       -0.508    &        0.157     \\\\\n",
       "\\textbf{Specialization\\_Finance Management}        &      -0.8340  &        0.109     &    -7.654  &         0.000        &       -1.048    &       -0.620     \\\\\n",
       "\\textbf{Specialization\\_Human Resource Management} &      -0.2070  &        0.133     &    -1.556  &         0.120        &       -0.468    &        0.054     \\\\\n",
       "\\textbf{Specialization\\_IT Projects Management}    &      -0.1497  &        0.186     &    -0.805  &         0.421        &       -0.514    &        0.215     \\\\\n",
       "\\textbf{Specialization\\_Other}                     &      -0.3117  &        0.108     &    -2.899  &         0.004        &       -0.522    &       -0.101     \\\\\n",
       "\\bottomrule\n",
       "\\end{tabular}\n",
       "%\\caption{Generalized Linear Model Regression Results}\n",
       "\\end{center}"
      ],
      "text/plain": [
       "<class 'statsmodels.iolib.summary.Summary'>\n",
       "\"\"\"\n",
       "                 Generalized Linear Model Regression Results                  \n",
       "==============================================================================\n",
       "Dep. Variable:              Converted   No. Observations:                 6468\n",
       "Model:                            GLM   Df Residuals:                     6447\n",
       "Model Family:                Binomial   Df Model:                           20\n",
       "Link Function:                  Logit   Scale:                          1.0000\n",
       "Method:                          IRLS   Log-Likelihood:                -2919.0\n",
       "Date:                Wed, 18 Dec 2024   Deviance:                       5838.0\n",
       "Time:                        00:27:50   Pearson chi2:                 6.78e+03\n",
       "No. Iterations:                     6   Pseudo R-squ. (CS):             0.3520\n",
       "Covariance Type:            nonrobust                                         \n",
       "============================================================================================================\n",
       "                                               coef    std err          z      P>|z|      [0.025      0.975]\n",
       "------------------------------------------------------------------------------------------------------------\n",
       "const                                        3.3445      0.312     10.728      0.000       2.733       3.956\n",
       "TotalVisits                                  0.1462      0.042      3.472      0.001       0.064       0.229\n",
       "Total Time Spent on Website                  1.1176      0.039     28.917      0.000       1.042       1.193\n",
       "Page Views Per Visit                        -0.1531      0.050     -3.063      0.002      -0.251      -0.055\n",
       "Lead Origin_API                             -3.6002      0.299    -12.051      0.000      -4.186      -3.015\n",
       "Lead Origin_Landing Page Submission         -3.9864      0.310    -12.864      0.000      -4.594      -3.379\n",
       "Lead Origin_Lead Import                     -3.6110      0.428     -8.432      0.000      -4.450      -2.772\n",
       "Lead Source_Direct Traffic                  -0.3741      0.086     -4.366      0.000      -0.542      -0.206\n",
       "Lead Source_Olark Chat                       0.9671      0.129      7.477      0.000       0.714       1.221\n",
       "Lead Source_Other                            0.1436      0.244      0.589      0.556      -0.334       0.622\n",
       "Last Activity_Converted to Lead             -1.1086      0.202     -5.497      0.000      -1.504      -0.713\n",
       "Last Activity_Email Bounced                 -2.0727      0.303     -6.845      0.000      -2.666      -1.479\n",
       "Last Activity_Olark Chat Conversation       -1.4805      0.154     -9.634      0.000      -1.782      -1.179\n",
       "Last Activity_Other                         -0.3876      0.140     -2.775      0.006      -0.661      -0.114\n",
       "Last Activity_Page Visited on Website       -0.7316      0.145     -5.043      0.000      -1.016      -0.447\n",
       "Last Activity_SMS Sent                       1.1243      0.075     14.992      0.000       0.977       1.271\n",
       "Specialization_Business Administration      -0.1755      0.170     -1.034      0.301      -0.508       0.157\n",
       "Specialization_Finance Management           -0.8340      0.109     -7.654      0.000      -1.048      -0.620\n",
       "Specialization_Human Resource Management    -0.2070      0.133     -1.556      0.120      -0.468       0.054\n",
       "Specialization_IT Projects Management       -0.1497      0.186     -0.805      0.421      -0.514       0.215\n",
       "Specialization_Other                        -0.3117      0.108     -2.899      0.004      -0.522      -0.101\n",
       "============================================================================================================\n",
       "\"\"\""
      ]
     },
     "execution_count": 225,
     "metadata": {},
     "output_type": "execute_result"
    }
   ],
   "source": [
    "X_train_sm = sm.add_constant(X_train[col])\n",
    "logm1 = sm.GLM(y_train,X_train_sm,family = sm.families.Binomial())\n",
    "res = logm1.fit()\n",
    "res.summary()"
   ]
  },
  {
   "cell_type": "code",
   "execution_count": 226,
   "metadata": {},
   "outputs": [],
   "source": [
    "# function to calculate vif\n",
    "def vifcalc(df):\n",
    "    vif = pd.DataFrame()\n",
    "\n",
    "    vif['Features'] = df.columns\n",
    "    vif['VIF'] = [variance_inflation_factor(df.values, i) for i in range(df.shape[1])]\n",
    "    vif['VIF'] = round(vif['VIF'], 2)\n",
    "    vif = vif.sort_values(by = \"VIF\", ascending = False)\n",
    "    return vif"
   ]
  },
  {
   "cell_type": "code",
   "execution_count": 227,
   "metadata": {
    "scrolled": true
   },
   "outputs": [],
   "source": [
    "# Calculate the VIFs for the new model\n",
    "vifcalc(X_train[col]);"
   ]
  },
  {
   "cell_type": "markdown",
   "metadata": {},
   "source": [
    "`Lead Source_Other` is insignificant because it has high p-value in presence of other variables so it should be dropped"
   ]
  },
  {
   "cell_type": "code",
   "execution_count": 228,
   "metadata": {},
   "outputs": [],
   "source": [
    "col=col.drop('Lead Source_Other',1)"
   ]
  },
  {
   "cell_type": "markdown",
   "metadata": {},
   "source": [
    "### Model 2"
   ]
  },
  {
   "cell_type": "code",
   "execution_count": 229,
   "metadata": {
    "scrolled": true
   },
   "outputs": [
    {
     "data": {
      "text/html": [
       "<table class=\"simpletable\">\n",
       "<caption>Generalized Linear Model Regression Results</caption>\n",
       "<tr>\n",
       "  <th>Dep. Variable:</th>       <td>Converted</td>    <th>  No. Observations:  </th>  <td>  6468</td> \n",
       "</tr>\n",
       "<tr>\n",
       "  <th>Model:</th>                  <td>GLM</td>       <th>  Df Residuals:      </th>  <td>  6448</td> \n",
       "</tr>\n",
       "<tr>\n",
       "  <th>Model Family:</th>        <td>Binomial</td>     <th>  Df Model:          </th>  <td>    19</td> \n",
       "</tr>\n",
       "<tr>\n",
       "  <th>Link Function:</th>         <td>Logit</td>      <th>  Scale:             </th> <td>  1.0000</td>\n",
       "</tr>\n",
       "<tr>\n",
       "  <th>Method:</th>                <td>IRLS</td>       <th>  Log-Likelihood:    </th> <td> -2919.2</td>\n",
       "</tr>\n",
       "<tr>\n",
       "  <th>Date:</th>            <td>Wed, 18 Dec 2024</td> <th>  Deviance:          </th> <td>  5838.4</td>\n",
       "</tr>\n",
       "<tr>\n",
       "  <th>Time:</th>                <td>00:27:50</td>     <th>  Pearson chi2:      </th> <td>6.78e+03</td>\n",
       "</tr>\n",
       "<tr>\n",
       "  <th>No. Iterations:</th>          <td>6</td>        <th>  Pseudo R-squ. (CS):</th>  <td>0.3520</td> \n",
       "</tr>\n",
       "<tr>\n",
       "  <th>Covariance Type:</th>     <td>nonrobust</td>    <th>                     </th>     <td> </td>   \n",
       "</tr>\n",
       "</table>\n",
       "<table class=\"simpletable\">\n",
       "<tr>\n",
       "                      <td></td>                        <th>coef</th>     <th>std err</th>      <th>z</th>      <th>P>|z|</th>  <th>[0.025</th>    <th>0.975]</th>  \n",
       "</tr>\n",
       "<tr>\n",
       "  <th>const</th>                                    <td>    3.4813</td> <td>    0.209</td> <td>   16.693</td> <td> 0.000</td> <td>    3.073</td> <td>    3.890</td>\n",
       "</tr>\n",
       "<tr>\n",
       "  <th>TotalVisits</th>                              <td>    0.1474</td> <td>    0.042</td> <td>    3.527</td> <td> 0.000</td> <td>    0.065</td> <td>    0.229</td>\n",
       "</tr>\n",
       "<tr>\n",
       "  <th>Total Time Spent on Website</th>              <td>    1.1169</td> <td>    0.039</td> <td>   28.918</td> <td> 0.000</td> <td>    1.041</td> <td>    1.193</td>\n",
       "</tr>\n",
       "<tr>\n",
       "  <th>Page Views Per Visit</th>                     <td>   -0.1525</td> <td>    0.050</td> <td>   -3.054</td> <td> 0.002</td> <td>   -0.250</td> <td>   -0.055</td>\n",
       "</tr>\n",
       "<tr>\n",
       "  <th>Lead Origin_API</th>                          <td>   -3.7283</td> <td>    0.206</td> <td>  -18.115</td> <td> 0.000</td> <td>   -4.132</td> <td>   -3.325</td>\n",
       "</tr>\n",
       "<tr>\n",
       "  <th>Lead Origin_Landing Page Submission</th>      <td>   -4.1208</td> <td>    0.210</td> <td>  -19.589</td> <td> 0.000</td> <td>   -4.533</td> <td>   -3.708</td>\n",
       "</tr>\n",
       "<tr>\n",
       "  <th>Lead Origin_Lead Import</th>                  <td>   -3.6053</td> <td>    0.428</td> <td>   -8.426</td> <td> 0.000</td> <td>   -4.444</td> <td>   -2.767</td>\n",
       "</tr>\n",
       "<tr>\n",
       "  <th>Lead Source_Direct Traffic</th>               <td>   -0.3760</td> <td>    0.086</td> <td>   -4.394</td> <td> 0.000</td> <td>   -0.544</td> <td>   -0.208</td>\n",
       "</tr>\n",
       "<tr>\n",
       "  <th>Lead Source_Olark Chat</th>                   <td>    0.9590</td> <td>    0.129</td> <td>    7.460</td> <td> 0.000</td> <td>    0.707</td> <td>    1.211</td>\n",
       "</tr>\n",
       "<tr>\n",
       "  <th>Last Activity_Converted to Lead</th>          <td>   -1.1067</td> <td>    0.202</td> <td>   -5.492</td> <td> 0.000</td> <td>   -1.502</td> <td>   -0.712</td>\n",
       "</tr>\n",
       "<tr>\n",
       "  <th>Last Activity_Email Bounced</th>              <td>   -2.0782</td> <td>    0.303</td> <td>   -6.848</td> <td> 0.000</td> <td>   -2.673</td> <td>   -1.483</td>\n",
       "</tr>\n",
       "<tr>\n",
       "  <th>Last Activity_Olark Chat Conversation</th>    <td>   -1.4789</td> <td>    0.154</td> <td>   -9.625</td> <td> 0.000</td> <td>   -1.780</td> <td>   -1.178</td>\n",
       "</tr>\n",
       "<tr>\n",
       "  <th>Last Activity_Other</th>                      <td>   -0.3849</td> <td>    0.140</td> <td>   -2.758</td> <td> 0.006</td> <td>   -0.658</td> <td>   -0.111</td>\n",
       "</tr>\n",
       "<tr>\n",
       "  <th>Last Activity_Page Visited on Website</th>    <td>   -0.7325</td> <td>    0.145</td> <td>   -5.050</td> <td> 0.000</td> <td>   -1.017</td> <td>   -0.448</td>\n",
       "</tr>\n",
       "<tr>\n",
       "  <th>Last Activity_SMS Sent</th>                   <td>    1.1222</td> <td>    0.075</td> <td>   14.983</td> <td> 0.000</td> <td>    0.975</td> <td>    1.269</td>\n",
       "</tr>\n",
       "<tr>\n",
       "  <th>Specialization_Business Administration</th>   <td>   -0.1749</td> <td>    0.170</td> <td>   -1.031</td> <td> 0.303</td> <td>   -0.507</td> <td>    0.158</td>\n",
       "</tr>\n",
       "<tr>\n",
       "  <th>Specialization_Finance Management</th>        <td>   -0.8334</td> <td>    0.109</td> <td>   -7.650</td> <td> 0.000</td> <td>   -1.047</td> <td>   -0.620</td>\n",
       "</tr>\n",
       "<tr>\n",
       "  <th>Specialization_Human Resource Management</th> <td>   -0.2070</td> <td>    0.133</td> <td>   -1.556</td> <td> 0.120</td> <td>   -0.468</td> <td>    0.054</td>\n",
       "</tr>\n",
       "<tr>\n",
       "  <th>Specialization_IT Projects Management</th>    <td>   -0.1506</td> <td>    0.186</td> <td>   -0.810</td> <td> 0.418</td> <td>   -0.515</td> <td>    0.214</td>\n",
       "</tr>\n",
       "<tr>\n",
       "  <th>Specialization_Other</th>                     <td>   -0.3122</td> <td>    0.107</td> <td>   -2.905</td> <td> 0.004</td> <td>   -0.523</td> <td>   -0.102</td>\n",
       "</tr>\n",
       "</table>"
      ],
      "text/latex": [
       "\\begin{center}\n",
       "\\begin{tabular}{lclc}\n",
       "\\toprule\n",
       "\\textbf{Dep. Variable:}                            &    Converted     & \\textbf{  No. Observations:  } &     6468    \\\\\n",
       "\\textbf{Model:}                                    &       GLM        & \\textbf{  Df Residuals:      } &     6448    \\\\\n",
       "\\textbf{Model Family:}                             &     Binomial     & \\textbf{  Df Model:          } &       19    \\\\\n",
       "\\textbf{Link Function:}                            &      Logit       & \\textbf{  Scale:             } &    1.0000   \\\\\n",
       "\\textbf{Method:}                                   &       IRLS       & \\textbf{  Log-Likelihood:    } &   -2919.2   \\\\\n",
       "\\textbf{Date:}                                     & Wed, 18 Dec 2024 & \\textbf{  Deviance:          } &    5838.4   \\\\\n",
       "\\textbf{Time:}                                     &     00:27:50     & \\textbf{  Pearson chi2:      } &  6.78e+03   \\\\\n",
       "\\textbf{No. Iterations:}                           &        6         & \\textbf{  Pseudo R-squ. (CS):} &   0.3520    \\\\\n",
       "\\textbf{Covariance Type:}                          &    nonrobust     & \\textbf{                     } &             \\\\\n",
       "\\bottomrule\n",
       "\\end{tabular}\n",
       "\\begin{tabular}{lcccccc}\n",
       "                                                   & \\textbf{coef} & \\textbf{std err} & \\textbf{z} & \\textbf{P$> |$z$|$} & \\textbf{[0.025} & \\textbf{0.975]}  \\\\\n",
       "\\midrule\n",
       "\\textbf{const}                                     &       3.4813  &        0.209     &    16.693  &         0.000        &        3.073    &        3.890     \\\\\n",
       "\\textbf{TotalVisits}                               &       0.1474  &        0.042     &     3.527  &         0.000        &        0.065    &        0.229     \\\\\n",
       "\\textbf{Total Time Spent on Website}               &       1.1169  &        0.039     &    28.918  &         0.000        &        1.041    &        1.193     \\\\\n",
       "\\textbf{Page Views Per Visit}                      &      -0.1525  &        0.050     &    -3.054  &         0.002        &       -0.250    &       -0.055     \\\\\n",
       "\\textbf{Lead Origin\\_API}                          &      -3.7283  &        0.206     &   -18.115  &         0.000        &       -4.132    &       -3.325     \\\\\n",
       "\\textbf{Lead Origin\\_Landing Page Submission}      &      -4.1208  &        0.210     &   -19.589  &         0.000        &       -4.533    &       -3.708     \\\\\n",
       "\\textbf{Lead Origin\\_Lead Import}                  &      -3.6053  &        0.428     &    -8.426  &         0.000        &       -4.444    &       -2.767     \\\\\n",
       "\\textbf{Lead Source\\_Direct Traffic}               &      -0.3760  &        0.086     &    -4.394  &         0.000        &       -0.544    &       -0.208     \\\\\n",
       "\\textbf{Lead Source\\_Olark Chat}                   &       0.9590  &        0.129     &     7.460  &         0.000        &        0.707    &        1.211     \\\\\n",
       "\\textbf{Last Activity\\_Converted to Lead}          &      -1.1067  &        0.202     &    -5.492  &         0.000        &       -1.502    &       -0.712     \\\\\n",
       "\\textbf{Last Activity\\_Email Bounced}              &      -2.0782  &        0.303     &    -6.848  &         0.000        &       -2.673    &       -1.483     \\\\\n",
       "\\textbf{Last Activity\\_Olark Chat Conversation}    &      -1.4789  &        0.154     &    -9.625  &         0.000        &       -1.780    &       -1.178     \\\\\n",
       "\\textbf{Last Activity\\_Other}                      &      -0.3849  &        0.140     &    -2.758  &         0.006        &       -0.658    &       -0.111     \\\\\n",
       "\\textbf{Last Activity\\_Page Visited on Website}    &      -0.7325  &        0.145     &    -5.050  &         0.000        &       -1.017    &       -0.448     \\\\\n",
       "\\textbf{Last Activity\\_SMS Sent}                   &       1.1222  &        0.075     &    14.983  &         0.000        &        0.975    &        1.269     \\\\\n",
       "\\textbf{Specialization\\_Business Administration}   &      -0.1749  &        0.170     &    -1.031  &         0.303        &       -0.507    &        0.158     \\\\\n",
       "\\textbf{Specialization\\_Finance Management}        &      -0.8334  &        0.109     &    -7.650  &         0.000        &       -1.047    &       -0.620     \\\\\n",
       "\\textbf{Specialization\\_Human Resource Management} &      -0.2070  &        0.133     &    -1.556  &         0.120        &       -0.468    &        0.054     \\\\\n",
       "\\textbf{Specialization\\_IT Projects Management}    &      -0.1506  &        0.186     &    -0.810  &         0.418        &       -0.515    &        0.214     \\\\\n",
       "\\textbf{Specialization\\_Other}                     &      -0.3122  &        0.107     &    -2.905  &         0.004        &       -0.523    &       -0.102     \\\\\n",
       "\\bottomrule\n",
       "\\end{tabular}\n",
       "%\\caption{Generalized Linear Model Regression Results}\n",
       "\\end{center}"
      ],
      "text/plain": [
       "<class 'statsmodels.iolib.summary.Summary'>\n",
       "\"\"\"\n",
       "                 Generalized Linear Model Regression Results                  \n",
       "==============================================================================\n",
       "Dep. Variable:              Converted   No. Observations:                 6468\n",
       "Model:                            GLM   Df Residuals:                     6448\n",
       "Model Family:                Binomial   Df Model:                           19\n",
       "Link Function:                  Logit   Scale:                          1.0000\n",
       "Method:                          IRLS   Log-Likelihood:                -2919.2\n",
       "Date:                Wed, 18 Dec 2024   Deviance:                       5838.4\n",
       "Time:                        00:27:50   Pearson chi2:                 6.78e+03\n",
       "No. Iterations:                     6   Pseudo R-squ. (CS):             0.3520\n",
       "Covariance Type:            nonrobust                                         \n",
       "============================================================================================================\n",
       "                                               coef    std err          z      P>|z|      [0.025      0.975]\n",
       "------------------------------------------------------------------------------------------------------------\n",
       "const                                        3.4813      0.209     16.693      0.000       3.073       3.890\n",
       "TotalVisits                                  0.1474      0.042      3.527      0.000       0.065       0.229\n",
       "Total Time Spent on Website                  1.1169      0.039     28.918      0.000       1.041       1.193\n",
       "Page Views Per Visit                        -0.1525      0.050     -3.054      0.002      -0.250      -0.055\n",
       "Lead Origin_API                             -3.7283      0.206    -18.115      0.000      -4.132      -3.325\n",
       "Lead Origin_Landing Page Submission         -4.1208      0.210    -19.589      0.000      -4.533      -3.708\n",
       "Lead Origin_Lead Import                     -3.6053      0.428     -8.426      0.000      -4.444      -2.767\n",
       "Lead Source_Direct Traffic                  -0.3760      0.086     -4.394      0.000      -0.544      -0.208\n",
       "Lead Source_Olark Chat                       0.9590      0.129      7.460      0.000       0.707       1.211\n",
       "Last Activity_Converted to Lead             -1.1067      0.202     -5.492      0.000      -1.502      -0.712\n",
       "Last Activity_Email Bounced                 -2.0782      0.303     -6.848      0.000      -2.673      -1.483\n",
       "Last Activity_Olark Chat Conversation       -1.4789      0.154     -9.625      0.000      -1.780      -1.178\n",
       "Last Activity_Other                         -0.3849      0.140     -2.758      0.006      -0.658      -0.111\n",
       "Last Activity_Page Visited on Website       -0.7325      0.145     -5.050      0.000      -1.017      -0.448\n",
       "Last Activity_SMS Sent                       1.1222      0.075     14.983      0.000       0.975       1.269\n",
       "Specialization_Business Administration      -0.1749      0.170     -1.031      0.303      -0.507       0.158\n",
       "Specialization_Finance Management           -0.8334      0.109     -7.650      0.000      -1.047      -0.620\n",
       "Specialization_Human Resource Management    -0.2070      0.133     -1.556      0.120      -0.468       0.054\n",
       "Specialization_IT Projects Management       -0.1506      0.186     -0.810      0.418      -0.515       0.214\n",
       "Specialization_Other                        -0.3122      0.107     -2.905      0.004      -0.523      -0.102\n",
       "============================================================================================================\n",
       "\"\"\""
      ]
     },
     "execution_count": 229,
     "metadata": {},
     "output_type": "execute_result"
    }
   ],
   "source": [
    "X_train_sm=sm.add_constant(X_train[col])\n",
    "logm2=sm.GLM(y_train,X_train_sm,family = sm.families.Binomial()).fit()\n",
    "logm2.summary()"
   ]
  },
  {
   "cell_type": "code",
   "execution_count": 230,
   "metadata": {},
   "outputs": [
    {
     "data": {
      "text/html": [
       "<div>\n",
       "<style scoped>\n",
       "    .dataframe tbody tr th:only-of-type {\n",
       "        vertical-align: middle;\n",
       "    }\n",
       "\n",
       "    .dataframe tbody tr th {\n",
       "        vertical-align: top;\n",
       "    }\n",
       "\n",
       "    .dataframe thead th {\n",
       "        text-align: right;\n",
       "    }\n",
       "</style>\n",
       "<table border=\"1\" class=\"dataframe\">\n",
       "  <thead>\n",
       "    <tr style=\"text-align: right;\">\n",
       "      <th></th>\n",
       "      <th>Features</th>\n",
       "      <th>VIF</th>\n",
       "    </tr>\n",
       "  </thead>\n",
       "  <tbody>\n",
       "    <tr>\n",
       "      <th>4</th>\n",
       "      <td>Lead Origin_Landing Page Submission</td>\n",
       "      <td>5.21</td>\n",
       "    </tr>\n",
       "    <tr>\n",
       "      <th>3</th>\n",
       "      <td>Lead Origin_API</td>\n",
       "      <td>4.89</td>\n",
       "    </tr>\n",
       "    <tr>\n",
       "      <th>15</th>\n",
       "      <td>Specialization_Finance Management</td>\n",
       "      <td>3.98</td>\n",
       "    </tr>\n",
       "    <tr>\n",
       "      <th>7</th>\n",
       "      <td>Lead Source_Olark Chat</td>\n",
       "      <td>2.82</td>\n",
       "    </tr>\n",
       "    <tr>\n",
       "      <th>2</th>\n",
       "      <td>Page Views Per Visit</td>\n",
       "      <td>2.14</td>\n",
       "    </tr>\n",
       "    <tr>\n",
       "      <th>18</th>\n",
       "      <td>Specialization_Other</td>\n",
       "      <td>2.08</td>\n",
       "    </tr>\n",
       "    <tr>\n",
       "      <th>6</th>\n",
       "      <td>Lead Source_Direct Traffic</td>\n",
       "      <td>2.03</td>\n",
       "    </tr>\n",
       "    <tr>\n",
       "      <th>0</th>\n",
       "      <td>TotalVisits</td>\n",
       "      <td>1.79</td>\n",
       "    </tr>\n",
       "    <tr>\n",
       "      <th>13</th>\n",
       "      <td>Last Activity_SMS Sent</td>\n",
       "      <td>1.68</td>\n",
       "    </tr>\n",
       "    <tr>\n",
       "      <th>10</th>\n",
       "      <td>Last Activity_Olark Chat Conversation</td>\n",
       "      <td>1.53</td>\n",
       "    </tr>\n",
       "    <tr>\n",
       "      <th>16</th>\n",
       "      <td>Specialization_Human Resource Management</td>\n",
       "      <td>1.41</td>\n",
       "    </tr>\n",
       "    <tr>\n",
       "      <th>1</th>\n",
       "      <td>Total Time Spent on Website</td>\n",
       "      <td>1.25</td>\n",
       "    </tr>\n",
       "    <tr>\n",
       "      <th>12</th>\n",
       "      <td>Last Activity_Page Visited on Website</td>\n",
       "      <td>1.24</td>\n",
       "    </tr>\n",
       "    <tr>\n",
       "      <th>14</th>\n",
       "      <td>Specialization_Business Administration</td>\n",
       "      <td>1.22</td>\n",
       "    </tr>\n",
       "    <tr>\n",
       "      <th>17</th>\n",
       "      <td>Specialization_IT Projects Management</td>\n",
       "      <td>1.21</td>\n",
       "    </tr>\n",
       "    <tr>\n",
       "      <th>8</th>\n",
       "      <td>Last Activity_Converted to Lead</td>\n",
       "      <td>1.20</td>\n",
       "    </tr>\n",
       "    <tr>\n",
       "      <th>11</th>\n",
       "      <td>Last Activity_Other</td>\n",
       "      <td>1.15</td>\n",
       "    </tr>\n",
       "    <tr>\n",
       "      <th>9</th>\n",
       "      <td>Last Activity_Email Bounced</td>\n",
       "      <td>1.12</td>\n",
       "    </tr>\n",
       "    <tr>\n",
       "      <th>5</th>\n",
       "      <td>Lead Origin_Lead Import</td>\n",
       "      <td>1.04</td>\n",
       "    </tr>\n",
       "  </tbody>\n",
       "</table>\n",
       "</div>"
      ],
      "text/plain": [
       "                                    Features   VIF\n",
       "4        Lead Origin_Landing Page Submission  5.21\n",
       "3                            Lead Origin_API  4.89\n",
       "15         Specialization_Finance Management  3.98\n",
       "7                     Lead Source_Olark Chat  2.82\n",
       "2                       Page Views Per Visit  2.14\n",
       "18                      Specialization_Other  2.08\n",
       "6                 Lead Source_Direct Traffic  2.03\n",
       "0                                TotalVisits  1.79\n",
       "13                    Last Activity_SMS Sent  1.68\n",
       "10     Last Activity_Olark Chat Conversation  1.53\n",
       "16  Specialization_Human Resource Management  1.41\n",
       "1                Total Time Spent on Website  1.25\n",
       "12     Last Activity_Page Visited on Website  1.24\n",
       "14    Specialization_Business Administration  1.22\n",
       "17     Specialization_IT Projects Management  1.21\n",
       "8            Last Activity_Converted to Lead  1.20\n",
       "11                       Last Activity_Other  1.15\n",
       "9                Last Activity_Email Bounced  1.12\n",
       "5                    Lead Origin_Lead Import  1.04"
      ]
     },
     "execution_count": 230,
     "metadata": {},
     "output_type": "execute_result"
    }
   ],
   "source": [
    "# Calculate the VIFs for the new model\n",
    "vifcalc(X_train[col])"
   ]
  },
  {
   "cell_type": "markdown",
   "metadata": {},
   "source": [
    "`Specialization_Human Resource Management` is insignificant because it has high p-value in presence of other variables so it should be dropped"
   ]
  },
  {
   "cell_type": "code",
   "execution_count": 231,
   "metadata": {},
   "outputs": [],
   "source": [
    "col=col.drop('Specialization_Human Resource Management',1)"
   ]
  },
  {
   "cell_type": "markdown",
   "metadata": {},
   "source": [
    "### Model 3"
   ]
  },
  {
   "cell_type": "code",
   "execution_count": 232,
   "metadata": {},
   "outputs": [
    {
     "data": {
      "text/html": [
       "<table class=\"simpletable\">\n",
       "<caption>Generalized Linear Model Regression Results</caption>\n",
       "<tr>\n",
       "  <th>Dep. Variable:</th>       <td>Converted</td>    <th>  No. Observations:  </th>  <td>  6468</td> \n",
       "</tr>\n",
       "<tr>\n",
       "  <th>Model:</th>                  <td>GLM</td>       <th>  Df Residuals:      </th>  <td>  6449</td> \n",
       "</tr>\n",
       "<tr>\n",
       "  <th>Model Family:</th>        <td>Binomial</td>     <th>  Df Model:          </th>  <td>    18</td> \n",
       "</tr>\n",
       "<tr>\n",
       "  <th>Link Function:</th>         <td>Logit</td>      <th>  Scale:             </th> <td>  1.0000</td>\n",
       "</tr>\n",
       "<tr>\n",
       "  <th>Method:</th>                <td>IRLS</td>       <th>  Log-Likelihood:    </th> <td> -2920.4</td>\n",
       "</tr>\n",
       "<tr>\n",
       "  <th>Date:</th>            <td>Wed, 18 Dec 2024</td> <th>  Deviance:          </th> <td>  5840.8</td>\n",
       "</tr>\n",
       "<tr>\n",
       "  <th>Time:</th>                <td>00:27:51</td>     <th>  Pearson chi2:      </th> <td>6.78e+03</td>\n",
       "</tr>\n",
       "<tr>\n",
       "  <th>No. Iterations:</th>          <td>6</td>        <th>  Pseudo R-squ. (CS):</th>  <td>0.3517</td> \n",
       "</tr>\n",
       "<tr>\n",
       "  <th>Covariance Type:</th>     <td>nonrobust</td>    <th>                     </th>     <td> </td>   \n",
       "</tr>\n",
       "</table>\n",
       "<table class=\"simpletable\">\n",
       "<tr>\n",
       "                     <td></td>                       <th>coef</th>     <th>std err</th>      <th>z</th>      <th>P>|z|</th>  <th>[0.025</th>    <th>0.975]</th>  \n",
       "</tr>\n",
       "<tr>\n",
       "  <th>const</th>                                  <td>    3.3970</td> <td>    0.201</td> <td>   16.877</td> <td> 0.000</td> <td>    3.003</td> <td>    3.792</td>\n",
       "</tr>\n",
       "<tr>\n",
       "  <th>TotalVisits</th>                            <td>    0.1466</td> <td>    0.042</td> <td>    3.515</td> <td> 0.000</td> <td>    0.065</td> <td>    0.228</td>\n",
       "</tr>\n",
       "<tr>\n",
       "  <th>Total Time Spent on Website</th>            <td>    1.1163</td> <td>    0.039</td> <td>   28.923</td> <td> 0.000</td> <td>    1.041</td> <td>    1.192</td>\n",
       "</tr>\n",
       "<tr>\n",
       "  <th>Page Views Per Visit</th>                   <td>   -0.1529</td> <td>    0.050</td> <td>   -3.062</td> <td> 0.002</td> <td>   -0.251</td> <td>   -0.055</td>\n",
       "</tr>\n",
       "<tr>\n",
       "  <th>Lead Origin_API</th>                        <td>   -3.7209</td> <td>    0.206</td> <td>  -18.088</td> <td> 0.000</td> <td>   -4.124</td> <td>   -3.318</td>\n",
       "</tr>\n",
       "<tr>\n",
       "  <th>Lead Origin_Landing Page Submission</th>    <td>   -4.1161</td> <td>    0.210</td> <td>  -19.567</td> <td> 0.000</td> <td>   -4.528</td> <td>   -3.704</td>\n",
       "</tr>\n",
       "<tr>\n",
       "  <th>Lead Origin_Lead Import</th>                <td>   -3.6104</td> <td>    0.428</td> <td>   -8.434</td> <td> 0.000</td> <td>   -4.449</td> <td>   -2.771</td>\n",
       "</tr>\n",
       "<tr>\n",
       "  <th>Lead Source_Direct Traffic</th>             <td>   -0.3736</td> <td>    0.086</td> <td>   -4.367</td> <td> 0.000</td> <td>   -0.541</td> <td>   -0.206</td>\n",
       "</tr>\n",
       "<tr>\n",
       "  <th>Lead Source_Olark Chat</th>                 <td>    0.9563</td> <td>    0.128</td> <td>    7.443</td> <td> 0.000</td> <td>    0.704</td> <td>    1.208</td>\n",
       "</tr>\n",
       "<tr>\n",
       "  <th>Last Activity_Converted to Lead</th>        <td>   -1.1066</td> <td>    0.202</td> <td>   -5.491</td> <td> 0.000</td> <td>   -1.502</td> <td>   -0.712</td>\n",
       "</tr>\n",
       "<tr>\n",
       "  <th>Last Activity_Email Bounced</th>            <td>   -2.0709</td> <td>    0.304</td> <td>   -6.819</td> <td> 0.000</td> <td>   -2.666</td> <td>   -1.476</td>\n",
       "</tr>\n",
       "<tr>\n",
       "  <th>Last Activity_Olark Chat Conversation</th>  <td>   -1.4767</td> <td>    0.154</td> <td>   -9.615</td> <td> 0.000</td> <td>   -1.778</td> <td>   -1.176</td>\n",
       "</tr>\n",
       "<tr>\n",
       "  <th>Last Activity_Other</th>                    <td>   -0.3839</td> <td>    0.139</td> <td>   -2.752</td> <td> 0.006</td> <td>   -0.657</td> <td>   -0.111</td>\n",
       "</tr>\n",
       "<tr>\n",
       "  <th>Last Activity_Page Visited on Website</th>  <td>   -0.7353</td> <td>    0.145</td> <td>   -5.073</td> <td> 0.000</td> <td>   -1.019</td> <td>   -0.451</td>\n",
       "</tr>\n",
       "<tr>\n",
       "  <th>Last Activity_SMS Sent</th>                 <td>    1.1238</td> <td>    0.075</td> <td>   15.008</td> <td> 0.000</td> <td>    0.977</td> <td>    1.271</td>\n",
       "</tr>\n",
       "<tr>\n",
       "  <th>Specialization_Business Administration</th> <td>   -0.0963</td> <td>    0.162</td> <td>   -0.594</td> <td> 0.552</td> <td>   -0.414</td> <td>    0.221</td>\n",
       "</tr>\n",
       "<tr>\n",
       "  <th>Specialization_Finance Management</th>      <td>   -0.7559</td> <td>    0.097</td> <td>   -7.803</td> <td> 0.000</td> <td>   -0.946</td> <td>   -0.566</td>\n",
       "</tr>\n",
       "<tr>\n",
       "  <th>Specialization_IT Projects Management</th>  <td>   -0.0725</td> <td>    0.179</td> <td>   -0.405</td> <td> 0.686</td> <td>   -0.424</td> <td>    0.279</td>\n",
       "</tr>\n",
       "<tr>\n",
       "  <th>Specialization_Other</th>                   <td>   -0.2335</td> <td>    0.095</td> <td>   -2.460</td> <td> 0.014</td> <td>   -0.420</td> <td>   -0.047</td>\n",
       "</tr>\n",
       "</table>"
      ],
      "text/latex": [
       "\\begin{center}\n",
       "\\begin{tabular}{lclc}\n",
       "\\toprule\n",
       "\\textbf{Dep. Variable:}                          &    Converted     & \\textbf{  No. Observations:  } &     6468    \\\\\n",
       "\\textbf{Model:}                                  &       GLM        & \\textbf{  Df Residuals:      } &     6449    \\\\\n",
       "\\textbf{Model Family:}                           &     Binomial     & \\textbf{  Df Model:          } &       18    \\\\\n",
       "\\textbf{Link Function:}                          &      Logit       & \\textbf{  Scale:             } &    1.0000   \\\\\n",
       "\\textbf{Method:}                                 &       IRLS       & \\textbf{  Log-Likelihood:    } &   -2920.4   \\\\\n",
       "\\textbf{Date:}                                   & Wed, 18 Dec 2024 & \\textbf{  Deviance:          } &    5840.8   \\\\\n",
       "\\textbf{Time:}                                   &     00:27:51     & \\textbf{  Pearson chi2:      } &  6.78e+03   \\\\\n",
       "\\textbf{No. Iterations:}                         &        6         & \\textbf{  Pseudo R-squ. (CS):} &   0.3517    \\\\\n",
       "\\textbf{Covariance Type:}                        &    nonrobust     & \\textbf{                     } &             \\\\\n",
       "\\bottomrule\n",
       "\\end{tabular}\n",
       "\\begin{tabular}{lcccccc}\n",
       "                                                 & \\textbf{coef} & \\textbf{std err} & \\textbf{z} & \\textbf{P$> |$z$|$} & \\textbf{[0.025} & \\textbf{0.975]}  \\\\\n",
       "\\midrule\n",
       "\\textbf{const}                                   &       3.3970  &        0.201     &    16.877  &         0.000        &        3.003    &        3.792     \\\\\n",
       "\\textbf{TotalVisits}                             &       0.1466  &        0.042     &     3.515  &         0.000        &        0.065    &        0.228     \\\\\n",
       "\\textbf{Total Time Spent on Website}             &       1.1163  &        0.039     &    28.923  &         0.000        &        1.041    &        1.192     \\\\\n",
       "\\textbf{Page Views Per Visit}                    &      -0.1529  &        0.050     &    -3.062  &         0.002        &       -0.251    &       -0.055     \\\\\n",
       "\\textbf{Lead Origin\\_API}                        &      -3.7209  &        0.206     &   -18.088  &         0.000        &       -4.124    &       -3.318     \\\\\n",
       "\\textbf{Lead Origin\\_Landing Page Submission}    &      -4.1161  &        0.210     &   -19.567  &         0.000        &       -4.528    &       -3.704     \\\\\n",
       "\\textbf{Lead Origin\\_Lead Import}                &      -3.6104  &        0.428     &    -8.434  &         0.000        &       -4.449    &       -2.771     \\\\\n",
       "\\textbf{Lead Source\\_Direct Traffic}             &      -0.3736  &        0.086     &    -4.367  &         0.000        &       -0.541    &       -0.206     \\\\\n",
       "\\textbf{Lead Source\\_Olark Chat}                 &       0.9563  &        0.128     &     7.443  &         0.000        &        0.704    &        1.208     \\\\\n",
       "\\textbf{Last Activity\\_Converted to Lead}        &      -1.1066  &        0.202     &    -5.491  &         0.000        &       -1.502    &       -0.712     \\\\\n",
       "\\textbf{Last Activity\\_Email Bounced}            &      -2.0709  &        0.304     &    -6.819  &         0.000        &       -2.666    &       -1.476     \\\\\n",
       "\\textbf{Last Activity\\_Olark Chat Conversation}  &      -1.4767  &        0.154     &    -9.615  &         0.000        &       -1.778    &       -1.176     \\\\\n",
       "\\textbf{Last Activity\\_Other}                    &      -0.3839  &        0.139     &    -2.752  &         0.006        &       -0.657    &       -0.111     \\\\\n",
       "\\textbf{Last Activity\\_Page Visited on Website}  &      -0.7353  &        0.145     &    -5.073  &         0.000        &       -1.019    &       -0.451     \\\\\n",
       "\\textbf{Last Activity\\_SMS Sent}                 &       1.1238  &        0.075     &    15.008  &         0.000        &        0.977    &        1.271     \\\\\n",
       "\\textbf{Specialization\\_Business Administration} &      -0.0963  &        0.162     &    -0.594  &         0.552        &       -0.414    &        0.221     \\\\\n",
       "\\textbf{Specialization\\_Finance Management}      &      -0.7559  &        0.097     &    -7.803  &         0.000        &       -0.946    &       -0.566     \\\\\n",
       "\\textbf{Specialization\\_IT Projects Management}  &      -0.0725  &        0.179     &    -0.405  &         0.686        &       -0.424    &        0.279     \\\\\n",
       "\\textbf{Specialization\\_Other}                   &      -0.2335  &        0.095     &    -2.460  &         0.014        &       -0.420    &       -0.047     \\\\\n",
       "\\bottomrule\n",
       "\\end{tabular}\n",
       "%\\caption{Generalized Linear Model Regression Results}\n",
       "\\end{center}"
      ],
      "text/plain": [
       "<class 'statsmodels.iolib.summary.Summary'>\n",
       "\"\"\"\n",
       "                 Generalized Linear Model Regression Results                  \n",
       "==============================================================================\n",
       "Dep. Variable:              Converted   No. Observations:                 6468\n",
       "Model:                            GLM   Df Residuals:                     6449\n",
       "Model Family:                Binomial   Df Model:                           18\n",
       "Link Function:                  Logit   Scale:                          1.0000\n",
       "Method:                          IRLS   Log-Likelihood:                -2920.4\n",
       "Date:                Wed, 18 Dec 2024   Deviance:                       5840.8\n",
       "Time:                        00:27:51   Pearson chi2:                 6.78e+03\n",
       "No. Iterations:                     6   Pseudo R-squ. (CS):             0.3517\n",
       "Covariance Type:            nonrobust                                         \n",
       "==========================================================================================================\n",
       "                                             coef    std err          z      P>|z|      [0.025      0.975]\n",
       "----------------------------------------------------------------------------------------------------------\n",
       "const                                      3.3970      0.201     16.877      0.000       3.003       3.792\n",
       "TotalVisits                                0.1466      0.042      3.515      0.000       0.065       0.228\n",
       "Total Time Spent on Website                1.1163      0.039     28.923      0.000       1.041       1.192\n",
       "Page Views Per Visit                      -0.1529      0.050     -3.062      0.002      -0.251      -0.055\n",
       "Lead Origin_API                           -3.7209      0.206    -18.088      0.000      -4.124      -3.318\n",
       "Lead Origin_Landing Page Submission       -4.1161      0.210    -19.567      0.000      -4.528      -3.704\n",
       "Lead Origin_Lead Import                   -3.6104      0.428     -8.434      0.000      -4.449      -2.771\n",
       "Lead Source_Direct Traffic                -0.3736      0.086     -4.367      0.000      -0.541      -0.206\n",
       "Lead Source_Olark Chat                     0.9563      0.128      7.443      0.000       0.704       1.208\n",
       "Last Activity_Converted to Lead           -1.1066      0.202     -5.491      0.000      -1.502      -0.712\n",
       "Last Activity_Email Bounced               -2.0709      0.304     -6.819      0.000      -2.666      -1.476\n",
       "Last Activity_Olark Chat Conversation     -1.4767      0.154     -9.615      0.000      -1.778      -1.176\n",
       "Last Activity_Other                       -0.3839      0.139     -2.752      0.006      -0.657      -0.111\n",
       "Last Activity_Page Visited on Website     -0.7353      0.145     -5.073      0.000      -1.019      -0.451\n",
       "Last Activity_SMS Sent                     1.1238      0.075     15.008      0.000       0.977       1.271\n",
       "Specialization_Business Administration    -0.0963      0.162     -0.594      0.552      -0.414       0.221\n",
       "Specialization_Finance Management         -0.7559      0.097     -7.803      0.000      -0.946      -0.566\n",
       "Specialization_IT Projects Management     -0.0725      0.179     -0.405      0.686      -0.424       0.279\n",
       "Specialization_Other                      -0.2335      0.095     -2.460      0.014      -0.420      -0.047\n",
       "==========================================================================================================\n",
       "\"\"\""
      ]
     },
     "execution_count": 232,
     "metadata": {},
     "output_type": "execute_result"
    }
   ],
   "source": [
    "X_train_sm=sm.add_constant(X_train[col])\n",
    "logm3=sm.GLM(y_train,X_train_sm,family = sm.families.Binomial()).fit()\n",
    "logm3.summary()"
   ]
  },
  {
   "cell_type": "code",
   "execution_count": 233,
   "metadata": {},
   "outputs": [
    {
     "data": {
      "text/html": [
       "<div>\n",
       "<style scoped>\n",
       "    .dataframe tbody tr th:only-of-type {\n",
       "        vertical-align: middle;\n",
       "    }\n",
       "\n",
       "    .dataframe tbody tr th {\n",
       "        vertical-align: top;\n",
       "    }\n",
       "\n",
       "    .dataframe thead th {\n",
       "        text-align: right;\n",
       "    }\n",
       "</style>\n",
       "<table border=\"1\" class=\"dataframe\">\n",
       "  <thead>\n",
       "    <tr style=\"text-align: right;\">\n",
       "      <th></th>\n",
       "      <th>Features</th>\n",
       "      <th>VIF</th>\n",
       "    </tr>\n",
       "  </thead>\n",
       "  <tbody>\n",
       "    <tr>\n",
       "      <th>3</th>\n",
       "      <td>Lead Origin_API</td>\n",
       "      <td>4.46</td>\n",
       "    </tr>\n",
       "    <tr>\n",
       "      <th>4</th>\n",
       "      <td>Lead Origin_Landing Page Submission</td>\n",
       "      <td>4.34</td>\n",
       "    </tr>\n",
       "    <tr>\n",
       "      <th>15</th>\n",
       "      <td>Specialization_Finance Management</td>\n",
       "      <td>3.44</td>\n",
       "    </tr>\n",
       "    <tr>\n",
       "      <th>7</th>\n",
       "      <td>Lead Source_Olark Chat</td>\n",
       "      <td>2.81</td>\n",
       "    </tr>\n",
       "    <tr>\n",
       "      <th>2</th>\n",
       "      <td>Page Views Per Visit</td>\n",
       "      <td>2.13</td>\n",
       "    </tr>\n",
       "    <tr>\n",
       "      <th>6</th>\n",
       "      <td>Lead Source_Direct Traffic</td>\n",
       "      <td>2.03</td>\n",
       "    </tr>\n",
       "    <tr>\n",
       "      <th>0</th>\n",
       "      <td>TotalVisits</td>\n",
       "      <td>1.79</td>\n",
       "    </tr>\n",
       "    <tr>\n",
       "      <th>17</th>\n",
       "      <td>Specialization_Other</td>\n",
       "      <td>1.77</td>\n",
       "    </tr>\n",
       "    <tr>\n",
       "      <th>13</th>\n",
       "      <td>Last Activity_SMS Sent</td>\n",
       "      <td>1.66</td>\n",
       "    </tr>\n",
       "    <tr>\n",
       "      <th>10</th>\n",
       "      <td>Last Activity_Olark Chat Conversation</td>\n",
       "      <td>1.53</td>\n",
       "    </tr>\n",
       "    <tr>\n",
       "      <th>1</th>\n",
       "      <td>Total Time Spent on Website</td>\n",
       "      <td>1.25</td>\n",
       "    </tr>\n",
       "    <tr>\n",
       "      <th>12</th>\n",
       "      <td>Last Activity_Page Visited on Website</td>\n",
       "      <td>1.24</td>\n",
       "    </tr>\n",
       "    <tr>\n",
       "      <th>8</th>\n",
       "      <td>Last Activity_Converted to Lead</td>\n",
       "      <td>1.20</td>\n",
       "    </tr>\n",
       "    <tr>\n",
       "      <th>11</th>\n",
       "      <td>Last Activity_Other</td>\n",
       "      <td>1.15</td>\n",
       "    </tr>\n",
       "    <tr>\n",
       "      <th>14</th>\n",
       "      <td>Specialization_Business Administration</td>\n",
       "      <td>1.15</td>\n",
       "    </tr>\n",
       "    <tr>\n",
       "      <th>16</th>\n",
       "      <td>Specialization_IT Projects Management</td>\n",
       "      <td>1.15</td>\n",
       "    </tr>\n",
       "    <tr>\n",
       "      <th>9</th>\n",
       "      <td>Last Activity_Email Bounced</td>\n",
       "      <td>1.12</td>\n",
       "    </tr>\n",
       "    <tr>\n",
       "      <th>5</th>\n",
       "      <td>Lead Origin_Lead Import</td>\n",
       "      <td>1.03</td>\n",
       "    </tr>\n",
       "  </tbody>\n",
       "</table>\n",
       "</div>"
      ],
      "text/plain": [
       "                                  Features   VIF\n",
       "3                          Lead Origin_API  4.46\n",
       "4      Lead Origin_Landing Page Submission  4.34\n",
       "15       Specialization_Finance Management  3.44\n",
       "7                   Lead Source_Olark Chat  2.81\n",
       "2                     Page Views Per Visit  2.13\n",
       "6               Lead Source_Direct Traffic  2.03\n",
       "0                              TotalVisits  1.79\n",
       "17                    Specialization_Other  1.77\n",
       "13                  Last Activity_SMS Sent  1.66\n",
       "10   Last Activity_Olark Chat Conversation  1.53\n",
       "1              Total Time Spent on Website  1.25\n",
       "12   Last Activity_Page Visited on Website  1.24\n",
       "8          Last Activity_Converted to Lead  1.20\n",
       "11                     Last Activity_Other  1.15\n",
       "14  Specialization_Business Administration  1.15\n",
       "16   Specialization_IT Projects Management  1.15\n",
       "9              Last Activity_Email Bounced  1.12\n",
       "5                  Lead Origin_Lead Import  1.03"
      ]
     },
     "execution_count": 233,
     "metadata": {},
     "output_type": "execute_result"
    }
   ],
   "source": [
    "# Calculate the VIFs for the new model\n",
    "vifcalc(X_train[col])"
   ]
  },
  {
   "cell_type": "markdown",
   "metadata": {},
   "source": [
    "```Lead Source_Google``` is insignificant because it has high p-value in presence of other variables so it should be dropped"
   ]
  },
  {
   "cell_type": "code",
   "execution_count": null,
   "metadata": {},
   "outputs": [
    {
     "ename": "KeyError",
     "evalue": "\"['Lead Source_Google'] not found in axis\"",
     "output_type": "error",
     "traceback": [
      "\u001b[0;31m---------------------------------------------------------------------------\u001b[0m",
      "\u001b[0;31mKeyError\u001b[0m                                  Traceback (most recent call last)",
      "Cell \u001b[0;32mIn[234], line 1\u001b[0m\n\u001b[0;32m----> 1\u001b[0m col\u001b[38;5;241m=\u001b[39mcol\u001b[38;5;241m.\u001b[39mdrop(\u001b[38;5;124m'\u001b[39m\u001b[38;5;124mLead Source_Google\u001b[39m\u001b[38;5;124m'\u001b[39m,\u001b[38;5;241m1\u001b[39m)\n",
      "File \u001b[0;32m/opt/anaconda3/lib/python3.12/site-packages/pandas/core/indexes/base.py:7070\u001b[0m, in \u001b[0;36mIndex.drop\u001b[0;34m(self, labels, errors)\u001b[0m\n\u001b[1;32m   7068\u001b[0m \u001b[38;5;28;01mif\u001b[39;00m mask\u001b[38;5;241m.\u001b[39many():\n\u001b[1;32m   7069\u001b[0m     \u001b[38;5;28;01mif\u001b[39;00m errors \u001b[38;5;241m!=\u001b[39m \u001b[38;5;124m\"\u001b[39m\u001b[38;5;124mignore\u001b[39m\u001b[38;5;124m\"\u001b[39m:\n\u001b[0;32m-> 7070\u001b[0m         \u001b[38;5;28;01mraise\u001b[39;00m \u001b[38;5;167;01mKeyError\u001b[39;00m(\u001b[38;5;124mf\u001b[39m\u001b[38;5;124m\"\u001b[39m\u001b[38;5;132;01m{\u001b[39;00mlabels[mask]\u001b[38;5;241m.\u001b[39mtolist()\u001b[38;5;132;01m}\u001b[39;00m\u001b[38;5;124m not found in axis\u001b[39m\u001b[38;5;124m\"\u001b[39m)\n\u001b[1;32m   7071\u001b[0m     indexer \u001b[38;5;241m=\u001b[39m indexer[\u001b[38;5;241m~\u001b[39mmask]\n\u001b[1;32m   7072\u001b[0m \u001b[38;5;28;01mreturn\u001b[39;00m \u001b[38;5;28mself\u001b[39m\u001b[38;5;241m.\u001b[39mdelete(indexer)\n",
      "\u001b[0;31mKeyError\u001b[0m: \"['Lead Source_Google'] not found in axis\""
     ]
    }
   ],
   "source": [
    "col=col.drop('Lead Source_Google',1)"
   ]
  },
  {
   "cell_type": "markdown",
   "metadata": {},
   "source": [
    "### Model 4"
   ]
  },
  {
   "cell_type": "code",
   "execution_count": 237,
   "metadata": {},
   "outputs": [
    {
     "data": {
      "text/html": [
       "<table class=\"simpletable\">\n",
       "<caption>Generalized Linear Model Regression Results</caption>\n",
       "<tr>\n",
       "  <th>Dep. Variable:</th>       <td>Converted</td>    <th>  No. Observations:  </th>  <td>  6468</td> \n",
       "</tr>\n",
       "<tr>\n",
       "  <th>Model:</th>                  <td>GLM</td>       <th>  Df Residuals:      </th>  <td>  6449</td> \n",
       "</tr>\n",
       "<tr>\n",
       "  <th>Model Family:</th>        <td>Binomial</td>     <th>  Df Model:          </th>  <td>    18</td> \n",
       "</tr>\n",
       "<tr>\n",
       "  <th>Link Function:</th>         <td>Logit</td>      <th>  Scale:             </th> <td>  1.0000</td>\n",
       "</tr>\n",
       "<tr>\n",
       "  <th>Method:</th>                <td>IRLS</td>       <th>  Log-Likelihood:    </th> <td> -2920.4</td>\n",
       "</tr>\n",
       "<tr>\n",
       "  <th>Date:</th>            <td>Wed, 18 Dec 2024</td> <th>  Deviance:          </th> <td>  5840.8</td>\n",
       "</tr>\n",
       "<tr>\n",
       "  <th>Time:</th>                <td>00:29:25</td>     <th>  Pearson chi2:      </th> <td>6.78e+03</td>\n",
       "</tr>\n",
       "<tr>\n",
       "  <th>No. Iterations:</th>          <td>6</td>        <th>  Pseudo R-squ. (CS):</th>  <td>0.3517</td> \n",
       "</tr>\n",
       "<tr>\n",
       "  <th>Covariance Type:</th>     <td>nonrobust</td>    <th>                     </th>     <td> </td>   \n",
       "</tr>\n",
       "</table>\n",
       "<table class=\"simpletable\">\n",
       "<tr>\n",
       "                     <td></td>                       <th>coef</th>     <th>std err</th>      <th>z</th>      <th>P>|z|</th>  <th>[0.025</th>    <th>0.975]</th>  \n",
       "</tr>\n",
       "<tr>\n",
       "  <th>const</th>                                  <td>    3.3970</td> <td>    0.201</td> <td>   16.877</td> <td> 0.000</td> <td>    3.003</td> <td>    3.792</td>\n",
       "</tr>\n",
       "<tr>\n",
       "  <th>TotalVisits</th>                            <td>    0.1466</td> <td>    0.042</td> <td>    3.515</td> <td> 0.000</td> <td>    0.065</td> <td>    0.228</td>\n",
       "</tr>\n",
       "<tr>\n",
       "  <th>Total Time Spent on Website</th>            <td>    1.1163</td> <td>    0.039</td> <td>   28.923</td> <td> 0.000</td> <td>    1.041</td> <td>    1.192</td>\n",
       "</tr>\n",
       "<tr>\n",
       "  <th>Page Views Per Visit</th>                   <td>   -0.1529</td> <td>    0.050</td> <td>   -3.062</td> <td> 0.002</td> <td>   -0.251</td> <td>   -0.055</td>\n",
       "</tr>\n",
       "<tr>\n",
       "  <th>Lead Origin_API</th>                        <td>   -3.7209</td> <td>    0.206</td> <td>  -18.088</td> <td> 0.000</td> <td>   -4.124</td> <td>   -3.318</td>\n",
       "</tr>\n",
       "<tr>\n",
       "  <th>Lead Origin_Landing Page Submission</th>    <td>   -4.1161</td> <td>    0.210</td> <td>  -19.567</td> <td> 0.000</td> <td>   -4.528</td> <td>   -3.704</td>\n",
       "</tr>\n",
       "<tr>\n",
       "  <th>Lead Origin_Lead Import</th>                <td>   -3.6104</td> <td>    0.428</td> <td>   -8.434</td> <td> 0.000</td> <td>   -4.449</td> <td>   -2.771</td>\n",
       "</tr>\n",
       "<tr>\n",
       "  <th>Lead Source_Direct Traffic</th>             <td>   -0.3736</td> <td>    0.086</td> <td>   -4.367</td> <td> 0.000</td> <td>   -0.541</td> <td>   -0.206</td>\n",
       "</tr>\n",
       "<tr>\n",
       "  <th>Lead Source_Olark Chat</th>                 <td>    0.9563</td> <td>    0.128</td> <td>    7.443</td> <td> 0.000</td> <td>    0.704</td> <td>    1.208</td>\n",
       "</tr>\n",
       "<tr>\n",
       "  <th>Last Activity_Converted to Lead</th>        <td>   -1.1066</td> <td>    0.202</td> <td>   -5.491</td> <td> 0.000</td> <td>   -1.502</td> <td>   -0.712</td>\n",
       "</tr>\n",
       "<tr>\n",
       "  <th>Last Activity_Email Bounced</th>            <td>   -2.0709</td> <td>    0.304</td> <td>   -6.819</td> <td> 0.000</td> <td>   -2.666</td> <td>   -1.476</td>\n",
       "</tr>\n",
       "<tr>\n",
       "  <th>Last Activity_Olark Chat Conversation</th>  <td>   -1.4767</td> <td>    0.154</td> <td>   -9.615</td> <td> 0.000</td> <td>   -1.778</td> <td>   -1.176</td>\n",
       "</tr>\n",
       "<tr>\n",
       "  <th>Last Activity_Other</th>                    <td>   -0.3839</td> <td>    0.139</td> <td>   -2.752</td> <td> 0.006</td> <td>   -0.657</td> <td>   -0.111</td>\n",
       "</tr>\n",
       "<tr>\n",
       "  <th>Last Activity_Page Visited on Website</th>  <td>   -0.7353</td> <td>    0.145</td> <td>   -5.073</td> <td> 0.000</td> <td>   -1.019</td> <td>   -0.451</td>\n",
       "</tr>\n",
       "<tr>\n",
       "  <th>Last Activity_SMS Sent</th>                 <td>    1.1238</td> <td>    0.075</td> <td>   15.008</td> <td> 0.000</td> <td>    0.977</td> <td>    1.271</td>\n",
       "</tr>\n",
       "<tr>\n",
       "  <th>Specialization_Business Administration</th> <td>   -0.0963</td> <td>    0.162</td> <td>   -0.594</td> <td> 0.552</td> <td>   -0.414</td> <td>    0.221</td>\n",
       "</tr>\n",
       "<tr>\n",
       "  <th>Specialization_Finance Management</th>      <td>   -0.7559</td> <td>    0.097</td> <td>   -7.803</td> <td> 0.000</td> <td>   -0.946</td> <td>   -0.566</td>\n",
       "</tr>\n",
       "<tr>\n",
       "  <th>Specialization_IT Projects Management</th>  <td>   -0.0725</td> <td>    0.179</td> <td>   -0.405</td> <td> 0.686</td> <td>   -0.424</td> <td>    0.279</td>\n",
       "</tr>\n",
       "<tr>\n",
       "  <th>Specialization_Other</th>                   <td>   -0.2335</td> <td>    0.095</td> <td>   -2.460</td> <td> 0.014</td> <td>   -0.420</td> <td>   -0.047</td>\n",
       "</tr>\n",
       "</table>"
      ],
      "text/latex": [
       "\\begin{center}\n",
       "\\begin{tabular}{lclc}\n",
       "\\toprule\n",
       "\\textbf{Dep. Variable:}                          &    Converted     & \\textbf{  No. Observations:  } &     6468    \\\\\n",
       "\\textbf{Model:}                                  &       GLM        & \\textbf{  Df Residuals:      } &     6449    \\\\\n",
       "\\textbf{Model Family:}                           &     Binomial     & \\textbf{  Df Model:          } &       18    \\\\\n",
       "\\textbf{Link Function:}                          &      Logit       & \\textbf{  Scale:             } &    1.0000   \\\\\n",
       "\\textbf{Method:}                                 &       IRLS       & \\textbf{  Log-Likelihood:    } &   -2920.4   \\\\\n",
       "\\textbf{Date:}                                   & Wed, 18 Dec 2024 & \\textbf{  Deviance:          } &    5840.8   \\\\\n",
       "\\textbf{Time:}                                   &     00:29:25     & \\textbf{  Pearson chi2:      } &  6.78e+03   \\\\\n",
       "\\textbf{No. Iterations:}                         &        6         & \\textbf{  Pseudo R-squ. (CS):} &   0.3517    \\\\\n",
       "\\textbf{Covariance Type:}                        &    nonrobust     & \\textbf{                     } &             \\\\\n",
       "\\bottomrule\n",
       "\\end{tabular}\n",
       "\\begin{tabular}{lcccccc}\n",
       "                                                 & \\textbf{coef} & \\textbf{std err} & \\textbf{z} & \\textbf{P$> |$z$|$} & \\textbf{[0.025} & \\textbf{0.975]}  \\\\\n",
       "\\midrule\n",
       "\\textbf{const}                                   &       3.3970  &        0.201     &    16.877  &         0.000        &        3.003    &        3.792     \\\\\n",
       "\\textbf{TotalVisits}                             &       0.1466  &        0.042     &     3.515  &         0.000        &        0.065    &        0.228     \\\\\n",
       "\\textbf{Total Time Spent on Website}             &       1.1163  &        0.039     &    28.923  &         0.000        &        1.041    &        1.192     \\\\\n",
       "\\textbf{Page Views Per Visit}                    &      -0.1529  &        0.050     &    -3.062  &         0.002        &       -0.251    &       -0.055     \\\\\n",
       "\\textbf{Lead Origin\\_API}                        &      -3.7209  &        0.206     &   -18.088  &         0.000        &       -4.124    &       -3.318     \\\\\n",
       "\\textbf{Lead Origin\\_Landing Page Submission}    &      -4.1161  &        0.210     &   -19.567  &         0.000        &       -4.528    &       -3.704     \\\\\n",
       "\\textbf{Lead Origin\\_Lead Import}                &      -3.6104  &        0.428     &    -8.434  &         0.000        &       -4.449    &       -2.771     \\\\\n",
       "\\textbf{Lead Source\\_Direct Traffic}             &      -0.3736  &        0.086     &    -4.367  &         0.000        &       -0.541    &       -0.206     \\\\\n",
       "\\textbf{Lead Source\\_Olark Chat}                 &       0.9563  &        0.128     &     7.443  &         0.000        &        0.704    &        1.208     \\\\\n",
       "\\textbf{Last Activity\\_Converted to Lead}        &      -1.1066  &        0.202     &    -5.491  &         0.000        &       -1.502    &       -0.712     \\\\\n",
       "\\textbf{Last Activity\\_Email Bounced}            &      -2.0709  &        0.304     &    -6.819  &         0.000        &       -2.666    &       -1.476     \\\\\n",
       "\\textbf{Last Activity\\_Olark Chat Conversation}  &      -1.4767  &        0.154     &    -9.615  &         0.000        &       -1.778    &       -1.176     \\\\\n",
       "\\textbf{Last Activity\\_Other}                    &      -0.3839  &        0.139     &    -2.752  &         0.006        &       -0.657    &       -0.111     \\\\\n",
       "\\textbf{Last Activity\\_Page Visited on Website}  &      -0.7353  &        0.145     &    -5.073  &         0.000        &       -1.019    &       -0.451     \\\\\n",
       "\\textbf{Last Activity\\_SMS Sent}                 &       1.1238  &        0.075     &    15.008  &         0.000        &        0.977    &        1.271     \\\\\n",
       "\\textbf{Specialization\\_Business Administration} &      -0.0963  &        0.162     &    -0.594  &         0.552        &       -0.414    &        0.221     \\\\\n",
       "\\textbf{Specialization\\_Finance Management}      &      -0.7559  &        0.097     &    -7.803  &         0.000        &       -0.946    &       -0.566     \\\\\n",
       "\\textbf{Specialization\\_IT Projects Management}  &      -0.0725  &        0.179     &    -0.405  &         0.686        &       -0.424    &        0.279     \\\\\n",
       "\\textbf{Specialization\\_Other}                   &      -0.2335  &        0.095     &    -2.460  &         0.014        &       -0.420    &       -0.047     \\\\\n",
       "\\bottomrule\n",
       "\\end{tabular}\n",
       "%\\caption{Generalized Linear Model Regression Results}\n",
       "\\end{center}"
      ],
      "text/plain": [
       "<class 'statsmodels.iolib.summary.Summary'>\n",
       "\"\"\"\n",
       "                 Generalized Linear Model Regression Results                  \n",
       "==============================================================================\n",
       "Dep. Variable:              Converted   No. Observations:                 6468\n",
       "Model:                            GLM   Df Residuals:                     6449\n",
       "Model Family:                Binomial   Df Model:                           18\n",
       "Link Function:                  Logit   Scale:                          1.0000\n",
       "Method:                          IRLS   Log-Likelihood:                -2920.4\n",
       "Date:                Wed, 18 Dec 2024   Deviance:                       5840.8\n",
       "Time:                        00:29:25   Pearson chi2:                 6.78e+03\n",
       "No. Iterations:                     6   Pseudo R-squ. (CS):             0.3517\n",
       "Covariance Type:            nonrobust                                         \n",
       "==========================================================================================================\n",
       "                                             coef    std err          z      P>|z|      [0.025      0.975]\n",
       "----------------------------------------------------------------------------------------------------------\n",
       "const                                      3.3970      0.201     16.877      0.000       3.003       3.792\n",
       "TotalVisits                                0.1466      0.042      3.515      0.000       0.065       0.228\n",
       "Total Time Spent on Website                1.1163      0.039     28.923      0.000       1.041       1.192\n",
       "Page Views Per Visit                      -0.1529      0.050     -3.062      0.002      -0.251      -0.055\n",
       "Lead Origin_API                           -3.7209      0.206    -18.088      0.000      -4.124      -3.318\n",
       "Lead Origin_Landing Page Submission       -4.1161      0.210    -19.567      0.000      -4.528      -3.704\n",
       "Lead Origin_Lead Import                   -3.6104      0.428     -8.434      0.000      -4.449      -2.771\n",
       "Lead Source_Direct Traffic                -0.3736      0.086     -4.367      0.000      -0.541      -0.206\n",
       "Lead Source_Olark Chat                     0.9563      0.128      7.443      0.000       0.704       1.208\n",
       "Last Activity_Converted to Lead           -1.1066      0.202     -5.491      0.000      -1.502      -0.712\n",
       "Last Activity_Email Bounced               -2.0709      0.304     -6.819      0.000      -2.666      -1.476\n",
       "Last Activity_Olark Chat Conversation     -1.4767      0.154     -9.615      0.000      -1.778      -1.176\n",
       "Last Activity_Other                       -0.3839      0.139     -2.752      0.006      -0.657      -0.111\n",
       "Last Activity_Page Visited on Website     -0.7353      0.145     -5.073      0.000      -1.019      -0.451\n",
       "Last Activity_SMS Sent                     1.1238      0.075     15.008      0.000       0.977       1.271\n",
       "Specialization_Business Administration    -0.0963      0.162     -0.594      0.552      -0.414       0.221\n",
       "Specialization_Finance Management         -0.7559      0.097     -7.803      0.000      -0.946      -0.566\n",
       "Specialization_IT Projects Management     -0.0725      0.179     -0.405      0.686      -0.424       0.279\n",
       "Specialization_Other                      -0.2335      0.095     -2.460      0.014      -0.420      -0.047\n",
       "==========================================================================================================\n",
       "\"\"\""
      ]
     },
     "execution_count": 237,
     "metadata": {},
     "output_type": "execute_result"
    }
   ],
   "source": [
    "X_train_sm=sm.add_constant(X_train[col])\n",
    "logm4=sm.GLM(y_train,X_train_sm,family = sm.families.Binomial()).fit()\n",
    "logm4.summary()"
   ]
  },
  {
   "cell_type": "code",
   "execution_count": 238,
   "metadata": {},
   "outputs": [
    {
     "data": {
      "text/html": [
       "<div>\n",
       "<style scoped>\n",
       "    .dataframe tbody tr th:only-of-type {\n",
       "        vertical-align: middle;\n",
       "    }\n",
       "\n",
       "    .dataframe tbody tr th {\n",
       "        vertical-align: top;\n",
       "    }\n",
       "\n",
       "    .dataframe thead th {\n",
       "        text-align: right;\n",
       "    }\n",
       "</style>\n",
       "<table border=\"1\" class=\"dataframe\">\n",
       "  <thead>\n",
       "    <tr style=\"text-align: right;\">\n",
       "      <th></th>\n",
       "      <th>Features</th>\n",
       "      <th>VIF</th>\n",
       "    </tr>\n",
       "  </thead>\n",
       "  <tbody>\n",
       "    <tr>\n",
       "      <th>3</th>\n",
       "      <td>Lead Origin_API</td>\n",
       "      <td>4.46</td>\n",
       "    </tr>\n",
       "    <tr>\n",
       "      <th>4</th>\n",
       "      <td>Lead Origin_Landing Page Submission</td>\n",
       "      <td>4.34</td>\n",
       "    </tr>\n",
       "    <tr>\n",
       "      <th>15</th>\n",
       "      <td>Specialization_Finance Management</td>\n",
       "      <td>3.44</td>\n",
       "    </tr>\n",
       "    <tr>\n",
       "      <th>7</th>\n",
       "      <td>Lead Source_Olark Chat</td>\n",
       "      <td>2.81</td>\n",
       "    </tr>\n",
       "    <tr>\n",
       "      <th>2</th>\n",
       "      <td>Page Views Per Visit</td>\n",
       "      <td>2.13</td>\n",
       "    </tr>\n",
       "    <tr>\n",
       "      <th>6</th>\n",
       "      <td>Lead Source_Direct Traffic</td>\n",
       "      <td>2.03</td>\n",
       "    </tr>\n",
       "    <tr>\n",
       "      <th>0</th>\n",
       "      <td>TotalVisits</td>\n",
       "      <td>1.79</td>\n",
       "    </tr>\n",
       "    <tr>\n",
       "      <th>17</th>\n",
       "      <td>Specialization_Other</td>\n",
       "      <td>1.77</td>\n",
       "    </tr>\n",
       "    <tr>\n",
       "      <th>13</th>\n",
       "      <td>Last Activity_SMS Sent</td>\n",
       "      <td>1.66</td>\n",
       "    </tr>\n",
       "    <tr>\n",
       "      <th>10</th>\n",
       "      <td>Last Activity_Olark Chat Conversation</td>\n",
       "      <td>1.53</td>\n",
       "    </tr>\n",
       "    <tr>\n",
       "      <th>1</th>\n",
       "      <td>Total Time Spent on Website</td>\n",
       "      <td>1.25</td>\n",
       "    </tr>\n",
       "    <tr>\n",
       "      <th>12</th>\n",
       "      <td>Last Activity_Page Visited on Website</td>\n",
       "      <td>1.24</td>\n",
       "    </tr>\n",
       "    <tr>\n",
       "      <th>8</th>\n",
       "      <td>Last Activity_Converted to Lead</td>\n",
       "      <td>1.20</td>\n",
       "    </tr>\n",
       "    <tr>\n",
       "      <th>11</th>\n",
       "      <td>Last Activity_Other</td>\n",
       "      <td>1.15</td>\n",
       "    </tr>\n",
       "    <tr>\n",
       "      <th>14</th>\n",
       "      <td>Specialization_Business Administration</td>\n",
       "      <td>1.15</td>\n",
       "    </tr>\n",
       "    <tr>\n",
       "      <th>16</th>\n",
       "      <td>Specialization_IT Projects Management</td>\n",
       "      <td>1.15</td>\n",
       "    </tr>\n",
       "    <tr>\n",
       "      <th>9</th>\n",
       "      <td>Last Activity_Email Bounced</td>\n",
       "      <td>1.12</td>\n",
       "    </tr>\n",
       "    <tr>\n",
       "      <th>5</th>\n",
       "      <td>Lead Origin_Lead Import</td>\n",
       "      <td>1.03</td>\n",
       "    </tr>\n",
       "  </tbody>\n",
       "</table>\n",
       "</div>"
      ],
      "text/plain": [
       "                                  Features   VIF\n",
       "3                          Lead Origin_API  4.46\n",
       "4      Lead Origin_Landing Page Submission  4.34\n",
       "15       Specialization_Finance Management  3.44\n",
       "7                   Lead Source_Olark Chat  2.81\n",
       "2                     Page Views Per Visit  2.13\n",
       "6               Lead Source_Direct Traffic  2.03\n",
       "0                              TotalVisits  1.79\n",
       "17                    Specialization_Other  1.77\n",
       "13                  Last Activity_SMS Sent  1.66\n",
       "10   Last Activity_Olark Chat Conversation  1.53\n",
       "1              Total Time Spent on Website  1.25\n",
       "12   Last Activity_Page Visited on Website  1.24\n",
       "8          Last Activity_Converted to Lead  1.20\n",
       "11                     Last Activity_Other  1.15\n",
       "14  Specialization_Business Administration  1.15\n",
       "16   Specialization_IT Projects Management  1.15\n",
       "9              Last Activity_Email Bounced  1.12\n",
       "5                  Lead Origin_Lead Import  1.03"
      ]
     },
     "execution_count": 238,
     "metadata": {},
     "output_type": "execute_result"
    }
   ],
   "source": [
    "# Calculate the VIFs for the new model\n",
    "vifcalc(X_train[col])"
   ]
  },
  {
   "cell_type": "markdown",
   "metadata": {},
   "source": [
    "```Specialization_Business Administration``` is insignificant because it has high p-value in presence of other variables so it should be dropped"
   ]
  },
  {
   "cell_type": "code",
   "execution_count": 239,
   "metadata": {},
   "outputs": [],
   "source": [
    "col=col.drop('Specialization_Business Administration',1)"
   ]
  },
  {
   "cell_type": "markdown",
   "metadata": {},
   "source": [
    "### Model 5"
   ]
  },
  {
   "cell_type": "code",
   "execution_count": 240,
   "metadata": {},
   "outputs": [
    {
     "name": "stderr",
     "output_type": "stream",
     "text": [
      "/opt/anaconda3/lib/python3.12/site-packages/statsmodels/base/model.py:130: ValueWarning: unknown kwargs ['families']\n",
      "  warnings.warn(msg, ValueWarning)\n"
     ]
    },
    {
     "data": {
      "text/html": [
       "<table class=\"simpletable\">\n",
       "<caption>Generalized Linear Model Regression Results</caption>\n",
       "<tr>\n",
       "  <th>Dep. Variable:</th>       <td>Converted</td>    <th>  No. Observations:  </th>  <td>  6468</td> \n",
       "</tr>\n",
       "<tr>\n",
       "  <th>Model:</th>                  <td>GLM</td>       <th>  Df Residuals:      </th>  <td>  6450</td> \n",
       "</tr>\n",
       "<tr>\n",
       "  <th>Model Family:</th>        <td>Gaussian</td>     <th>  Df Model:          </th>  <td>    17</td> \n",
       "</tr>\n",
       "<tr>\n",
       "  <th>Link Function:</th>       <td>Identity</td>     <th>  Scale:             </th> <td> 0.14942</td>\n",
       "</tr>\n",
       "<tr>\n",
       "  <th>Method:</th>                <td>IRLS</td>       <th>  Log-Likelihood:    </th> <td> -3021.0</td>\n",
       "</tr>\n",
       "<tr>\n",
       "  <th>Date:</th>            <td>Wed, 18 Dec 2024</td> <th>  Deviance:          </th> <td>  963.79</td>\n",
       "</tr>\n",
       "<tr>\n",
       "  <th>Time:</th>                <td>00:29:36</td>     <th>  Pearson chi2:      </th>  <td>  964.</td> \n",
       "</tr>\n",
       "<tr>\n",
       "  <th>No. Iterations:</th>          <td>3</td>        <th>  Pseudo R-squ. (CS):</th>  <td>0.4474</td> \n",
       "</tr>\n",
       "<tr>\n",
       "  <th>Covariance Type:</th>     <td>nonrobust</td>    <th>                     </th>     <td> </td>   \n",
       "</tr>\n",
       "</table>\n",
       "<table class=\"simpletable\">\n",
       "<tr>\n",
       "                    <td></td>                       <th>coef</th>     <th>std err</th>      <th>z</th>      <th>P>|z|</th>  <th>[0.025</th>    <th>0.975]</th>  \n",
       "</tr>\n",
       "<tr>\n",
       "  <th>const</th>                                 <td>    0.9862</td> <td>    0.021</td> <td>   47.228</td> <td> 0.000</td> <td>    0.945</td> <td>    1.027</td>\n",
       "</tr>\n",
       "<tr>\n",
       "  <th>TotalVisits</th>                           <td>    0.0226</td> <td>    0.006</td> <td>    3.518</td> <td> 0.000</td> <td>    0.010</td> <td>    0.035</td>\n",
       "</tr>\n",
       "<tr>\n",
       "  <th>Total Time Spent on Website</th>           <td>    0.1972</td> <td>    0.005</td> <td>   36.561</td> <td> 0.000</td> <td>    0.187</td> <td>    0.208</td>\n",
       "</tr>\n",
       "<tr>\n",
       "  <th>Page Views Per Visit</th>                  <td>   -0.0266</td> <td>    0.007</td> <td>   -3.725</td> <td> 0.000</td> <td>   -0.041</td> <td>   -0.013</td>\n",
       "</tr>\n",
       "<tr>\n",
       "  <th>Lead Origin_API</th>                       <td>   -0.5705</td> <td>    0.022</td> <td>  -25.548</td> <td> 0.000</td> <td>   -0.614</td> <td>   -0.527</td>\n",
       "</tr>\n",
       "<tr>\n",
       "  <th>Lead Origin_Landing Page Submission</th>   <td>   -0.6362</td> <td>    0.023</td> <td>  -28.182</td> <td> 0.000</td> <td>   -0.680</td> <td>   -0.592</td>\n",
       "</tr>\n",
       "<tr>\n",
       "  <th>Lead Origin_Lead Import</th>               <td>   -0.5813</td> <td>    0.062</td> <td>   -9.342</td> <td> 0.000</td> <td>   -0.703</td> <td>   -0.459</td>\n",
       "</tr>\n",
       "<tr>\n",
       "  <th>Lead Source_Direct Traffic</th>            <td>   -0.0611</td> <td>    0.013</td> <td>   -4.699</td> <td> 0.000</td> <td>   -0.087</td> <td>   -0.036</td>\n",
       "</tr>\n",
       "<tr>\n",
       "  <th>Lead Source_Olark Chat</th>                <td>    0.1395</td> <td>    0.019</td> <td>    7.410</td> <td> 0.000</td> <td>    0.103</td> <td>    0.176</td>\n",
       "</tr>\n",
       "<tr>\n",
       "  <th>Last Activity_Converted to Lead</th>       <td>   -0.1501</td> <td>    0.024</td> <td>   -6.197</td> <td> 0.000</td> <td>   -0.198</td> <td>   -0.103</td>\n",
       "</tr>\n",
       "<tr>\n",
       "  <th>Last Activity_Email Bounced</th>           <td>   -0.2124</td> <td>    0.027</td> <td>   -7.835</td> <td> 0.000</td> <td>   -0.266</td> <td>   -0.159</td>\n",
       "</tr>\n",
       "<tr>\n",
       "  <th>Last Activity_Olark Chat Conversation</th> <td>   -0.1997</td> <td>    0.018</td> <td>  -10.801</td> <td> 0.000</td> <td>   -0.236</td> <td>   -0.163</td>\n",
       "</tr>\n",
       "<tr>\n",
       "  <th>Last Activity_Other</th>                   <td>   -0.0632</td> <td>    0.021</td> <td>   -3.061</td> <td> 0.002</td> <td>   -0.104</td> <td>   -0.023</td>\n",
       "</tr>\n",
       "<tr>\n",
       "  <th>Last Activity_Page Visited on Website</th> <td>   -0.1088</td> <td>    0.020</td> <td>   -5.346</td> <td> 0.000</td> <td>   -0.149</td> <td>   -0.069</td>\n",
       "</tr>\n",
       "<tr>\n",
       "  <th>Last Activity_SMS Sent</th>                <td>    0.2143</td> <td>    0.012</td> <td>   18.147</td> <td> 0.000</td> <td>    0.191</td> <td>    0.237</td>\n",
       "</tr>\n",
       "<tr>\n",
       "  <th>Specialization_Finance Management</th>     <td>   -0.1166</td> <td>    0.014</td> <td>   -8.523</td> <td> 0.000</td> <td>   -0.143</td> <td>   -0.090</td>\n",
       "</tr>\n",
       "<tr>\n",
       "  <th>Specialization_IT Projects Management</th> <td>   -0.0063</td> <td>    0.027</td> <td>   -0.238</td> <td> 0.812</td> <td>   -0.058</td> <td>    0.046</td>\n",
       "</tr>\n",
       "<tr>\n",
       "  <th>Specialization_Other</th>                  <td>   -0.0355</td> <td>    0.014</td> <td>   -2.535</td> <td> 0.011</td> <td>   -0.063</td> <td>   -0.008</td>\n",
       "</tr>\n",
       "</table>"
      ],
      "text/latex": [
       "\\begin{center}\n",
       "\\begin{tabular}{lclc}\n",
       "\\toprule\n",
       "\\textbf{Dep. Variable:}                         &    Converted     & \\textbf{  No. Observations:  } &     6468    \\\\\n",
       "\\textbf{Model:}                                 &       GLM        & \\textbf{  Df Residuals:      } &     6450    \\\\\n",
       "\\textbf{Model Family:}                          &     Gaussian     & \\textbf{  Df Model:          } &       17    \\\\\n",
       "\\textbf{Link Function:}                         &     Identity     & \\textbf{  Scale:             } &   0.14942   \\\\\n",
       "\\textbf{Method:}                                &       IRLS       & \\textbf{  Log-Likelihood:    } &   -3021.0   \\\\\n",
       "\\textbf{Date:}                                  & Wed, 18 Dec 2024 & \\textbf{  Deviance:          } &    963.79   \\\\\n",
       "\\textbf{Time:}                                  &     00:29:36     & \\textbf{  Pearson chi2:      } &     964.    \\\\\n",
       "\\textbf{No. Iterations:}                        &        3         & \\textbf{  Pseudo R-squ. (CS):} &   0.4474    \\\\\n",
       "\\textbf{Covariance Type:}                       &    nonrobust     & \\textbf{                     } &             \\\\\n",
       "\\bottomrule\n",
       "\\end{tabular}\n",
       "\\begin{tabular}{lcccccc}\n",
       "                                                & \\textbf{coef} & \\textbf{std err} & \\textbf{z} & \\textbf{P$> |$z$|$} & \\textbf{[0.025} & \\textbf{0.975]}  \\\\\n",
       "\\midrule\n",
       "\\textbf{const}                                  &       0.9862  &        0.021     &    47.228  &         0.000        &        0.945    &        1.027     \\\\\n",
       "\\textbf{TotalVisits}                            &       0.0226  &        0.006     &     3.518  &         0.000        &        0.010    &        0.035     \\\\\n",
       "\\textbf{Total Time Spent on Website}            &       0.1972  &        0.005     &    36.561  &         0.000        &        0.187    &        0.208     \\\\\n",
       "\\textbf{Page Views Per Visit}                   &      -0.0266  &        0.007     &    -3.725  &         0.000        &       -0.041    &       -0.013     \\\\\n",
       "\\textbf{Lead Origin\\_API}                       &      -0.5705  &        0.022     &   -25.548  &         0.000        &       -0.614    &       -0.527     \\\\\n",
       "\\textbf{Lead Origin\\_Landing Page Submission}   &      -0.6362  &        0.023     &   -28.182  &         0.000        &       -0.680    &       -0.592     \\\\\n",
       "\\textbf{Lead Origin\\_Lead Import}               &      -0.5813  &        0.062     &    -9.342  &         0.000        &       -0.703    &       -0.459     \\\\\n",
       "\\textbf{Lead Source\\_Direct Traffic}            &      -0.0611  &        0.013     &    -4.699  &         0.000        &       -0.087    &       -0.036     \\\\\n",
       "\\textbf{Lead Source\\_Olark Chat}                &       0.1395  &        0.019     &     7.410  &         0.000        &        0.103    &        0.176     \\\\\n",
       "\\textbf{Last Activity\\_Converted to Lead}       &      -0.1501  &        0.024     &    -6.197  &         0.000        &       -0.198    &       -0.103     \\\\\n",
       "\\textbf{Last Activity\\_Email Bounced}           &      -0.2124  &        0.027     &    -7.835  &         0.000        &       -0.266    &       -0.159     \\\\\n",
       "\\textbf{Last Activity\\_Olark Chat Conversation} &      -0.1997  &        0.018     &   -10.801  &         0.000        &       -0.236    &       -0.163     \\\\\n",
       "\\textbf{Last Activity\\_Other}                   &      -0.0632  &        0.021     &    -3.061  &         0.002        &       -0.104    &       -0.023     \\\\\n",
       "\\textbf{Last Activity\\_Page Visited on Website} &      -0.1088  &        0.020     &    -5.346  &         0.000        &       -0.149    &       -0.069     \\\\\n",
       "\\textbf{Last Activity\\_SMS Sent}                &       0.2143  &        0.012     &    18.147  &         0.000        &        0.191    &        0.237     \\\\\n",
       "\\textbf{Specialization\\_Finance Management}     &      -0.1166  &        0.014     &    -8.523  &         0.000        &       -0.143    &       -0.090     \\\\\n",
       "\\textbf{Specialization\\_IT Projects Management} &      -0.0063  &        0.027     &    -0.238  &         0.812        &       -0.058    &        0.046     \\\\\n",
       "\\textbf{Specialization\\_Other}                  &      -0.0355  &        0.014     &    -2.535  &         0.011        &       -0.063    &       -0.008     \\\\\n",
       "\\bottomrule\n",
       "\\end{tabular}\n",
       "%\\caption{Generalized Linear Model Regression Results}\n",
       "\\end{center}"
      ],
      "text/plain": [
       "<class 'statsmodels.iolib.summary.Summary'>\n",
       "\"\"\"\n",
       "                 Generalized Linear Model Regression Results                  \n",
       "==============================================================================\n",
       "Dep. Variable:              Converted   No. Observations:                 6468\n",
       "Model:                            GLM   Df Residuals:                     6450\n",
       "Model Family:                Gaussian   Df Model:                           17\n",
       "Link Function:               Identity   Scale:                         0.14942\n",
       "Method:                          IRLS   Log-Likelihood:                -3021.0\n",
       "Date:                Wed, 18 Dec 2024   Deviance:                       963.79\n",
       "Time:                        00:29:36   Pearson chi2:                     964.\n",
       "No. Iterations:                     3   Pseudo R-squ. (CS):             0.4474\n",
       "Covariance Type:            nonrobust                                         \n",
       "=========================================================================================================\n",
       "                                            coef    std err          z      P>|z|      [0.025      0.975]\n",
       "---------------------------------------------------------------------------------------------------------\n",
       "const                                     0.9862      0.021     47.228      0.000       0.945       1.027\n",
       "TotalVisits                               0.0226      0.006      3.518      0.000       0.010       0.035\n",
       "Total Time Spent on Website               0.1972      0.005     36.561      0.000       0.187       0.208\n",
       "Page Views Per Visit                     -0.0266      0.007     -3.725      0.000      -0.041      -0.013\n",
       "Lead Origin_API                          -0.5705      0.022    -25.548      0.000      -0.614      -0.527\n",
       "Lead Origin_Landing Page Submission      -0.6362      0.023    -28.182      0.000      -0.680      -0.592\n",
       "Lead Origin_Lead Import                  -0.5813      0.062     -9.342      0.000      -0.703      -0.459\n",
       "Lead Source_Direct Traffic               -0.0611      0.013     -4.699      0.000      -0.087      -0.036\n",
       "Lead Source_Olark Chat                    0.1395      0.019      7.410      0.000       0.103       0.176\n",
       "Last Activity_Converted to Lead          -0.1501      0.024     -6.197      0.000      -0.198      -0.103\n",
       "Last Activity_Email Bounced              -0.2124      0.027     -7.835      0.000      -0.266      -0.159\n",
       "Last Activity_Olark Chat Conversation    -0.1997      0.018    -10.801      0.000      -0.236      -0.163\n",
       "Last Activity_Other                      -0.0632      0.021     -3.061      0.002      -0.104      -0.023\n",
       "Last Activity_Page Visited on Website    -0.1088      0.020     -5.346      0.000      -0.149      -0.069\n",
       "Last Activity_SMS Sent                    0.2143      0.012     18.147      0.000       0.191       0.237\n",
       "Specialization_Finance Management        -0.1166      0.014     -8.523      0.000      -0.143      -0.090\n",
       "Specialization_IT Projects Management    -0.0063      0.027     -0.238      0.812      -0.058       0.046\n",
       "Specialization_Other                     -0.0355      0.014     -2.535      0.011      -0.063      -0.008\n",
       "=========================================================================================================\n",
       "\"\"\""
      ]
     },
     "execution_count": 240,
     "metadata": {},
     "output_type": "execute_result"
    }
   ],
   "source": [
    "X_train_sm=sm.add_constant(X_train[col])\n",
    "logm5=sm.GLM(y_train,X_train_sm,families=sm.families.Binomial()).fit()\n",
    "logm5.summary()"
   ]
  },
  {
   "cell_type": "code",
   "execution_count": 241,
   "metadata": {
    "scrolled": true
   },
   "outputs": [
    {
     "data": {
      "text/html": [
       "<div>\n",
       "<style scoped>\n",
       "    .dataframe tbody tr th:only-of-type {\n",
       "        vertical-align: middle;\n",
       "    }\n",
       "\n",
       "    .dataframe tbody tr th {\n",
       "        vertical-align: top;\n",
       "    }\n",
       "\n",
       "    .dataframe thead th {\n",
       "        text-align: right;\n",
       "    }\n",
       "</style>\n",
       "<table border=\"1\" class=\"dataframe\">\n",
       "  <thead>\n",
       "    <tr style=\"text-align: right;\">\n",
       "      <th></th>\n",
       "      <th>Features</th>\n",
       "      <th>VIF</th>\n",
       "    </tr>\n",
       "  </thead>\n",
       "  <tbody>\n",
       "    <tr>\n",
       "      <th>3</th>\n",
       "      <td>Lead Origin_API</td>\n",
       "      <td>4.35</td>\n",
       "    </tr>\n",
       "    <tr>\n",
       "      <th>4</th>\n",
       "      <td>Lead Origin_Landing Page Submission</td>\n",
       "      <td>4.07</td>\n",
       "    </tr>\n",
       "    <tr>\n",
       "      <th>14</th>\n",
       "      <td>Specialization_Finance Management</td>\n",
       "      <td>3.29</td>\n",
       "    </tr>\n",
       "    <tr>\n",
       "      <th>7</th>\n",
       "      <td>Lead Source_Olark Chat</td>\n",
       "      <td>2.81</td>\n",
       "    </tr>\n",
       "    <tr>\n",
       "      <th>2</th>\n",
       "      <td>Page Views Per Visit</td>\n",
       "      <td>2.13</td>\n",
       "    </tr>\n",
       "    <tr>\n",
       "      <th>6</th>\n",
       "      <td>Lead Source_Direct Traffic</td>\n",
       "      <td>2.03</td>\n",
       "    </tr>\n",
       "    <tr>\n",
       "      <th>0</th>\n",
       "      <td>TotalVisits</td>\n",
       "      <td>1.79</td>\n",
       "    </tr>\n",
       "    <tr>\n",
       "      <th>16</th>\n",
       "      <td>Specialization_Other</td>\n",
       "      <td>1.67</td>\n",
       "    </tr>\n",
       "    <tr>\n",
       "      <th>13</th>\n",
       "      <td>Last Activity_SMS Sent</td>\n",
       "      <td>1.66</td>\n",
       "    </tr>\n",
       "    <tr>\n",
       "      <th>10</th>\n",
       "      <td>Last Activity_Olark Chat Conversation</td>\n",
       "      <td>1.53</td>\n",
       "    </tr>\n",
       "    <tr>\n",
       "      <th>1</th>\n",
       "      <td>Total Time Spent on Website</td>\n",
       "      <td>1.25</td>\n",
       "    </tr>\n",
       "    <tr>\n",
       "      <th>12</th>\n",
       "      <td>Last Activity_Page Visited on Website</td>\n",
       "      <td>1.24</td>\n",
       "    </tr>\n",
       "    <tr>\n",
       "      <th>8</th>\n",
       "      <td>Last Activity_Converted to Lead</td>\n",
       "      <td>1.20</td>\n",
       "    </tr>\n",
       "    <tr>\n",
       "      <th>11</th>\n",
       "      <td>Last Activity_Other</td>\n",
       "      <td>1.15</td>\n",
       "    </tr>\n",
       "    <tr>\n",
       "      <th>15</th>\n",
       "      <td>Specialization_IT Projects Management</td>\n",
       "      <td>1.14</td>\n",
       "    </tr>\n",
       "    <tr>\n",
       "      <th>9</th>\n",
       "      <td>Last Activity_Email Bounced</td>\n",
       "      <td>1.12</td>\n",
       "    </tr>\n",
       "    <tr>\n",
       "      <th>5</th>\n",
       "      <td>Lead Origin_Lead Import</td>\n",
       "      <td>1.03</td>\n",
       "    </tr>\n",
       "  </tbody>\n",
       "</table>\n",
       "</div>"
      ],
      "text/plain": [
       "                                 Features   VIF\n",
       "3                         Lead Origin_API  4.35\n",
       "4     Lead Origin_Landing Page Submission  4.07\n",
       "14      Specialization_Finance Management  3.29\n",
       "7                  Lead Source_Olark Chat  2.81\n",
       "2                    Page Views Per Visit  2.13\n",
       "6              Lead Source_Direct Traffic  2.03\n",
       "0                             TotalVisits  1.79\n",
       "16                   Specialization_Other  1.67\n",
       "13                 Last Activity_SMS Sent  1.66\n",
       "10  Last Activity_Olark Chat Conversation  1.53\n",
       "1             Total Time Spent on Website  1.25\n",
       "12  Last Activity_Page Visited on Website  1.24\n",
       "8         Last Activity_Converted to Lead  1.20\n",
       "11                    Last Activity_Other  1.15\n",
       "15  Specialization_IT Projects Management  1.14\n",
       "9             Last Activity_Email Bounced  1.12\n",
       "5                 Lead Origin_Lead Import  1.03"
      ]
     },
     "execution_count": 241,
     "metadata": {},
     "output_type": "execute_result"
    }
   ],
   "source": [
    "# Calculate the VIFs for the new model\n",
    "vifcalc(X_train[col])"
   ]
  },
  {
   "cell_type": "markdown",
   "metadata": {},
   "source": [
    "```Specialization_Other``` is insignificant because it has high p-value in presence of other variables so it should be dropped"
   ]
  },
  {
   "cell_type": "code",
   "execution_count": 242,
   "metadata": {},
   "outputs": [],
   "source": [
    "col=col.drop('Specialization_Other',1)"
   ]
  },
  {
   "cell_type": "markdown",
   "metadata": {},
   "source": [
    "### Model 6"
   ]
  },
  {
   "cell_type": "code",
   "execution_count": 243,
   "metadata": {},
   "outputs": [
    {
     "name": "stderr",
     "output_type": "stream",
     "text": [
      "/opt/anaconda3/lib/python3.12/site-packages/statsmodels/base/model.py:130: ValueWarning: unknown kwargs ['families']\n",
      "  warnings.warn(msg, ValueWarning)\n"
     ]
    },
    {
     "data": {
      "text/html": [
       "<table class=\"simpletable\">\n",
       "<caption>Generalized Linear Model Regression Results</caption>\n",
       "<tr>\n",
       "  <th>Dep. Variable:</th>       <td>Converted</td>    <th>  No. Observations:  </th>  <td>  6468</td> \n",
       "</tr>\n",
       "<tr>\n",
       "  <th>Model:</th>                  <td>GLM</td>       <th>  Df Residuals:      </th>  <td>  6451</td> \n",
       "</tr>\n",
       "<tr>\n",
       "  <th>Model Family:</th>        <td>Gaussian</td>     <th>  Df Model:          </th>  <td>    16</td> \n",
       "</tr>\n",
       "<tr>\n",
       "  <th>Link Function:</th>       <td>Identity</td>     <th>  Scale:             </th> <td> 0.14955</td>\n",
       "</tr>\n",
       "<tr>\n",
       "  <th>Method:</th>                <td>IRLS</td>       <th>  Log-Likelihood:    </th> <td> -3024.2</td>\n",
       "</tr>\n",
       "<tr>\n",
       "  <th>Date:</th>            <td>Wed, 18 Dec 2024</td> <th>  Deviance:          </th> <td>  964.75</td>\n",
       "</tr>\n",
       "<tr>\n",
       "  <th>Time:</th>                <td>00:29:49</td>     <th>  Pearson chi2:      </th>  <td>  965.</td> \n",
       "</tr>\n",
       "<tr>\n",
       "  <th>No. Iterations:</th>          <td>3</td>        <th>  Pseudo R-squ. (CS):</th>  <td>0.4466</td> \n",
       "</tr>\n",
       "<tr>\n",
       "  <th>Covariance Type:</th>     <td>nonrobust</td>    <th>                     </th>     <td> </td>   \n",
       "</tr>\n",
       "</table>\n",
       "<table class=\"simpletable\">\n",
       "<tr>\n",
       "                    <td></td>                       <th>coef</th>     <th>std err</th>      <th>z</th>      <th>P>|z|</th>  <th>[0.025</th>    <th>0.975]</th>  \n",
       "</tr>\n",
       "<tr>\n",
       "  <th>const</th>                                 <td>    0.9736</td> <td>    0.020</td> <td>   47.983</td> <td> 0.000</td> <td>    0.934</td> <td>    1.013</td>\n",
       "</tr>\n",
       "<tr>\n",
       "  <th>TotalVisits</th>                           <td>    0.0222</td> <td>    0.006</td> <td>    3.458</td> <td> 0.001</td> <td>    0.010</td> <td>    0.035</td>\n",
       "</tr>\n",
       "<tr>\n",
       "  <th>Total Time Spent on Website</th>           <td>    0.1974</td> <td>    0.005</td> <td>   36.584</td> <td> 0.000</td> <td>    0.187</td> <td>    0.208</td>\n",
       "</tr>\n",
       "<tr>\n",
       "  <th>Page Views Per Visit</th>                  <td>   -0.0275</td> <td>    0.007</td> <td>   -3.849</td> <td> 0.000</td> <td>   -0.041</td> <td>   -0.013</td>\n",
       "</tr>\n",
       "<tr>\n",
       "  <th>Lead Origin_API</th>                       <td>   -0.5710</td> <td>    0.022</td> <td>  -25.557</td> <td> 0.000</td> <td>   -0.615</td> <td>   -0.527</td>\n",
       "</tr>\n",
       "<tr>\n",
       "  <th>Lead Origin_Landing Page Submission</th>   <td>   -0.6377</td> <td>    0.023</td> <td>  -28.249</td> <td> 0.000</td> <td>   -0.682</td> <td>   -0.593</td>\n",
       "</tr>\n",
       "<tr>\n",
       "  <th>Lead Origin_Lead Import</th>               <td>   -0.5845</td> <td>    0.062</td> <td>   -9.391</td> <td> 0.000</td> <td>   -0.706</td> <td>   -0.462</td>\n",
       "</tr>\n",
       "<tr>\n",
       "  <th>Lead Source_Direct Traffic</th>            <td>   -0.0619</td> <td>    0.013</td> <td>   -4.762</td> <td> 0.000</td> <td>   -0.087</td> <td>   -0.036</td>\n",
       "</tr>\n",
       "<tr>\n",
       "  <th>Lead Source_Olark Chat</th>                <td>    0.1379</td> <td>    0.019</td> <td>    7.328</td> <td> 0.000</td> <td>    0.101</td> <td>    0.175</td>\n",
       "</tr>\n",
       "<tr>\n",
       "  <th>Last Activity_Converted to Lead</th>       <td>   -0.1512</td> <td>    0.024</td> <td>   -6.244</td> <td> 0.000</td> <td>   -0.199</td> <td>   -0.104</td>\n",
       "</tr>\n",
       "<tr>\n",
       "  <th>Last Activity_Email Bounced</th>           <td>   -0.2146</td> <td>    0.027</td> <td>   -7.914</td> <td> 0.000</td> <td>   -0.268</td> <td>   -0.161</td>\n",
       "</tr>\n",
       "<tr>\n",
       "  <th>Last Activity_Olark Chat Conversation</th> <td>   -0.2003</td> <td>    0.018</td> <td>  -10.831</td> <td> 0.000</td> <td>   -0.237</td> <td>   -0.164</td>\n",
       "</tr>\n",
       "<tr>\n",
       "  <th>Last Activity_Other</th>                   <td>   -0.0632</td> <td>    0.021</td> <td>   -3.061</td> <td> 0.002</td> <td>   -0.104</td> <td>   -0.023</td>\n",
       "</tr>\n",
       "<tr>\n",
       "  <th>Last Activity_Page Visited on Website</th> <td>   -0.1101</td> <td>    0.020</td> <td>   -5.409</td> <td> 0.000</td> <td>   -0.150</td> <td>   -0.070</td>\n",
       "</tr>\n",
       "<tr>\n",
       "  <th>Last Activity_SMS Sent</th>                <td>    0.2135</td> <td>    0.012</td> <td>   18.076</td> <td> 0.000</td> <td>    0.190</td> <td>    0.237</td>\n",
       "</tr>\n",
       "<tr>\n",
       "  <th>Specialization_Finance Management</th>     <td>   -0.1026</td> <td>    0.013</td> <td>   -8.196</td> <td> 0.000</td> <td>   -0.127</td> <td>   -0.078</td>\n",
       "</tr>\n",
       "<tr>\n",
       "  <th>Specialization_IT Projects Management</th> <td>    0.0092</td> <td>    0.026</td> <td>    0.357</td> <td> 0.721</td> <td>   -0.041</td> <td>    0.060</td>\n",
       "</tr>\n",
       "</table>"
      ],
      "text/latex": [
       "\\begin{center}\n",
       "\\begin{tabular}{lclc}\n",
       "\\toprule\n",
       "\\textbf{Dep. Variable:}                         &    Converted     & \\textbf{  No. Observations:  } &     6468    \\\\\n",
       "\\textbf{Model:}                                 &       GLM        & \\textbf{  Df Residuals:      } &     6451    \\\\\n",
       "\\textbf{Model Family:}                          &     Gaussian     & \\textbf{  Df Model:          } &       16    \\\\\n",
       "\\textbf{Link Function:}                         &     Identity     & \\textbf{  Scale:             } &   0.14955   \\\\\n",
       "\\textbf{Method:}                                &       IRLS       & \\textbf{  Log-Likelihood:    } &   -3024.2   \\\\\n",
       "\\textbf{Date:}                                  & Wed, 18 Dec 2024 & \\textbf{  Deviance:          } &    964.75   \\\\\n",
       "\\textbf{Time:}                                  &     00:29:49     & \\textbf{  Pearson chi2:      } &     965.    \\\\\n",
       "\\textbf{No. Iterations:}                        &        3         & \\textbf{  Pseudo R-squ. (CS):} &   0.4466    \\\\\n",
       "\\textbf{Covariance Type:}                       &    nonrobust     & \\textbf{                     } &             \\\\\n",
       "\\bottomrule\n",
       "\\end{tabular}\n",
       "\\begin{tabular}{lcccccc}\n",
       "                                                & \\textbf{coef} & \\textbf{std err} & \\textbf{z} & \\textbf{P$> |$z$|$} & \\textbf{[0.025} & \\textbf{0.975]}  \\\\\n",
       "\\midrule\n",
       "\\textbf{const}                                  &       0.9736  &        0.020     &    47.983  &         0.000        &        0.934    &        1.013     \\\\\n",
       "\\textbf{TotalVisits}                            &       0.0222  &        0.006     &     3.458  &         0.001        &        0.010    &        0.035     \\\\\n",
       "\\textbf{Total Time Spent on Website}            &       0.1974  &        0.005     &    36.584  &         0.000        &        0.187    &        0.208     \\\\\n",
       "\\textbf{Page Views Per Visit}                   &      -0.0275  &        0.007     &    -3.849  &         0.000        &       -0.041    &       -0.013     \\\\\n",
       "\\textbf{Lead Origin\\_API}                       &      -0.5710  &        0.022     &   -25.557  &         0.000        &       -0.615    &       -0.527     \\\\\n",
       "\\textbf{Lead Origin\\_Landing Page Submission}   &      -0.6377  &        0.023     &   -28.249  &         0.000        &       -0.682    &       -0.593     \\\\\n",
       "\\textbf{Lead Origin\\_Lead Import}               &      -0.5845  &        0.062     &    -9.391  &         0.000        &       -0.706    &       -0.462     \\\\\n",
       "\\textbf{Lead Source\\_Direct Traffic}            &      -0.0619  &        0.013     &    -4.762  &         0.000        &       -0.087    &       -0.036     \\\\\n",
       "\\textbf{Lead Source\\_Olark Chat}                &       0.1379  &        0.019     &     7.328  &         0.000        &        0.101    &        0.175     \\\\\n",
       "\\textbf{Last Activity\\_Converted to Lead}       &      -0.1512  &        0.024     &    -6.244  &         0.000        &       -0.199    &       -0.104     \\\\\n",
       "\\textbf{Last Activity\\_Email Bounced}           &      -0.2146  &        0.027     &    -7.914  &         0.000        &       -0.268    &       -0.161     \\\\\n",
       "\\textbf{Last Activity\\_Olark Chat Conversation} &      -0.2003  &        0.018     &   -10.831  &         0.000        &       -0.237    &       -0.164     \\\\\n",
       "\\textbf{Last Activity\\_Other}                   &      -0.0632  &        0.021     &    -3.061  &         0.002        &       -0.104    &       -0.023     \\\\\n",
       "\\textbf{Last Activity\\_Page Visited on Website} &      -0.1101  &        0.020     &    -5.409  &         0.000        &       -0.150    &       -0.070     \\\\\n",
       "\\textbf{Last Activity\\_SMS Sent}                &       0.2135  &        0.012     &    18.076  &         0.000        &        0.190    &        0.237     \\\\\n",
       "\\textbf{Specialization\\_Finance Management}     &      -0.1026  &        0.013     &    -8.196  &         0.000        &       -0.127    &       -0.078     \\\\\n",
       "\\textbf{Specialization\\_IT Projects Management} &       0.0092  &        0.026     &     0.357  &         0.721        &       -0.041    &        0.060     \\\\\n",
       "\\bottomrule\n",
       "\\end{tabular}\n",
       "%\\caption{Generalized Linear Model Regression Results}\n",
       "\\end{center}"
      ],
      "text/plain": [
       "<class 'statsmodels.iolib.summary.Summary'>\n",
       "\"\"\"\n",
       "                 Generalized Linear Model Regression Results                  \n",
       "==============================================================================\n",
       "Dep. Variable:              Converted   No. Observations:                 6468\n",
       "Model:                            GLM   Df Residuals:                     6451\n",
       "Model Family:                Gaussian   Df Model:                           16\n",
       "Link Function:               Identity   Scale:                         0.14955\n",
       "Method:                          IRLS   Log-Likelihood:                -3024.2\n",
       "Date:                Wed, 18 Dec 2024   Deviance:                       964.75\n",
       "Time:                        00:29:49   Pearson chi2:                     965.\n",
       "No. Iterations:                     3   Pseudo R-squ. (CS):             0.4466\n",
       "Covariance Type:            nonrobust                                         \n",
       "=========================================================================================================\n",
       "                                            coef    std err          z      P>|z|      [0.025      0.975]\n",
       "---------------------------------------------------------------------------------------------------------\n",
       "const                                     0.9736      0.020     47.983      0.000       0.934       1.013\n",
       "TotalVisits                               0.0222      0.006      3.458      0.001       0.010       0.035\n",
       "Total Time Spent on Website               0.1974      0.005     36.584      0.000       0.187       0.208\n",
       "Page Views Per Visit                     -0.0275      0.007     -3.849      0.000      -0.041      -0.013\n",
       "Lead Origin_API                          -0.5710      0.022    -25.557      0.000      -0.615      -0.527\n",
       "Lead Origin_Landing Page Submission      -0.6377      0.023    -28.249      0.000      -0.682      -0.593\n",
       "Lead Origin_Lead Import                  -0.5845      0.062     -9.391      0.000      -0.706      -0.462\n",
       "Lead Source_Direct Traffic               -0.0619      0.013     -4.762      0.000      -0.087      -0.036\n",
       "Lead Source_Olark Chat                    0.1379      0.019      7.328      0.000       0.101       0.175\n",
       "Last Activity_Converted to Lead          -0.1512      0.024     -6.244      0.000      -0.199      -0.104\n",
       "Last Activity_Email Bounced              -0.2146      0.027     -7.914      0.000      -0.268      -0.161\n",
       "Last Activity_Olark Chat Conversation    -0.2003      0.018    -10.831      0.000      -0.237      -0.164\n",
       "Last Activity_Other                      -0.0632      0.021     -3.061      0.002      -0.104      -0.023\n",
       "Last Activity_Page Visited on Website    -0.1101      0.020     -5.409      0.000      -0.150      -0.070\n",
       "Last Activity_SMS Sent                    0.2135      0.012     18.076      0.000       0.190       0.237\n",
       "Specialization_Finance Management        -0.1026      0.013     -8.196      0.000      -0.127      -0.078\n",
       "Specialization_IT Projects Management     0.0092      0.026      0.357      0.721      -0.041       0.060\n",
       "=========================================================================================================\n",
       "\"\"\""
      ]
     },
     "execution_count": 243,
     "metadata": {},
     "output_type": "execute_result"
    }
   ],
   "source": [
    "X_train_sm=sm.add_constant(X_train[col])\n",
    "logm6=sm.GLM(y_train,X_train_sm,families=sm.families.Binomial()).fit()\n",
    "logm6.summary()"
   ]
  },
  {
   "cell_type": "code",
   "execution_count": 244,
   "metadata": {},
   "outputs": [
    {
     "data": {
      "text/html": [
       "<div>\n",
       "<style scoped>\n",
       "    .dataframe tbody tr th:only-of-type {\n",
       "        vertical-align: middle;\n",
       "    }\n",
       "\n",
       "    .dataframe tbody tr th {\n",
       "        vertical-align: top;\n",
       "    }\n",
       "\n",
       "    .dataframe thead th {\n",
       "        text-align: right;\n",
       "    }\n",
       "</style>\n",
       "<table border=\"1\" class=\"dataframe\">\n",
       "  <thead>\n",
       "    <tr style=\"text-align: right;\">\n",
       "      <th></th>\n",
       "      <th>Features</th>\n",
       "      <th>VIF</th>\n",
       "    </tr>\n",
       "  </thead>\n",
       "  <tbody>\n",
       "    <tr>\n",
       "      <th>3</th>\n",
       "      <td>Lead Origin_API</td>\n",
       "      <td>4.09</td>\n",
       "    </tr>\n",
       "    <tr>\n",
       "      <th>4</th>\n",
       "      <td>Lead Origin_Landing Page Submission</td>\n",
       "      <td>3.47</td>\n",
       "    </tr>\n",
       "    <tr>\n",
       "      <th>14</th>\n",
       "      <td>Specialization_Finance Management</td>\n",
       "      <td>2.88</td>\n",
       "    </tr>\n",
       "    <tr>\n",
       "      <th>7</th>\n",
       "      <td>Lead Source_Olark Chat</td>\n",
       "      <td>2.81</td>\n",
       "    </tr>\n",
       "    <tr>\n",
       "      <th>2</th>\n",
       "      <td>Page Views Per Visit</td>\n",
       "      <td>2.13</td>\n",
       "    </tr>\n",
       "    <tr>\n",
       "      <th>6</th>\n",
       "      <td>Lead Source_Direct Traffic</td>\n",
       "      <td>2.03</td>\n",
       "    </tr>\n",
       "    <tr>\n",
       "      <th>0</th>\n",
       "      <td>TotalVisits</td>\n",
       "      <td>1.79</td>\n",
       "    </tr>\n",
       "    <tr>\n",
       "      <th>13</th>\n",
       "      <td>Last Activity_SMS Sent</td>\n",
       "      <td>1.64</td>\n",
       "    </tr>\n",
       "    <tr>\n",
       "      <th>10</th>\n",
       "      <td>Last Activity_Olark Chat Conversation</td>\n",
       "      <td>1.53</td>\n",
       "    </tr>\n",
       "    <tr>\n",
       "      <th>1</th>\n",
       "      <td>Total Time Spent on Website</td>\n",
       "      <td>1.25</td>\n",
       "    </tr>\n",
       "    <tr>\n",
       "      <th>12</th>\n",
       "      <td>Last Activity_Page Visited on Website</td>\n",
       "      <td>1.24</td>\n",
       "    </tr>\n",
       "    <tr>\n",
       "      <th>8</th>\n",
       "      <td>Last Activity_Converted to Lead</td>\n",
       "      <td>1.20</td>\n",
       "    </tr>\n",
       "    <tr>\n",
       "      <th>11</th>\n",
       "      <td>Last Activity_Other</td>\n",
       "      <td>1.15</td>\n",
       "    </tr>\n",
       "    <tr>\n",
       "      <th>9</th>\n",
       "      <td>Last Activity_Email Bounced</td>\n",
       "      <td>1.11</td>\n",
       "    </tr>\n",
       "    <tr>\n",
       "      <th>15</th>\n",
       "      <td>Specialization_IT Projects Management</td>\n",
       "      <td>1.08</td>\n",
       "    </tr>\n",
       "    <tr>\n",
       "      <th>5</th>\n",
       "      <td>Lead Origin_Lead Import</td>\n",
       "      <td>1.02</td>\n",
       "    </tr>\n",
       "  </tbody>\n",
       "</table>\n",
       "</div>"
      ],
      "text/plain": [
       "                                 Features   VIF\n",
       "3                         Lead Origin_API  4.09\n",
       "4     Lead Origin_Landing Page Submission  3.47\n",
       "14      Specialization_Finance Management  2.88\n",
       "7                  Lead Source_Olark Chat  2.81\n",
       "2                    Page Views Per Visit  2.13\n",
       "6              Lead Source_Direct Traffic  2.03\n",
       "0                             TotalVisits  1.79\n",
       "13                 Last Activity_SMS Sent  1.64\n",
       "10  Last Activity_Olark Chat Conversation  1.53\n",
       "1             Total Time Spent on Website  1.25\n",
       "12  Last Activity_Page Visited on Website  1.24\n",
       "8         Last Activity_Converted to Lead  1.20\n",
       "11                    Last Activity_Other  1.15\n",
       "9             Last Activity_Email Bounced  1.11\n",
       "15  Specialization_IT Projects Management  1.08\n",
       "5                 Lead Origin_Lead Import  1.02"
      ]
     },
     "execution_count": 244,
     "metadata": {},
     "output_type": "execute_result"
    }
   ],
   "source": [
    "# Calculate the VIFs for the new model\n",
    "vifcalc(X_train[col])"
   ]
  },
  {
   "cell_type": "markdown",
   "metadata": {},
   "source": [
    "- Here we got all the p-value are under 0.05 and VIF is also under 5\n",
    "- It can take as a Final Model"
   ]
  },
  {
   "cell_type": "code",
   "execution_count": 245,
   "metadata": {},
   "outputs": [],
   "source": [
    "# Prediciting values on ytrain\n",
    "y_train_pred = logm6.predict(X_train_sm).values.reshape(-1)"
   ]
  },
  {
   "cell_type": "code",
   "execution_count": 246,
   "metadata": {},
   "outputs": [
    {
     "data": {
      "text/html": [
       "<div>\n",
       "<style scoped>\n",
       "    .dataframe tbody tr th:only-of-type {\n",
       "        vertical-align: middle;\n",
       "    }\n",
       "\n",
       "    .dataframe tbody tr th {\n",
       "        vertical-align: top;\n",
       "    }\n",
       "\n",
       "    .dataframe thead th {\n",
       "        text-align: right;\n",
       "    }\n",
       "</style>\n",
       "<table border=\"1\" class=\"dataframe\">\n",
       "  <thead>\n",
       "    <tr style=\"text-align: right;\">\n",
       "      <th></th>\n",
       "      <th>Converted</th>\n",
       "      <th>Converted_Prob</th>\n",
       "      <th>Lead Number</th>\n",
       "    </tr>\n",
       "  </thead>\n",
       "  <tbody>\n",
       "    <tr>\n",
       "      <th>0</th>\n",
       "      <td>1</td>\n",
       "      <td>0.676034</td>\n",
       "      <td>3241</td>\n",
       "    </tr>\n",
       "    <tr>\n",
       "      <th>1</th>\n",
       "      <td>1</td>\n",
       "      <td>0.305287</td>\n",
       "      <td>5315</td>\n",
       "    </tr>\n",
       "    <tr>\n",
       "      <th>2</th>\n",
       "      <td>0</td>\n",
       "      <td>0.272307</td>\n",
       "      <td>4039</td>\n",
       "    </tr>\n",
       "    <tr>\n",
       "      <th>3</th>\n",
       "      <td>0</td>\n",
       "      <td>0.208237</td>\n",
       "      <td>7079</td>\n",
       "    </tr>\n",
       "    <tr>\n",
       "      <th>4</th>\n",
       "      <td>1</td>\n",
       "      <td>0.136888</td>\n",
       "      <td>5655</td>\n",
       "    </tr>\n",
       "  </tbody>\n",
       "</table>\n",
       "</div>"
      ],
      "text/plain": [
       "   Converted  Converted_Prob  Lead Number\n",
       "0          1        0.676034         3241\n",
       "1          1        0.305287         5315\n",
       "2          0        0.272307         4039\n",
       "3          0        0.208237         7079\n",
       "4          1        0.136888         5655"
      ]
     },
     "execution_count": 246,
     "metadata": {},
     "output_type": "execute_result"
    }
   ],
   "source": [
    "y_train_pred_final = pd.DataFrame({'Converted':y_train['Converted'], 'Converted_Prob':y_train_pred})\n",
    "y_train_pred_final['Lead Number'] = y_train.index\n",
    "y_train_pred_final.reset_index(drop=True, inplace=True)\n",
    "y_train_pred_final.head()"
   ]
  },
  {
   "cell_type": "code",
   "execution_count": 247,
   "metadata": {},
   "outputs": [],
   "source": [
    "#  let's take 0.5 as Cutoff\n",
    "y_train_pred_final['Converted_pred']=y_train_pred_final['Converted_Prob'].apply(lambda x : 1 if x>0.5 else 0)"
   ]
  },
  {
   "cell_type": "code",
   "execution_count": 248,
   "metadata": {},
   "outputs": [
    {
     "data": {
      "text/html": [
       "<div>\n",
       "<style scoped>\n",
       "    .dataframe tbody tr th:only-of-type {\n",
       "        vertical-align: middle;\n",
       "    }\n",
       "\n",
       "    .dataframe tbody tr th {\n",
       "        vertical-align: top;\n",
       "    }\n",
       "\n",
       "    .dataframe thead th {\n",
       "        text-align: right;\n",
       "    }\n",
       "</style>\n",
       "<table border=\"1\" class=\"dataframe\">\n",
       "  <thead>\n",
       "    <tr style=\"text-align: right;\">\n",
       "      <th></th>\n",
       "      <th>Converted</th>\n",
       "      <th>Converted_Prob</th>\n",
       "      <th>Lead Number</th>\n",
       "      <th>Converted_pred</th>\n",
       "    </tr>\n",
       "  </thead>\n",
       "  <tbody>\n",
       "    <tr>\n",
       "      <th>0</th>\n",
       "      <td>1</td>\n",
       "      <td>0.676034</td>\n",
       "      <td>3241</td>\n",
       "      <td>1</td>\n",
       "    </tr>\n",
       "    <tr>\n",
       "      <th>1</th>\n",
       "      <td>1</td>\n",
       "      <td>0.305287</td>\n",
       "      <td>5315</td>\n",
       "      <td>0</td>\n",
       "    </tr>\n",
       "    <tr>\n",
       "      <th>2</th>\n",
       "      <td>0</td>\n",
       "      <td>0.272307</td>\n",
       "      <td>4039</td>\n",
       "      <td>0</td>\n",
       "    </tr>\n",
       "    <tr>\n",
       "      <th>3</th>\n",
       "      <td>0</td>\n",
       "      <td>0.208237</td>\n",
       "      <td>7079</td>\n",
       "      <td>0</td>\n",
       "    </tr>\n",
       "    <tr>\n",
       "      <th>4</th>\n",
       "      <td>1</td>\n",
       "      <td>0.136888</td>\n",
       "      <td>5655</td>\n",
       "      <td>0</td>\n",
       "    </tr>\n",
       "  </tbody>\n",
       "</table>\n",
       "</div>"
      ],
      "text/plain": [
       "   Converted  Converted_Prob  Lead Number  Converted_pred\n",
       "0          1        0.676034         3241               1\n",
       "1          1        0.305287         5315               0\n",
       "2          0        0.272307         4039               0\n",
       "3          0        0.208237         7079               0\n",
       "4          1        0.136888         5655               0"
      ]
     },
     "execution_count": 248,
     "metadata": {},
     "output_type": "execute_result"
    }
   ],
   "source": [
    "y_train_pred_final.head()"
   ]
  },
  {
   "cell_type": "code",
   "execution_count": 249,
   "metadata": {},
   "outputs": [],
   "source": [
    "# Finding the metrics like accuracy, sensitivity and specicity \n",
    "def metrices_(converted,predicted):\n",
    "    cm1 = metrics.confusion_matrix(converted,predicted)\n",
    "    total1=sum(sum(cm1))\n",
    "    accuracy = (cm1[0,0]+cm1[1,1])/total1\n",
    "    speci = cm1[0,0]/(cm1[0,0]+cm1[0,1])\n",
    "    sensi = cm1[1,1]/(cm1[1,0]+cm1[1,1])\n",
    "    return accuracy,sensi,speci"
   ]
  },
  {
   "cell_type": "code",
   "execution_count": 250,
   "metadata": {},
   "outputs": [
    {
     "name": "stdout",
     "output_type": "stream",
     "text": [
      "Accuracy: 0.78865182436611, Sensitivity 0.6349900596421472, specitiy 0.8864153807235011\n"
     ]
    }
   ],
   "source": [
    "acc,sensi,speci=metrices_(y_train_pred_final.Converted,y_train_pred_final.Converted_pred)\n",
    "\n",
    "print('Accuracy: {}, Sensitivity {}, specitiy {}'.format(acc,sensi,speci))"
   ]
  },
  {
   "cell_type": "markdown",
   "metadata": {},
   "source": [
    "Here we got low Sensitivity when randomly take the Cutoff as 0.5"
   ]
  },
  {
   "cell_type": "code",
   "execution_count": 251,
   "metadata": {},
   "outputs": [
    {
     "data": {
      "text/plain": [
       "array([[3504,  449],\n",
       "       [ 918, 1597]])"
      ]
     },
     "execution_count": 251,
     "metadata": {},
     "output_type": "execute_result"
    }
   ],
   "source": [
    "# Finding the Confusion Matrix\n",
    "confusion = metrics.confusion_matrix(y_train_pred_final.Converted, y_train_pred_final.Converted_pred )\n",
    "confusion"
   ]
  },
  {
   "cell_type": "code",
   "execution_count": 252,
   "metadata": {},
   "outputs": [],
   "source": [
    "# Finding the TP, TN, FP, FN\n",
    "TP = confusion[1,1] # true positive \n",
    "TN = confusion[0,0] # true negatives\n",
    "FP = confusion[0,1] # false positives\n",
    "FN = confusion[1,0] # false negative"
   ]
  },
  {
   "cell_type": "code",
   "execution_count": 253,
   "metadata": {},
   "outputs": [
    {
     "name": "stdout",
     "output_type": "stream",
     "text": [
      "0.11358461927649886\n"
     ]
    }
   ],
   "source": [
    "# Calculate false postive rate -\n",
    "print(FP/ float(TN+FP))"
   ]
  },
  {
   "cell_type": "code",
   "execution_count": 254,
   "metadata": {},
   "outputs": [
    {
     "name": "stdout",
     "output_type": "stream",
     "text": [
      "0.7805474095796676\n"
     ]
    }
   ],
   "source": [
    "# positive predictive value \n",
    "print (TP / float(TP+FP))"
   ]
  },
  {
   "cell_type": "code",
   "execution_count": 255,
   "metadata": {},
   "outputs": [
    {
     "name": "stdout",
     "output_type": "stream",
     "text": [
      "0.7924016282225237\n"
     ]
    }
   ],
   "source": [
    "# Negative predictive value\n",
    "print (TN / float(TN+ FN))"
   ]
  },
  {
   "cell_type": "code",
   "execution_count": 257,
   "metadata": {},
   "outputs": [],
   "source": [
    "def draw_roc( actual, probs ):\n",
    "    fpr, tpr, thresholds = metrics.roc_curve( actual, probs,drop_intermediate = False )\n",
    "    auc_score = metrics.roc_auc_score( actual, probs )\n",
    "    plt.figure(figsize=(5, 5))\n",
    "    plt.plot( fpr, tpr, label='ROC curve (area = %0.2f)' % auc_score )\n",
    "    plt.plot([0, 1], [0, 1], 'k--')\n",
    "    plt.xlim([0.0, 1.0])\n",
    "    plt.ylim([0.0, 1.05])\n",
    "    plt.xlabel('False Positive Rate or [1 - True Negative Rate]')\n",
    "    plt.ylabel('True Positive Rate')\n",
    "    plt.title('Receiver operating characteristic example')\n",
    "    plt.legend(loc=\"lower right\")\n",
    "#     plt.savefig('Roc.png',dpi=300,transparent=True)\n",
    "    plt.show()\n",
    "    \n",
    "\n",
    "    return None"
   ]
  },
  {
   "cell_type": "code",
   "execution_count": 258,
   "metadata": {},
   "outputs": [],
   "source": [
    "\n",
    "fpr, tpr, thresholds = metrics.roc_curve( y_train_pred_final.Converted, y_train_pred_final.Converted_Prob, drop_intermediate = False )"
   ]
  },
  {
   "cell_type": "code",
   "execution_count": 259,
   "metadata": {},
   "outputs": [
    {
     "data": {
      "image/png": "[encoded data removed]",
      "text/plain": [
       "<Figure size 500x500 with 1 Axes>"
      ]
     },
     "metadata": {},
     "output_type": "display_data"
    }
   ],
   "source": [
    "draw_roc(y_train_pred_final.Converted, y_train_pred_final.Converted_Prob)"
   ]
  },
  {
   "cell_type": "markdown",
   "metadata": {},
   "source": [
    "### Finding the optimal Point"
   ]
  },
  {
   "cell_type": "code",
   "execution_count": 260,
   "metadata": {},
   "outputs": [
    {
     "data": {
      "text/html": [
       "<div>\n",
       "<style scoped>\n",
       "    .dataframe tbody tr th:only-of-type {\n",
       "        vertical-align: middle;\n",
       "    }\n",
       "\n",
       "    .dataframe tbody tr th {\n",
       "        vertical-align: top;\n",
       "    }\n",
       "\n",
       "    .dataframe thead th {\n",
       "        text-align: right;\n",
       "    }\n",
       "</style>\n",
       "<table border=\"1\" class=\"dataframe\">\n",
       "  <thead>\n",
       "    <tr style=\"text-align: right;\">\n",
       "      <th></th>\n",
       "      <th>Converted</th>\n",
       "      <th>Converted_Prob</th>\n",
       "      <th>Lead Number</th>\n",
       "      <th>Converted_pred</th>\n",
       "      <th>0.0</th>\n",
       "      <th>0.1</th>\n",
       "      <th>0.2</th>\n",
       "      <th>0.3</th>\n",
       "      <th>0.4</th>\n",
       "      <th>0.5</th>\n",
       "      <th>0.6</th>\n",
       "      <th>0.7</th>\n",
       "      <th>0.8</th>\n",
       "      <th>0.9</th>\n",
       "    </tr>\n",
       "  </thead>\n",
       "  <tbody>\n",
       "    <tr>\n",
       "      <th>0</th>\n",
       "      <td>1</td>\n",
       "      <td>0.676034</td>\n",
       "      <td>3241</td>\n",
       "      <td>1</td>\n",
       "      <td>1</td>\n",
       "      <td>1</td>\n",
       "      <td>1</td>\n",
       "      <td>1</td>\n",
       "      <td>1</td>\n",
       "      <td>1</td>\n",
       "      <td>1</td>\n",
       "      <td>0</td>\n",
       "      <td>0</td>\n",
       "      <td>0</td>\n",
       "    </tr>\n",
       "    <tr>\n",
       "      <th>1</th>\n",
       "      <td>1</td>\n",
       "      <td>0.305287</td>\n",
       "      <td>5315</td>\n",
       "      <td>0</td>\n",
       "      <td>1</td>\n",
       "      <td>1</td>\n",
       "      <td>1</td>\n",
       "      <td>1</td>\n",
       "      <td>0</td>\n",
       "      <td>0</td>\n",
       "      <td>0</td>\n",
       "      <td>0</td>\n",
       "      <td>0</td>\n",
       "      <td>0</td>\n",
       "    </tr>\n",
       "    <tr>\n",
       "      <th>2</th>\n",
       "      <td>0</td>\n",
       "      <td>0.272307</td>\n",
       "      <td>4039</td>\n",
       "      <td>0</td>\n",
       "      <td>1</td>\n",
       "      <td>1</td>\n",
       "      <td>1</td>\n",
       "      <td>0</td>\n",
       "      <td>0</td>\n",
       "      <td>0</td>\n",
       "      <td>0</td>\n",
       "      <td>0</td>\n",
       "      <td>0</td>\n",
       "      <td>0</td>\n",
       "    </tr>\n",
       "    <tr>\n",
       "      <th>3</th>\n",
       "      <td>0</td>\n",
       "      <td>0.208237</td>\n",
       "      <td>7079</td>\n",
       "      <td>0</td>\n",
       "      <td>1</td>\n",
       "      <td>1</td>\n",
       "      <td>1</td>\n",
       "      <td>0</td>\n",
       "      <td>0</td>\n",
       "      <td>0</td>\n",
       "      <td>0</td>\n",
       "      <td>0</td>\n",
       "      <td>0</td>\n",
       "      <td>0</td>\n",
       "    </tr>\n",
       "    <tr>\n",
       "      <th>4</th>\n",
       "      <td>1</td>\n",
       "      <td>0.136888</td>\n",
       "      <td>5655</td>\n",
       "      <td>0</td>\n",
       "      <td>1</td>\n",
       "      <td>1</td>\n",
       "      <td>0</td>\n",
       "      <td>0</td>\n",
       "      <td>0</td>\n",
       "      <td>0</td>\n",
       "      <td>0</td>\n",
       "      <td>0</td>\n",
       "      <td>0</td>\n",
       "      <td>0</td>\n",
       "    </tr>\n",
       "  </tbody>\n",
       "</table>\n",
       "</div>"
      ],
      "text/plain": [
       "   Converted  Converted_Prob  Lead Number  Converted_pred  ...  0.6  0.7  0.8  0.9\n",
       "0          1        0.676034         3241               1  ...    1    0    0    0\n",
       "1          1        0.305287         5315               0  ...    0    0    0    0\n",
       "2          0        0.272307         4039               0  ...    0    0    0    0\n",
       "3          0        0.208237         7079               0  ...    0    0    0    0\n",
       "4          1        0.136888         5655               0  ...    0    0    0    0\n",
       "\n",
       "[5 rows x 14 columns]"
      ]
     },
     "execution_count": 260,
     "metadata": {},
     "output_type": "execute_result"
    }
   ],
   "source": [
    "# Let's create columns with different probability cutoffs \n",
    "numbers = [float(x)/10 for x in range(10)]\n",
    "for i in numbers:\n",
    "    y_train_pred_final[i]= y_train_pred_final.Converted_Prob.map(lambda x: 1 if x > i else 0)\n",
    "y_train_pred_final.head()"
   ]
  },
  {
   "cell_type": "code",
   "execution_count": 261,
   "metadata": {},
   "outputs": [
    {
     "name": "stdout",
     "output_type": "stream",
     "text": [
      "     prob  accuracy     sensi     speci\n",
      "0.0   0.0  0.432282  0.995229  0.074121\n",
      "0.1   0.1  0.566172  0.974950  0.306097\n",
      "0.2   0.2  0.661565  0.941551  0.483430\n",
      "0.3   0.3  0.761132  0.870378  0.691627\n",
      "0.4   0.4  0.788806  0.782107  0.793069\n",
      "0.5   0.5  0.788652  0.634990  0.886415\n",
      "0.6   0.6  0.764224  0.506163  0.928409\n",
      "0.7   0.7  0.737013  0.395626  0.954212\n",
      "0.8   0.8  0.700835  0.267197  0.976727\n",
      "0.9   0.9  0.669913  0.168986  0.988616\n"
     ]
    }
   ],
   "source": [
    "# Now let's calculate accuracy sensitivity and specificity for various probability cutoffs.\n",
    "cutoff_df = pd.DataFrame( columns = ['prob','accuracy','sensi','speci'])\n",
    "from sklearn.metrics import confusion_matrix\n",
    "num = [0.0,0.1,0.2,0.3,0.4,0.5,0.6,0.7,0.8,0.9]\n",
    "for i in num:\n",
    "    cm1 = metrics.confusion_matrix(y_train_pred_final.Converted, y_train_pred_final[i] )\n",
    "    total1=sum(sum(cm1))\n",
    "    accuracy = (cm1[0,0]+cm1[1,1])/total1\n",
    "    speci = cm1[0,0]/(cm1[0,0]+cm1[0,1])\n",
    "    sensi = cm1[1,1]/(cm1[1,0]+cm1[1,1])\n",
    "    cutoff_df.loc[i] =[ i ,accuracy,sensi,speci]\n",
    "print(cutoff_df)"
   ]
  },
  {
   "cell_type": "code",
   "execution_count": 262,
   "metadata": {},
   "outputs": [
    {
     "data": {
      "text/plain": [
       "<Figure size 2000x1500 with 0 Axes>"
      ]
     },
     "metadata": {},
     "output_type": "display_data"
    },
    {
     "data": {
      "image/png": "[encoded data removed]",
      "text/plain": [
       "<Figure size 640x480 with 1 Axes>"
      ]
     },
     "metadata": {},
     "output_type": "display_data"
    }
   ],
   "source": [
    "# Let's plot accuracy sensitivity and specificity for various probabilities.\n",
    "plt.figure(figsize=(20,15))\n",
    "cutoff_df.plot.line(x='prob', y=['accuracy','sensi','speci'])\n",
    "# plt.savefig('acc_s_s_curve',dpi=300,transparent=True)\n",
    "plt.show()"
   ]
  },
  {
   "cell_type": "markdown",
   "metadata": {},
   "source": [
    "Taking value 0.42  as the Final Cutoff"
   ]
  },
  {
   "cell_type": "code",
   "execution_count": 263,
   "metadata": {},
   "outputs": [
    {
     "data": {
      "text/html": [
       "<div>\n",
       "<style scoped>\n",
       "    .dataframe tbody tr th:only-of-type {\n",
       "        vertical-align: middle;\n",
       "    }\n",
       "\n",
       "    .dataframe tbody tr th {\n",
       "        vertical-align: top;\n",
       "    }\n",
       "\n",
       "    .dataframe thead th {\n",
       "        text-align: right;\n",
       "    }\n",
       "</style>\n",
       "<table border=\"1\" class=\"dataframe\">\n",
       "  <thead>\n",
       "    <tr style=\"text-align: right;\">\n",
       "      <th></th>\n",
       "      <th>Converted</th>\n",
       "      <th>Converted_Prob</th>\n",
       "      <th>Lead Number</th>\n",
       "      <th>Converted_pred</th>\n",
       "      <th>0.0</th>\n",
       "      <th>0.1</th>\n",
       "      <th>0.2</th>\n",
       "      <th>0.3</th>\n",
       "      <th>0.4</th>\n",
       "      <th>0.5</th>\n",
       "      <th>0.6</th>\n",
       "      <th>0.7</th>\n",
       "      <th>0.8</th>\n",
       "      <th>0.9</th>\n",
       "      <th>final_predicted</th>\n",
       "    </tr>\n",
       "  </thead>\n",
       "  <tbody>\n",
       "    <tr>\n",
       "      <th>0</th>\n",
       "      <td>1</td>\n",
       "      <td>0.676034</td>\n",
       "      <td>3241</td>\n",
       "      <td>1</td>\n",
       "      <td>1</td>\n",
       "      <td>1</td>\n",
       "      <td>1</td>\n",
       "      <td>1</td>\n",
       "      <td>1</td>\n",
       "      <td>1</td>\n",
       "      <td>1</td>\n",
       "      <td>0</td>\n",
       "      <td>0</td>\n",
       "      <td>0</td>\n",
       "      <td>1</td>\n",
       "    </tr>\n",
       "    <tr>\n",
       "      <th>1</th>\n",
       "      <td>1</td>\n",
       "      <td>0.305287</td>\n",
       "      <td>5315</td>\n",
       "      <td>0</td>\n",
       "      <td>1</td>\n",
       "      <td>1</td>\n",
       "      <td>1</td>\n",
       "      <td>1</td>\n",
       "      <td>0</td>\n",
       "      <td>0</td>\n",
       "      <td>0</td>\n",
       "      <td>0</td>\n",
       "      <td>0</td>\n",
       "      <td>0</td>\n",
       "      <td>0</td>\n",
       "    </tr>\n",
       "    <tr>\n",
       "      <th>2</th>\n",
       "      <td>0</td>\n",
       "      <td>0.272307</td>\n",
       "      <td>4039</td>\n",
       "      <td>0</td>\n",
       "      <td>1</td>\n",
       "      <td>1</td>\n",
       "      <td>1</td>\n",
       "      <td>0</td>\n",
       "      <td>0</td>\n",
       "      <td>0</td>\n",
       "      <td>0</td>\n",
       "      <td>0</td>\n",
       "      <td>0</td>\n",
       "      <td>0</td>\n",
       "      <td>0</td>\n",
       "    </tr>\n",
       "    <tr>\n",
       "      <th>3</th>\n",
       "      <td>0</td>\n",
       "      <td>0.208237</td>\n",
       "      <td>7079</td>\n",
       "      <td>0</td>\n",
       "      <td>1</td>\n",
       "      <td>1</td>\n",
       "      <td>1</td>\n",
       "      <td>0</td>\n",
       "      <td>0</td>\n",
       "      <td>0</td>\n",
       "      <td>0</td>\n",
       "      <td>0</td>\n",
       "      <td>0</td>\n",
       "      <td>0</td>\n",
       "      <td>0</td>\n",
       "    </tr>\n",
       "    <tr>\n",
       "      <th>4</th>\n",
       "      <td>1</td>\n",
       "      <td>0.136888</td>\n",
       "      <td>5655</td>\n",
       "      <td>0</td>\n",
       "      <td>1</td>\n",
       "      <td>1</td>\n",
       "      <td>0</td>\n",
       "      <td>0</td>\n",
       "      <td>0</td>\n",
       "      <td>0</td>\n",
       "      <td>0</td>\n",
       "      <td>0</td>\n",
       "      <td>0</td>\n",
       "      <td>0</td>\n",
       "      <td>0</td>\n",
       "    </tr>\n",
       "  </tbody>\n",
       "</table>\n",
       "</div>"
      ],
      "text/plain": [
       "   Converted  Converted_Prob  Lead Number  ...  0.8  0.9  final_predicted\n",
       "0          1        0.676034         3241  ...    0    0                1\n",
       "1          1        0.305287         5315  ...    0    0                0\n",
       "2          0        0.272307         4039  ...    0    0                0\n",
       "3          0        0.208237         7079  ...    0    0                0\n",
       "4          1        0.136888         5655  ...    0    0                0\n",
       "\n",
       "[5 rows x 15 columns]"
      ]
     },
     "execution_count": 263,
     "metadata": {},
     "output_type": "execute_result"
    }
   ],
   "source": [
    "y_train_pred_final['final_predicted'] = y_train_pred_final.Converted_Prob.map( lambda x: 1 if x > 0.42 else 0)\n",
    "y_train_pred_final.head()"
   ]
  },
  {
   "cell_type": "code",
   "execution_count": 266,
   "metadata": {},
   "outputs": [
    {
     "name": "stdout",
     "output_type": "stream",
     "text": [
      "Accuracy: 0.7929808286951144, Sensitivity 0.7630218687872763, specifitiy 0.8120414874778649  \n"
     ]
    }
   ],
   "source": [
    "# Printing the Metrics Accuracy, Sensitivity, Specicity\n",
    "acc,sensi,speci=metrices_(y_train_pred_final.Converted,y_train_pred_final.final_predicted)\n",
    "print('Accuracy: {}, Sensitivity {}, specifitiy {}  '.format(acc,sensi,speci))"
   ]
  },
  {
   "cell_type": "code",
   "execution_count": 267,
   "metadata": {},
   "outputs": [
    {
     "data": {
      "text/plain": [
       "array([[3504,  449],\n",
       "       [ 918, 1597]])"
      ]
     },
     "execution_count": 267,
     "metadata": {},
     "output_type": "execute_result"
    }
   ],
   "source": [
    "confusion = metrics.confusion_matrix(y_train_pred_final.Converted, y_train_pred_final.Converted_pred )\n",
    "confusion"
   ]
  },
  {
   "cell_type": "code",
   "execution_count": 268,
   "metadata": {
    "scrolled": true
   },
   "outputs": [
    {
     "data": {
      "text/plain": [
       "0.7208865514650639"
      ]
     },
     "execution_count": 268,
     "metadata": {},
     "output_type": "execute_result"
    }
   ],
   "source": [
    "# Finding the Precision Score\n",
    "precision_score(y_train_pred_final.Converted, y_train_pred_final.final_predicted)"
   ]
  },
  {
   "cell_type": "code",
   "execution_count": 269,
   "metadata": {},
   "outputs": [
    {
     "data": {
      "text/plain": [
       "0.7630218687872763"
      ]
     },
     "execution_count": 269,
     "metadata": {},
     "output_type": "execute_result"
    }
   ],
   "source": [
    "# Finding the Recall Score\n",
    "recall_score(y_train_pred_final.Converted, y_train_pred_final.final_predicted)"
   ]
  },
  {
   "cell_type": "code",
   "execution_count": 270,
   "metadata": {},
   "outputs": [],
   "source": [
    "p, r, thresholds = precision_recall_curve(y_train_pred_final.Converted, y_train_pred_final.Converted_Prob)"
   ]
  },
  {
   "cell_type": "code",
   "execution_count": 271,
   "metadata": {},
   "outputs": [
    {
     "data": {
      "image/png": "[encoded data removed]",
      "text/plain": [
       "<Figure size 640x480 with 1 Axes>"
      ]
     },
     "metadata": {},
     "output_type": "display_data"
    }
   ],
   "source": [
    "plt.plot(thresholds, p[:-1], \"g-\",label='Precision')\n",
    "plt.plot(thresholds, r[:-1], \"r-\",label='Recall')\n",
    "# plt.savefig('precision-recall_curve',dpi=300,transparent=True)\n",
    "plt.show()"
   ]
  },
  {
   "cell_type": "markdown",
   "metadata": {},
   "source": [
    "Here we got 0.42 as the Cut-off as Precesion-Recall Thresholdm"
   ]
  },
  {
   "cell_type": "markdown",
   "metadata": {},
   "source": [
    "# Making Prediction on test set"
   ]
  },
  {
   "cell_type": "markdown",
   "metadata": {},
   "source": [
    "Scaling on Test Set"
   ]
  },
  {
   "cell_type": "code",
   "execution_count": 272,
   "metadata": {},
   "outputs": [],
   "source": [
    "X_test[['Total Time Spent on Website','Page Views Per Visit','TotalVisits']]=scaler.transform(X_test[['Total Time Spent on Website','Page Views Per Visit','TotalVisits']])"
   ]
  },
  {
   "cell_type": "code",
   "execution_count": 273,
   "metadata": {},
   "outputs": [
    {
     "data": {
      "text/plain": [
       "2018    0.359624\n",
       "8181    0.918861\n",
       "2032    0.209267\n",
       "529     0.290911\n",
       "3641    0.780502\n",
       "2770    0.705353\n",
       "8954    0.466037\n",
       "1361    0.121597\n",
       "7916   -0.090096\n",
       "6790   -0.008681\n",
       "dtype: object"
      ]
     },
     "execution_count": 273,
     "metadata": {},
     "output_type": "execute_result"
    }
   ],
   "source": [
    "#Adding constant\n",
    "X_test_sm = sm.add_constant(X_test[col])\n",
    "#Making prediction\n",
    "y_test_pred = logm6.predict(X_test_sm)\n",
    "y_test_pred[:10]"
   ]
  },
  {
   "cell_type": "code",
   "execution_count": 274,
   "metadata": {},
   "outputs": [],
   "source": [
    "# Converting y_pred to a dataframe which is an array\n",
    "y_pred_test = pd.DataFrame(y_test_pred)\n",
    "# Converting y_test to dataframe\n",
    "y_test_df = pd.DataFrame(y_test)\n",
    "y_test_df['Lead Number'] = y_test_df.index"
   ]
  },
  {
   "cell_type": "code",
   "execution_count": 275,
   "metadata": {},
   "outputs": [],
   "source": [
    "# Removing index for both dataframes to append them side by side \n",
    "y_pred_test.reset_index(drop=True, inplace=True)\n",
    "y_test_df.reset_index(drop=True, inplace=True)"
   ]
  },
  {
   "cell_type": "code",
   "execution_count": 276,
   "metadata": {},
   "outputs": [],
   "source": [
    "# Appending y_test_df and y_pred_test\n",
    "y_pred_final = pd.concat([y_test_df, y_pred_test],axis=1)\n",
    "# Renaming the column \n",
    "y_pred_final= y_pred_final.rename(columns={ 0 : 'Converted_Prob'})"
   ]
  },
  {
   "cell_type": "code",
   "execution_count": 277,
   "metadata": {},
   "outputs": [
    {
     "data": {
      "text/html": [
       "<div>\n",
       "<style scoped>\n",
       "    .dataframe tbody tr th:only-of-type {\n",
       "        vertical-align: middle;\n",
       "    }\n",
       "\n",
       "    .dataframe tbody tr th {\n",
       "        vertical-align: top;\n",
       "    }\n",
       "\n",
       "    .dataframe thead th {\n",
       "        text-align: right;\n",
       "    }\n",
       "</style>\n",
       "<table border=\"1\" class=\"dataframe\">\n",
       "  <thead>\n",
       "    <tr style=\"text-align: right;\">\n",
       "      <th></th>\n",
       "      <th>Converted</th>\n",
       "      <th>Lead Number</th>\n",
       "      <th>Converted_Prob</th>\n",
       "    </tr>\n",
       "  </thead>\n",
       "  <tbody>\n",
       "    <tr>\n",
       "      <th>0</th>\n",
       "      <td>1</td>\n",
       "      <td>2018</td>\n",
       "      <td>0.359624</td>\n",
       "    </tr>\n",
       "    <tr>\n",
       "      <th>1</th>\n",
       "      <td>0</td>\n",
       "      <td>8181</td>\n",
       "      <td>0.918861</td>\n",
       "    </tr>\n",
       "    <tr>\n",
       "      <th>2</th>\n",
       "      <td>1</td>\n",
       "      <td>2032</td>\n",
       "      <td>0.209267</td>\n",
       "    </tr>\n",
       "    <tr>\n",
       "      <th>3</th>\n",
       "      <td>1</td>\n",
       "      <td>529</td>\n",
       "      <td>0.290911</td>\n",
       "    </tr>\n",
       "    <tr>\n",
       "      <th>4</th>\n",
       "      <td>1</td>\n",
       "      <td>3641</td>\n",
       "      <td>0.780502</td>\n",
       "    </tr>\n",
       "  </tbody>\n",
       "</table>\n",
       "</div>"
      ],
      "text/plain": [
       "   Converted  Lead Number Converted_Prob\n",
       "0          1         2018       0.359624\n",
       "1          0         8181       0.918861\n",
       "2          1         2032       0.209267\n",
       "3          1          529       0.290911\n",
       "4          1         3641       0.780502"
      ]
     },
     "execution_count": 277,
     "metadata": {},
     "output_type": "execute_result"
    }
   ],
   "source": [
    "y_pred_final.head()"
   ]
  },
  {
   "cell_type": "code",
   "execution_count": 278,
   "metadata": {},
   "outputs": [],
   "source": [
    "y_pred_final['final_test_predicted'] = y_pred_final.Converted_Prob.map(lambda x: 1 if x > 0.42 else 0)"
   ]
  },
  {
   "cell_type": "code",
   "execution_count": 279,
   "metadata": {},
   "outputs": [
    {
     "data": {
      "text/html": [
       "<div>\n",
       "<style scoped>\n",
       "    .dataframe tbody tr th:only-of-type {\n",
       "        vertical-align: middle;\n",
       "    }\n",
       "\n",
       "    .dataframe tbody tr th {\n",
       "        vertical-align: top;\n",
       "    }\n",
       "\n",
       "    .dataframe thead th {\n",
       "        text-align: right;\n",
       "    }\n",
       "</style>\n",
       "<table border=\"1\" class=\"dataframe\">\n",
       "  <thead>\n",
       "    <tr style=\"text-align: right;\">\n",
       "      <th></th>\n",
       "      <th>Converted</th>\n",
       "      <th>Lead Number</th>\n",
       "      <th>Converted_Prob</th>\n",
       "      <th>final_test_predicted</th>\n",
       "    </tr>\n",
       "  </thead>\n",
       "  <tbody>\n",
       "    <tr>\n",
       "      <th>0</th>\n",
       "      <td>1</td>\n",
       "      <td>2018</td>\n",
       "      <td>0.359624</td>\n",
       "      <td>0</td>\n",
       "    </tr>\n",
       "    <tr>\n",
       "      <th>1</th>\n",
       "      <td>0</td>\n",
       "      <td>8181</td>\n",
       "      <td>0.918861</td>\n",
       "      <td>1</td>\n",
       "    </tr>\n",
       "    <tr>\n",
       "      <th>2</th>\n",
       "      <td>1</td>\n",
       "      <td>2032</td>\n",
       "      <td>0.209267</td>\n",
       "      <td>0</td>\n",
       "    </tr>\n",
       "    <tr>\n",
       "      <th>3</th>\n",
       "      <td>1</td>\n",
       "      <td>529</td>\n",
       "      <td>0.290911</td>\n",
       "      <td>0</td>\n",
       "    </tr>\n",
       "    <tr>\n",
       "      <th>4</th>\n",
       "      <td>1</td>\n",
       "      <td>3641</td>\n",
       "      <td>0.780502</td>\n",
       "      <td>1</td>\n",
       "    </tr>\n",
       "  </tbody>\n",
       "</table>\n",
       "</div>"
      ],
      "text/plain": [
       "   Converted  Lead Number Converted_Prob  final_test_predicted\n",
       "0          1         2018       0.359624                     0\n",
       "1          0         8181       0.918861                     1\n",
       "2          1         2032       0.209267                     0\n",
       "3          1          529       0.290911                     0\n",
       "4          1         3641       0.780502                     1"
      ]
     },
     "execution_count": 279,
     "metadata": {},
     "output_type": "execute_result"
    }
   ],
   "source": [
    "y_pred_final.head()"
   ]
  },
  {
   "cell_type": "code",
   "execution_count": 280,
   "metadata": {},
   "outputs": [],
   "source": [
    "acc,sensi,speci=metrices_(y_pred_final.Converted,y_pred_final.final_test_predicted)"
   ]
  },
  {
   "cell_type": "code",
   "execution_count": null,
   "metadata": {},
   "outputs": [
    {
     "name": "stdout",
     "output_type": "stream",
     "text": [
      "Accuracy: 0.6948051948051948, Sensitivity 0.2648401826484018, specitiy 0.975551580202743  \n"
     ]
    }
   ],
   "source": [
    "print('Accuracy: {}, Sensitivity {}, specitiy {}  '.format(acc,sensi,speci))"
   ]
  },
  {
   "cell_type": "markdown",
   "metadata": {},
   "source": [
    "- We can see that our model is doing well in test set also\n",
    "- Sensitivity means how our model is telling that actually converted and model prdecited them as as converted. \n",
    "- We can see that our     model is giving about .80 sensitivity.\n",
    "- it means that 80 percent time our model is able to predict (actually)converted as (prdicited)converted."
   ]
  },
  {
   "cell_type": "markdown",
   "metadata": {},
   "source": [
    "### Assigning Lead Score in the data frame with respect to Lead Number "
   ]
  },
  {
   "cell_type": "code",
   "execution_count": null,
   "metadata": {},
   "outputs": [],
   "source": [
    "# making new df with lead score\n",
    "lead_scorer_df=pd.DataFrame()\n",
    "df1=y_train_pred_final[['Lead Number','Converted_Prob']]\n",
    "df2=y_pred_final[['Lead Number','Converted_Prob']]"
   ]
  },
  {
   "cell_type": "code",
   "execution_count": null,
   "metadata": {},
   "outputs": [],
   "source": [
    "lead_scorer_df=pd.concat([df1, df2], ignore_index=True)"
   ]
  },
  {
   "cell_type": "code",
   "execution_count": null,
   "metadata": {},
   "outputs": [],
   "source": [
    "# Assigning the value to the Lead Score by Multiplying 100\n",
    "lead_scorer_df['Lead Score']=lead_scorer_df['Converted_Prob'].apply(lambda x: round((x*100),2))"
   ]
  },
  {
   "cell_type": "code",
   "execution_count": null,
   "metadata": {},
   "outputs": [
    {
     "data": {
      "text/html": [
       "<div>\n",
       "<style scoped>\n",
       "    .dataframe tbody tr th:only-of-type {\n",
       "        vertical-align: middle;\n",
       "    }\n",
       "\n",
       "    .dataframe tbody tr th {\n",
       "        vertical-align: top;\n",
       "    }\n",
       "\n",
       "    .dataframe thead th {\n",
       "        text-align: right;\n",
       "    }\n",
       "</style>\n",
       "<table border=\"1\" class=\"dataframe\">\n",
       "  <thead>\n",
       "    <tr style=\"text-align: right;\">\n",
       "      <th></th>\n",
       "      <th>Lead Number</th>\n",
       "      <th>Lead Score</th>\n",
       "    </tr>\n",
       "  </thead>\n",
       "  <tbody>\n",
       "    <tr>\n",
       "      <th>0</th>\n",
       "      <td>5261</td>\n",
       "      <td>17.66</td>\n",
       "    </tr>\n",
       "    <tr>\n",
       "      <th>1</th>\n",
       "      <td>2901</td>\n",
       "      <td>5.40</td>\n",
       "    </tr>\n",
       "    <tr>\n",
       "      <th>2</th>\n",
       "      <td>6969</td>\n",
       "      <td>1.61</td>\n",
       "    </tr>\n",
       "    <tr>\n",
       "      <th>3</th>\n",
       "      <td>1256</td>\n",
       "      <td>18.11</td>\n",
       "    </tr>\n",
       "    <tr>\n",
       "      <th>4</th>\n",
       "      <td>1554</td>\n",
       "      <td>2.83</td>\n",
       "    </tr>\n",
       "  </tbody>\n",
       "</table>\n",
       "</div>"
      ],
      "text/plain": [
       "   Lead Number  Lead Score\n",
       "0         5261       17.66\n",
       "1         2901        5.40\n",
       "2         6969        1.61\n",
       "3         1256       18.11\n",
       "4         1554        2.83"
      ]
     },
     "execution_count": 211,
     "metadata": {},
     "output_type": "execute_result"
    }
   ],
   "source": [
    "# dropping Converted_Prob\n",
    "lead_scorer_df.drop('Converted_Prob',axis=1,inplace=True)\n",
    "lead_scorer_df.head()"
   ]
  },
  {
   "cell_type": "markdown",
   "metadata": {},
   "source": [
    "- Got the Lead Score with respect to Lead Number"
   ]
  }
 ],
 "metadata": {
  "kernelspec": {
   "display_name": "base",
   "language": "python",
   "name": "python3"
  },
  "language_info": {
   "codemirror_mode": {
    "name": "ipython",
    "version": 3
   },
   "file_extension": ".py",
   "mimetype": "text/x-python",
   "name": "python",
   "nbconvert_exporter": "python",
   "pygments_lexer": "ipython3",
   "version": "3.12.4"
  }
 },
 "nbformat": 4,
 "nbformat_minor": 4
}
